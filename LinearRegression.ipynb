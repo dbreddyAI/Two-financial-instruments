{
 "cells": [
  {
   "cell_type": "code",
   "execution_count": 8,
   "metadata": {},
   "outputs": [],
   "source": [
    "import pandas as pd\n",
    "from datetime import datetime\n",
    "\n",
    "import numpy as np\n",
    "\n",
    "import matplotlib.pylab as plt\n",
    "%matplotlib inline\n",
    "\n",
    "from tqdm import tqdm, tqdm_notebook\n",
    "pd.set_option(\"display.max_rows\", 100)\n",
    "pd.set_option('display.max_columns', 200)\n",
    "\n",
    "from sklearn.linear_model import LinearRegression, ElasticNet, Ridge\n",
    "fname = 'data.csv'\n",
    "\n",
    "def init_data(fname):\n",
    "    data = pd.read_csv('data.csv')\n",
    "#     data.xprice = (data.xprice - data.xprice.min()) #/ data.xprice.std() \n",
    "#     data.yprice = (data.yprice - data.yprice.min()) #/ data.yprice.std() \n",
    "    data['timestamp'] = data['timestamp'] // 1000\n",
    "    data.timestamp = data.timestamp.apply(lambda stamp: datetime.fromtimestamp(stamp))\n",
    "    data.timestamp = data.timestamp - pd.Timedelta(hours=1) # for flexibility\n",
    "    data['weekday'] = data.timestamp.dt.weekday\n",
    "    data['day'] = (data.timestamp.dt.date - data.timestamp.dt.date.min()).apply(lambda x: int(x.days))\n",
    "    day_close_time = data.day.map(data.groupby('day').timestamp.max())\n",
    "    data['periods_before_closing'] = (day_close_time - data.timestamp).apply(lambda x: x.seconds // 10) \n",
    "    return data\n",
    "    \n",
    "def time_split(data, valid_ratio, test_ratio):\n",
    "    n_valid = max(1, int(data.shape[0] * valid_ratio))\n",
    "    n_test = max(1, int(data.shape[0] * test_ratio))\n",
    "    n_train = data.shape[0] - n_valid - n_test\n",
    "    \n",
    "    train = data.iloc[:n_train].reset_index(drop=True).copy()\n",
    "    valid = data.iloc[n_train:-n_test].reset_index(drop=True).copy()\n",
    "    test = data.iloc[-n_test:].reset_index(drop=True).copy()\n",
    "    merged_test = valid.append(test).reset_index(drop=True)\n",
    "    print('Data shapes: ', train.shape, valid.shape, test.shape)\n",
    "    return train, valid, test"
   ]
  },
  {
   "cell_type": "code",
   "execution_count": 9,
   "metadata": {},
   "outputs": [],
   "source": [
    "def add_diffs(df, column, uselags):\n",
    "    new_columns = []\n",
    "    for lag in uselags:\n",
    "        colname = '{}_diff_{}'.format(column, lag)\n",
    "        df.loc[:, colname] = df[column].diff(lag)\n",
    "        new_columns.append(colname)\n",
    "    print(new_columns)\n",
    "    return new_columns\n",
    "\n",
    "def add_shifts(df, column, uselags):\n",
    "    new_columns = []\n",
    "    for lag in uselags:\n",
    "        colname = '{}_lag_{}'.format(column, lag)\n",
    "        df.loc[:, colname] = df[column].shift(lag)\n",
    "        new_columns.append(colname)\n",
    "    print(new_columns)\n",
    "    return new_columns\n",
    "\n",
    "def add_norm(df, column):\n",
    "    colname = '{}_norm'.format(column)\n",
    "    df.loc[:, colname] = (df[column] - df[column].mean()) / df[column].std()\n",
    "    return colname\n",
    "\n",
    "def add_rolling_mean(df, column, windows):\n",
    "    new_columns = []\n",
    "    for window_size in windows:\n",
    "        colname = '{}_ma_{}'.format(column, window_size)\n",
    "        df.loc[:, colname] = df[column].rolling(window=window_size).mean()\n",
    "        new_columns.append(colname)\n",
    "    print(new_columns)\n",
    "    return new_columns\n",
    "\n",
    "def add_curstom_rolling_operation(df, column, agg_function, function_name, windows):\n",
    "    new_columns = []\n",
    "    for window_size in windows:\n",
    "        colname = '{}_{}_{}'.format(column, function_name, window_size)\n",
    "        df.loc[:, colname] = df[column].rolling(window=window_size).agg(agg_function)\n",
    "        new_columns.append(colname)\n",
    "    print(new_columns)\n",
    "    return new_columns  \n",
    "\n",
    "def rsiFunc(prices, n=14):\n",
    "    deltas = np.diff(prices)\n",
    "    seed = deltas[:n+1]\n",
    "    up = seed[seed>=0].sum()/n\n",
    "    down = -seed[seed<0].sum()/n\n",
    "    rs = up/down\n",
    "    rsi = np.zeros_like(prices)\n",
    "    rsi[:n] = 100. - 100./(1.+rs)\n",
    "\n",
    "    for i in range(n, len(prices)):\n",
    "        delta = deltas[i-1] # cause the diff is 1 shorter\n",
    "\n",
    "        if delta>0:\n",
    "            upval = delta\n",
    "            downval = 0.\n",
    "        else:\n",
    "            upval = 0.\n",
    "            downval = -delta\n",
    "\n",
    "        up = (up*(n-1) + upval)/n\n",
    "        down = (down*(n-1) + downval)/n\n",
    "\n",
    "        rs = up/down\n",
    "        rsi[i] = 100. - 100./(1.+rs)\n",
    "\n",
    "    return rsi\n",
    "\n",
    "def add_rsi(df, column, windows):\n",
    "    new_columns = []\n",
    "    for window_size in windows:\n",
    "        colname = '{}_rsi_{}'.format(column, window_size)\n",
    "        df.loc[:, colname] = rsiFunc(df[column].values, window_size)\n",
    "        new_columns.append(colname)\n",
    "    print(new_columns)\n",
    "    return new_columns  \n",
    "\n",
    "def add_ewma(df, column, windows):\n",
    "    new_columns = []\n",
    "    for window_size in windows:\n",
    "        colname = '{}_ewma_{}'.format(column, window_size)\n",
    "        df.loc[:, colname] = pd.Series.ewm(df[column], span=window_size).mean()\n",
    "        new_columns.append(colname)\n",
    "    print(new_columns)\n",
    "    return new_columns \n",
    "\n"
   ]
  },
  {
   "cell_type": "code",
   "execution_count": 10,
   "metadata": {},
   "outputs": [],
   "source": [
    "def add_relation_features(df, ycol='yprice', xcol='xprice'):\n",
    "    df['yx_sub'] = df[ycol] - df[xcol]\n",
    "    df['yx_divided'] = df[ycol] / df[xcol]\n",
    "    df['xy_divided'] = df[xcol] / df[ycol]\n",
    "    new_cols = ['yx_sub', 'yx_divided', 'xy_divided']\n",
    "    return new_cols\n",
    "\n",
    "def add_hand_feats(df):\n",
    "    close_price_per_day = df.groupby('day').timestamp.max().shift(1).map(\n",
    "        df[['timestamp', 'yprice']].set_index('timestamp').yprice)\n",
    "    df.loc[:, 'ydiff_from_closing'] = (df.day.map(close_price_per_day) - df.yprice).fillna(0)\n",
    "    close_price_per_day = df.groupby('day').timestamp.max().shift(1).map(\n",
    "        df[['timestamp', 'xprice']].set_index('timestamp').xprice)\n",
    "    df.loc[:, 'xdiff_from_closing'] = (df.day.map(close_price_per_day) - df.yprice).fillna(0)\n",
    "    \n",
    "    open_price_per_day = df.groupby('day').timestamp.min().map(\n",
    "        df[['timestamp', 'yprice']].set_index('timestamp').yprice)\n",
    "    df.loc[:, 'ydiff_from_opening'] = (df.day.map(open_price_per_day) - df.yprice)\n",
    "    \n",
    "    open_price_per_day = df.groupby('day').timestamp.min().map(\n",
    "        df[['timestamp', 'xprice']].set_index('timestamp').xprice)\n",
    "    df.loc[:, 'xdiff_from_opening'] = (df.day.map(open_price_per_day) - df.xprice)\n",
    "    new_columns = ['ydiff_from_closing', 'xdiff_from_closing', 'ydiff_from_opening', 'xdiff_from_opening']\n",
    "    print(new_columns)\n",
    "    return new_columns"
   ]
  },
  {
   "cell_type": "code",
   "execution_count": 11,
   "metadata": {},
   "outputs": [
    {
     "data": {
      "text/html": [
       "<div>\n",
       "<style scoped>\n",
       "    .dataframe tbody tr th:only-of-type {\n",
       "        vertical-align: middle;\n",
       "    }\n",
       "\n",
       "    .dataframe tbody tr th {\n",
       "        vertical-align: top;\n",
       "    }\n",
       "\n",
       "    .dataframe thead th {\n",
       "        text-align: right;\n",
       "    }\n",
       "</style>\n",
       "<table border=\"1\" class=\"dataframe\">\n",
       "  <thead>\n",
       "    <tr style=\"text-align: right;\">\n",
       "      <th></th>\n",
       "      <th>timestamp</th>\n",
       "      <th>xprice</th>\n",
       "      <th>yprice</th>\n",
       "      <th>returns</th>\n",
       "      <th>weekday</th>\n",
       "      <th>day</th>\n",
       "      <th>periods_before_closing</th>\n",
       "    </tr>\n",
       "  </thead>\n",
       "  <tbody>\n",
       "    <tr>\n",
       "      <td>0</td>\n",
       "      <td>2013-01-03 20:05:00</td>\n",
       "      <td>139.8375</td>\n",
       "      <td>169.2500</td>\n",
       "      <td>0.3125</td>\n",
       "      <td>3</td>\n",
       "      <td>0</td>\n",
       "      <td>1409</td>\n",
       "    </tr>\n",
       "    <tr>\n",
       "      <td>1</td>\n",
       "      <td>2013-01-03 20:05:10</td>\n",
       "      <td>139.8875</td>\n",
       "      <td>169.3000</td>\n",
       "      <td>0.2750</td>\n",
       "      <td>3</td>\n",
       "      <td>0</td>\n",
       "      <td>1408</td>\n",
       "    </tr>\n",
       "    <tr>\n",
       "      <td>2</td>\n",
       "      <td>2013-01-03 20:05:20</td>\n",
       "      <td>139.8625</td>\n",
       "      <td>169.3375</td>\n",
       "      <td>0.2500</td>\n",
       "      <td>3</td>\n",
       "      <td>0</td>\n",
       "      <td>1407</td>\n",
       "    </tr>\n",
       "    <tr>\n",
       "      <td>3</td>\n",
       "      <td>2013-01-03 20:05:30</td>\n",
       "      <td>139.8375</td>\n",
       "      <td>169.3625</td>\n",
       "      <td>0.2375</td>\n",
       "      <td>3</td>\n",
       "      <td>0</td>\n",
       "      <td>1406</td>\n",
       "    </tr>\n",
       "    <tr>\n",
       "      <td>4</td>\n",
       "      <td>2013-01-03 20:05:40</td>\n",
       "      <td>139.8375</td>\n",
       "      <td>169.3625</td>\n",
       "      <td>0.3250</td>\n",
       "      <td>3</td>\n",
       "      <td>0</td>\n",
       "      <td>1405</td>\n",
       "    </tr>\n",
       "  </tbody>\n",
       "</table>\n",
       "</div>"
      ],
      "text/plain": [
       "            timestamp    xprice    yprice  returns  weekday  day  \\\n",
       "0 2013-01-03 20:05:00  139.8375  169.2500   0.3125        3    0   \n",
       "1 2013-01-03 20:05:10  139.8875  169.3000   0.2750        3    0   \n",
       "2 2013-01-03 20:05:20  139.8625  169.3375   0.2500        3    0   \n",
       "3 2013-01-03 20:05:30  139.8375  169.3625   0.2375        3    0   \n",
       "4 2013-01-03 20:05:40  139.8375  169.3625   0.3250        3    0   \n",
       "\n",
       "   periods_before_closing  \n",
       "0                    1409  \n",
       "1                    1408  \n",
       "2                    1407  \n",
       "3                    1406  \n",
       "4                    1405  "
      ]
     },
     "execution_count": 11,
     "metadata": {},
     "output_type": "execute_result"
    }
   ],
   "source": [
    "data = init_data(fname)\n",
    "data.head()"
   ]
  },
  {
   "cell_type": "code",
   "execution_count": 5,
   "metadata": {},
   "outputs": [],
   "source": [
    "from sklearn.linear_model import Ridge\n",
    "from sklearn.metrics import mean_squared_error, r2_score\n",
    "\n",
    "standart_calendar_lags = [6, 60, 360, 1410, 7050, 14100, 28200, 42300]\n",
    "qazy_calendar_lags = [6, 60, 360, 720, 1410, 2820, 7050, 14100, 28200, 42300]\n",
    "day_lags = 1410 * np.arange(1, 75)\n",
    "valid_ratio = 0.1\n",
    "test_ratio = 0.1"
   ]
  },
  {
   "cell_type": "code",
   "execution_count": 13,
   "metadata": {},
   "outputs": [
    {
     "data": {
      "text/plain": [
       "['yx_sub', 'yx_divided', 'xy_divided']"
      ]
     },
     "execution_count": 13,
     "metadata": {},
     "output_type": "execute_result"
    }
   ],
   "source": [
    "add_relation_features(data)"
   ]
  },
  {
   "cell_type": "code",
   "execution_count": 17,
   "metadata": {},
   "outputs": [
    {
     "data": {
      "image/png": "[encoded data removed]",
      "text/plain": [
       "<Figure size 1152x432 with 1 Axes>"
      ]
     },
     "metadata": {
      "needs_background": "light"
     },
     "output_type": "display_data"
    }
   ],
   "source": [
    "# data.returns.plot(figsize=(16,6))\n",
    "data.set_index('timestamp').yx_divided.plot(figsize=(16,6))\n",
    "plt.legend(loc='best')\n",
    "plt.show()"
   ]
  },
  {
   "cell_type": "code",
   "execution_count": 20,
   "metadata": {},
   "outputs": [
    {
     "ename": "TypeError",
     "evalue": "Only valid with DatetimeIndex, TimedeltaIndex or PeriodIndex, but got an instance of 'RangeIndex'",
     "output_type": "error",
     "traceback": [
      "\u001b[0;31m---------------------------------------------------------------------------\u001b[0m",
      "\u001b[0;31mTypeError\u001b[0m                                 Traceback (most recent call last)",
      "\u001b[0;32m<ipython-input-20-a5f1ee31be28>\u001b[0m in \u001b[0;36m<module>\u001b[0;34m\u001b[0m\n\u001b[1;32m      1\u001b[0m \u001b[0mdata\u001b[0m \u001b[0;34m=\u001b[0m \u001b[0mpd\u001b[0m\u001b[0;34m.\u001b[0m\u001b[0mread_csv\u001b[0m\u001b[0;34m(\u001b[0m\u001b[0;34m'data.csv'\u001b[0m\u001b[0;34m)\u001b[0m\u001b[0;34m\u001b[0m\u001b[0;34m\u001b[0m\u001b[0m\n\u001b[1;32m      2\u001b[0m \u001b[0mplt\u001b[0m\u001b[0;34m.\u001b[0m\u001b[0mfigure\u001b[0m\u001b[0;34m(\u001b[0m\u001b[0mfigsize\u001b[0m\u001b[0;34m=\u001b[0m\u001b[0;34m(\u001b[0m\u001b[0;36m22\u001b[0m\u001b[0;34m,\u001b[0m\u001b[0;36m10\u001b[0m\u001b[0;34m)\u001b[0m\u001b[0;34m)\u001b[0m\u001b[0;34m\u001b[0m\u001b[0;34m\u001b[0m\u001b[0m\n\u001b[0;32m----> 3\u001b[0;31m \u001b[0mplt\u001b[0m\u001b[0;34m.\u001b[0m\u001b[0mplot\u001b[0m\u001b[0;34m(\u001b[0m\u001b[0;34m(\u001b[0m\u001b[0mdata\u001b[0m\u001b[0;34m.\u001b[0m\u001b[0myprice\u001b[0m\u001b[0;34m.\u001b[0m\u001b[0mresample\u001b[0m\u001b[0;34m(\u001b[0m\u001b[0;34m'60S'\u001b[0m\u001b[0;34m)\u001b[0m\u001b[0;34m.\u001b[0m\u001b[0mmin\u001b[0m\u001b[0;34m(\u001b[0m\u001b[0;34m)\u001b[0m\u001b[0;34m)\u001b[0m \u001b[0;34m/\u001b[0m \u001b[0;34m(\u001b[0m\u001b[0mdata\u001b[0m\u001b[0;34m.\u001b[0m\u001b[0mxprice\u001b[0m\u001b[0;34m.\u001b[0m\u001b[0mresample\u001b[0m\u001b[0;34m(\u001b[0m\u001b[0;34m'60S'\u001b[0m\u001b[0;34m)\u001b[0m\u001b[0;34m.\u001b[0m\u001b[0mmin\u001b[0m\u001b[0;34m(\u001b[0m\u001b[0;34m)\u001b[0m\u001b[0;34m)\u001b[0m \u001b[0;34m)\u001b[0m\u001b[0;34m\u001b[0m\u001b[0;34m\u001b[0m\u001b[0m\n\u001b[0m",
      "\u001b[0;32m~/.local/lib/python3.6/site-packages/pandas/core/generic.py\u001b[0m in \u001b[0;36mresample\u001b[0;34m(self, rule, how, axis, fill_method, closed, label, convention, kind, loffset, limit, base, on, level)\u001b[0m\n\u001b[1;32m   8447\u001b[0m             \u001b[0mbase\u001b[0m\u001b[0;34m=\u001b[0m\u001b[0mbase\u001b[0m\u001b[0;34m,\u001b[0m\u001b[0;34m\u001b[0m\u001b[0;34m\u001b[0m\u001b[0m\n\u001b[1;32m   8448\u001b[0m             \u001b[0mkey\u001b[0m\u001b[0;34m=\u001b[0m\u001b[0mon\u001b[0m\u001b[0;34m,\u001b[0m\u001b[0;34m\u001b[0m\u001b[0;34m\u001b[0m\u001b[0m\n\u001b[0;32m-> 8449\u001b[0;31m             \u001b[0mlevel\u001b[0m\u001b[0;34m=\u001b[0m\u001b[0mlevel\u001b[0m\u001b[0;34m,\u001b[0m\u001b[0;34m\u001b[0m\u001b[0;34m\u001b[0m\u001b[0m\n\u001b[0m\u001b[1;32m   8450\u001b[0m         )\n\u001b[1;32m   8451\u001b[0m         return _maybe_process_deprecations(\n",
      "\u001b[0;32m~/.local/lib/python3.6/site-packages/pandas/core/resample.py\u001b[0m in \u001b[0;36mresample\u001b[0;34m(obj, kind, **kwds)\u001b[0m\n\u001b[1;32m   1304\u001b[0m     \"\"\"\n\u001b[1;32m   1305\u001b[0m     \u001b[0mtg\u001b[0m \u001b[0;34m=\u001b[0m \u001b[0mTimeGrouper\u001b[0m\u001b[0;34m(\u001b[0m\u001b[0;34m**\u001b[0m\u001b[0mkwds\u001b[0m\u001b[0;34m)\u001b[0m\u001b[0;34m\u001b[0m\u001b[0;34m\u001b[0m\u001b[0m\n\u001b[0;32m-> 1306\u001b[0;31m     \u001b[0;32mreturn\u001b[0m \u001b[0mtg\u001b[0m\u001b[0;34m.\u001b[0m\u001b[0m_get_resampler\u001b[0m\u001b[0;34m(\u001b[0m\u001b[0mobj\u001b[0m\u001b[0;34m,\u001b[0m \u001b[0mkind\u001b[0m\u001b[0;34m=\u001b[0m\u001b[0mkind\u001b[0m\u001b[0;34m)\u001b[0m\u001b[0;34m\u001b[0m\u001b[0;34m\u001b[0m\u001b[0m\n\u001b[0m\u001b[1;32m   1307\u001b[0m \u001b[0;34m\u001b[0m\u001b[0m\n\u001b[1;32m   1308\u001b[0m \u001b[0;34m\u001b[0m\u001b[0m\n",
      "\u001b[0;32m~/.local/lib/python3.6/site-packages/pandas/core/resample.py\u001b[0m in \u001b[0;36m_get_resampler\u001b[0;34m(self, obj, kind)\u001b[0m\n\u001b[1;32m   1441\u001b[0m             \u001b[0;34m\"Only valid with DatetimeIndex, \"\u001b[0m\u001b[0;34m\u001b[0m\u001b[0;34m\u001b[0m\u001b[0m\n\u001b[1;32m   1442\u001b[0m             \u001b[0;34m\"TimedeltaIndex or PeriodIndex, \"\u001b[0m\u001b[0;34m\u001b[0m\u001b[0;34m\u001b[0m\u001b[0m\n\u001b[0;32m-> 1443\u001b[0;31m             \u001b[0;34m\"but got an instance of %r\"\u001b[0m \u001b[0;34m%\u001b[0m \u001b[0mtype\u001b[0m\u001b[0;34m(\u001b[0m\u001b[0max\u001b[0m\u001b[0;34m)\u001b[0m\u001b[0;34m.\u001b[0m\u001b[0m__name__\u001b[0m\u001b[0;34m\u001b[0m\u001b[0;34m\u001b[0m\u001b[0m\n\u001b[0m\u001b[1;32m   1444\u001b[0m         )\n\u001b[1;32m   1445\u001b[0m \u001b[0;34m\u001b[0m\u001b[0m\n",
      "\u001b[0;31mTypeError\u001b[0m: Only valid with DatetimeIndex, TimedeltaIndex or PeriodIndex, but got an instance of 'RangeIndex'"
     ]
    },
    {
     "data": {
      "text/plain": [
       "<Figure size 1584x720 with 0 Axes>"
      ]
     },
     "metadata": {},
     "output_type": "display_data"
    }
   ],
   "source": [
    "data = pd.read_csv('data.csv')\n",
    "plt.figure(figsize=(22,10))\n",
    "plt.plot((data.yprice.resample('60S').min()) / (data.xprice.resample('60S').min()) )"
   ]
  },
  {
   "cell_type": "code",
   "execution_count": 30,
   "metadata": {},
   "outputs": [
    {
     "data": {
      "text/html": [
       "<div>\n",
       "<style scoped>\n",
       "    .dataframe tbody tr th:only-of-type {\n",
       "        vertical-align: middle;\n",
       "    }\n",
       "\n",
       "    .dataframe tbody tr th {\n",
       "        vertical-align: top;\n",
       "    }\n",
       "\n",
       "    .dataframe thead th {\n",
       "        text-align: right;\n",
       "    }\n",
       "</style>\n",
       "<table border=\"1\" class=\"dataframe\">\n",
       "  <thead>\n",
       "    <tr style=\"text-align: right;\">\n",
       "      <th></th>\n",
       "      <th>timestamp</th>\n",
       "      <th>xprice</th>\n",
       "      <th>yprice</th>\n",
       "      <th>returns</th>\n",
       "    </tr>\n",
       "    <tr>\n",
       "      <th>timestamp</th>\n",
       "      <th></th>\n",
       "      <th></th>\n",
       "      <th></th>\n",
       "      <th></th>\n",
       "    </tr>\n",
       "  </thead>\n",
       "  <tbody>\n",
       "    <tr>\n",
       "      <td>2013-01-03 20:05:00</td>\n",
       "      <td>2013-01-03 20:05:00</td>\n",
       "      <td>139.8375</td>\n",
       "      <td>169.2500</td>\n",
       "      <td>0.3125</td>\n",
       "    </tr>\n",
       "    <tr>\n",
       "      <td>2013-01-03 20:05:10</td>\n",
       "      <td>2013-01-03 20:05:10</td>\n",
       "      <td>139.8875</td>\n",
       "      <td>169.3000</td>\n",
       "      <td>0.2750</td>\n",
       "    </tr>\n",
       "    <tr>\n",
       "      <td>2013-01-03 20:05:20</td>\n",
       "      <td>2013-01-03 20:05:20</td>\n",
       "      <td>139.8625</td>\n",
       "      <td>169.3375</td>\n",
       "      <td>0.2500</td>\n",
       "    </tr>\n",
       "    <tr>\n",
       "      <td>2013-01-03 20:05:30</td>\n",
       "      <td>2013-01-03 20:05:30</td>\n",
       "      <td>139.8375</td>\n",
       "      <td>169.3625</td>\n",
       "      <td>0.2375</td>\n",
       "    </tr>\n",
       "    <tr>\n",
       "      <td>2013-01-03 20:05:40</td>\n",
       "      <td>2013-01-03 20:05:40</td>\n",
       "      <td>139.8375</td>\n",
       "      <td>169.3625</td>\n",
       "      <td>0.3250</td>\n",
       "    </tr>\n",
       "  </tbody>\n",
       "</table>\n",
       "</div>"
      ],
      "text/plain": [
       "                              timestamp    xprice    yprice  returns\n",
       "timestamp                                                           \n",
       "2013-01-03 20:05:00 2013-01-03 20:05:00  139.8375  169.2500   0.3125\n",
       "2013-01-03 20:05:10 2013-01-03 20:05:10  139.8875  169.3000   0.2750\n",
       "2013-01-03 20:05:20 2013-01-03 20:05:20  139.8625  169.3375   0.2500\n",
       "2013-01-03 20:05:30 2013-01-03 20:05:30  139.8375  169.3625   0.2375\n",
       "2013-01-03 20:05:40 2013-01-03 20:05:40  139.8375  169.3625   0.3250"
      ]
     },
     "execution_count": 30,
     "metadata": {},
     "output_type": "execute_result"
    }
   ],
   "source": [
    "data = pd.read_csv('data.csv')\n",
    "data['timestamp'] = data['timestamp'] // 1000\n",
    "data.timestamp = data.timestamp.apply(lambda stamp: datetime.fromtimestamp(stamp))\n",
    "data.timestamp = data.timestamp - pd.Timedelta(hours=1) # for flexibility\n",
    "data.index = data.timestamp\n",
    "data.head()"
   ]
  },
  {
   "cell_type": "code",
   "execution_count": 32,
   "metadata": {},
   "outputs": [
    {
     "data": {
      "text/plain": [
       "timestamp\n",
       "2013-01-03 20:05:00    169.2500\n",
       "2013-01-03 20:06:00    169.2750\n",
       "2013-01-03 20:07:00    169.2750\n",
       "2013-01-03 20:08:00    169.3375\n",
       "2013-01-03 20:09:00    169.3375\n",
       "                         ...   \n",
       "2013-12-30 23:55:00    167.9500\n",
       "2013-12-30 23:56:00    167.9375\n",
       "2013-12-30 23:57:00    167.9250\n",
       "2013-12-30 23:58:00    167.9250\n",
       "2013-12-30 23:59:00    167.8500\n",
       "Freq: 60S, Name: yprice, Length: 520075, dtype: float64"
      ]
     },
     "execution_count": 32,
     "metadata": {},
     "output_type": "execute_result"
    }
   ],
   "source": [
    "data.yprice.resample('60S').min()"
   ]
  },
  {
   "cell_type": "code",
   "execution_count": null,
   "metadata": {},
   "outputs": [],
   "source": [
    "plt.figure(figsize=(22,10))\n",
    "plt.plot((data.yprice.resample('60S').min()) / (data.xprice.resample('60S').min()) )"
   ]
  }
 ],
 "metadata": {
  "kernelspec": {
   "display_name": "Python 3",
   "language": "python",
   "name": "python3"
  },
  "language_info": {
   "codemirror_mode": {
    "name": "ipython",
    "version": 3
   },
   "file_extension": ".py",
   "mimetype": "text/x-python",
   "name": "python",
   "nbconvert_exporter": "python",
   "pygments_lexer": "ipython3",
   "version": "3.6.8"
  }
 },
 "nbformat": 4,
 "nbformat_minor": 2
}
