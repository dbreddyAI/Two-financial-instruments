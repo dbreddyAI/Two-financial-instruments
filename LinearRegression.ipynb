{
 "cells": [
  {
   "cell_type": "code",
   "execution_count": 19,
   "metadata": {},
   "outputs": [],
   "source": [
    "import pandas as pd\n",
    "from datetime import datetime\n",
    "\n",
    "import numpy as np\n",
    "\n",
    "import matplotlib.pylab as plt\n",
    "%matplotlib inline\n",
    "\n",
    "from tqdm import tqdm, tqdm_notebook\n",
    "pd.set_option(\"display.max_rows\", 100)\n",
    "pd.set_option('display.max_columns', 200)\n",
    "\n",
    "from sklearn.metrics import mean_squared_error, r2_score\n",
    "from sklearn.linear_model import LinearRegression, ElasticNet, Ridge\n",
    "fname = 'data.csv'\n",
    "\n",
    "def init_data(fname):\n",
    "    data = pd.read_csv('data.csv')\n",
    "    data['yx_spread'] = data.yprice - data.xprice\n",
    "    data['yx_relation'] = data.yprice / data.xprice\n",
    "    data['xy_relation'] = data.xprice / data.yprice\n",
    "    data['xy_geom'] = np.sqrt(data.xprice * data.yprice)\n",
    "    data['xy_garmonic'] = 2 / (1 / data.xprice + 1 / data.yprice)\n",
    "    \n",
    "#     data.xprice = (data.xprice - data.xprice.min())# / data.xprice.std() \n",
    "#     data.yprice = (data.yprice - data.yprice.min())# / data.yprice.std() \n",
    "    data['timestamp'] = data['timestamp'] // 1000\n",
    "    data['timestamp'] = data['timestamp'].apply(lambda stamp: datetime.fromtimestamp(stamp))\n",
    "    data['timestamp'] = data['timestamp'] - pd.Timedelta(hours=1) # for flexibility\n",
    "    data.index = data['timestamp']\n",
    "    \n",
    "    data['weekday'] = data.timestamp.dt.weekday\n",
    "    data['day'] = (data.timestamp.dt.date - data.timestamp.dt.date.min()).apply(lambda x: int(x.days))\n",
    "    day_close_time = data.day.map(data.groupby('day').timestamp.max())\n",
    "    data['periods_before_closing'] = (day_close_time - data.timestamp).apply(lambda x: x.seconds // 10)\n",
    "    day_open_time = data.day.map(data.groupby('day').timestamp.min())\n",
    "    data['periods_after_opening'] = (data.timestamp - day_open_time).apply(lambda x: x.seconds // 10)\n",
    "#     data.drop('timestamp', 1, inplace=True)\n",
    "    return data\n",
    "    \n",
    "def time_split(data, valid_ratio, test_ratio):\n",
    "    n_valid = max(1, int(data.shape[0] * valid_ratio))\n",
    "    n_test = max(1, int(data.shape[0] * test_ratio))\n",
    "    n_train = data.shape[0] - n_valid - n_test\n",
    "    \n",
    "    train = data.iloc[:n_train].reset_index(drop=True).copy()\n",
    "    valid = data.iloc[n_train:-n_test].reset_index(drop=True).copy()\n",
    "    test = data.iloc[-n_test:].reset_index(drop=True).copy()\n",
    "    merged_test = valid.append(test).reset_index(drop=True)\n",
    "    print('Data shapes: ', train.shape, valid.shape, test.shape)\n",
    "    return train, valid, test"
   ]
  },
  {
   "cell_type": "code",
   "execution_count": 72,
   "metadata": {},
   "outputs": [],
   "source": [
    "def add_diffs(df, column, uselags):\n",
    "    new_columns = []\n",
    "    for lag in uselags:\n",
    "        colname = '{}_diff_{}'.format(column, lag)\n",
    "        df.loc[:, colname] = df[column].diff(lag)\n",
    "        new_columns.append(colname)\n",
    "    print(new_columns)\n",
    "    return new_columns\n",
    "\n",
    "def add_shifts(df, column, uselags):\n",
    "    new_columns = []\n",
    "    for lag in uselags:\n",
    "        colname = '{}_lag_{}'.format(column, lag)\n",
    "        df.loc[:, colname] = df[column].shift(lag)\n",
    "        new_columns.append(colname)\n",
    "    print(new_columns)\n",
    "    return new_columns\n",
    "\n",
    "def add_rolling_mean(df, column, windows):\n",
    "    new_columns = []\n",
    "    for window_size in windows:\n",
    "        colname = '{}_ma_{}'.format(column, window_size)\n",
    "        df.loc[:, colname] = df[column].rolling(window=window_size).mean()\n",
    "        new_columns.append(colname)\n",
    "    print(new_columns)\n",
    "    return new_columns\n",
    "\n",
    "def add_curstom_rolling_operation(df, column, agg_function, function_name, windows):\n",
    "    new_columns = []\n",
    "    for window_size in windows:\n",
    "        colname = '{}_{}_{}'.format(column, function_name, window_size)\n",
    "        df.loc[:, colname] = df[column].rolling(window=window_size).agg(agg_function)\n",
    "        new_columns.append(colname)\n",
    "    print(new_columns)\n",
    "    return new_columns  \n",
    "\n",
    "def rsiFunc(prices, n=14):\n",
    "    deltas = np.diff(prices)\n",
    "    seed = deltas[:n+1]\n",
    "    up = seed[seed>=0].sum()/n\n",
    "    down = -seed[seed<0].sum()/n\n",
    "    rs = up/down\n",
    "    rsi = np.zeros_like(prices)\n",
    "    rsi[:n] = 100. - 100./(1.+rs)\n",
    "\n",
    "    for i in range(n, len(prices)):\n",
    "        delta = deltas[i-1] # cause the diff is 1 shorter\n",
    "\n",
    "        if delta>0:\n",
    "            upval = delta\n",
    "            downval = 0.\n",
    "        else:\n",
    "            upval = 0.\n",
    "            downval = -delta\n",
    "\n",
    "        up = (up*(n-1) + upval)/n\n",
    "        down = (down*(n-1) + downval)/n\n",
    "\n",
    "        rs = up/down\n",
    "        rsi[i] = 100. - 100./(1.+rs)\n",
    "\n",
    "    return rsi\n",
    "\n",
    "def add_rsi(df, column, windows):\n",
    "    new_columns = []\n",
    "    for window_size in windows:\n",
    "        colname = '{}_rsi_{}'.format(column, window_size)\n",
    "        df.loc[:, colname] = rsiFunc(df[column].values, window_size)\n",
    "        new_columns.append(colname)\n",
    "    print(new_columns)\n",
    "    return new_columns  \n",
    "\n",
    "def add_ewma(df, column, windows):\n",
    "    new_columns = []\n",
    "    for window_size in windows:\n",
    "        colname = '{}_ewma_{}'.format(column, window_size)\n",
    "        df.loc[:, colname] = pd.Series.ewm(df[column], span=window_size).mean()\n",
    "        new_columns.append(colname)\n",
    "    print(new_columns)\n",
    "    return new_columns \n",
    "\n",
    "def add_time_depended_rolling(df, source_column, agg_periods_per_seconds, agg_fun, agg_repr):\n",
    "    '''\n",
    "        df: source dataframe\n",
    "        source_column: column for building feature\n",
    "        agg_periods_per_seconds: list with periods in seconds\n",
    "        agg_fun: aggregation function\n",
    "        agg_repr: name of agg function\n",
    "    '''\n",
    "    is_allowed_arguments = sum(map(lambda x: x % 10, agg_periods_per_seconds)) == 0\n",
    "    assert is_allowed_arguments, 'agg_periods_per_seconds divided by 10'\n",
    "    \n",
    "    new_cols = []\n",
    "    for agg_period in agg_periods_per_seconds:\n",
    "        agg_shifts = range(10, agg_period, 10)\n",
    "        period_repr = '{}s'.format(agg_period)\n",
    "        \n",
    "        agg_helper_df = df[source_column].resample(\n",
    "            period_repr, label='right', closed='right').agg(agg_fun)\n",
    "                                             \n",
    "        for shift in agg_shifts:\n",
    "            agg_helper_df = agg_helper_df.append(df[source_column].resample(\n",
    "                period_repr, label='right', closed='right', base=shift).agg(agg_fun))\n",
    "        colname = '{}_time_{}_{}'.format(source_column, agg_repr, agg_period)\n",
    "        df.loc[:, colname] = agg_helper_df\n",
    "        new_cols.append(colname)\n",
    "    print(new_cols)\n",
    "    return new_cols"
   ]
  },
  {
   "cell_type": "code",
   "execution_count": 138,
   "metadata": {},
   "outputs": [],
   "source": [
    "def add_hand_feats(df):\n",
    "    close_price_per_day = df.groupby('day').timestamp.max().shift(1).map(\n",
    "        df[['timestamp', 'yprice']].set_index('timestamp').yprice)\n",
    "    df.loc[:, 'ydiff_from_closing'] = (df.day.map(close_price_per_day) - df.yprice).fillna(0)\n",
    "    close_price_per_day = df.groupby('day').timestamp.max().shift(1).map(\n",
    "        df[['timestamp', 'xprice']].set_index('timestamp').xprice)\n",
    "    df.loc[:, 'xdiff_from_closing'] = (df.day.map(close_price_per_day) - df.yprice).fillna(0)\n",
    "    \n",
    "    open_price_per_day = df.groupby('day').timestamp.min().map(\n",
    "        df[['timestamp', 'yprice']].set_index('timestamp').yprice)\n",
    "    df.loc[:, 'ydiff_from_opening'] = (df.day.map(open_price_per_day) - df.yprice)\n",
    "    \n",
    "    open_price_per_day = df.groupby('day').timestamp.min().map(\n",
    "        df[['timestamp', 'xprice']].set_index('timestamp').xprice)\n",
    "    df.loc[:, 'xdiff_from_opening'] = (df.day.map(open_price_per_day) - df.xprice)\n",
    "    new_columns = ['ydiff_from_closing', 'xdiff_from_closing', 'ydiff_from_opening', 'xdiff_from_opening']\n",
    "    print(new_columns)\n",
    "    return new_columns\n",
    "\n",
    "def add_full_history_diff(df, col):\n",
    "    mean = df[col].cumsum() / np.arange(1, df.shape[0] + 1)\n",
    "    new_col = '{}_full_history_diff'.format(col)\n",
    "    df.loc[:, new_col] = df[col] - mean\n",
    "    print(new_col)\n",
    "    return new_col"
   ]
  },
  {
   "cell_type": "code",
   "execution_count": 4,
   "metadata": {},
   "outputs": [
    {
     "data": {
      "text/html": [
       "<div>\n",
       "<style scoped>\n",
       "    .dataframe tbody tr th:only-of-type {\n",
       "        vertical-align: middle;\n",
       "    }\n",
       "\n",
       "    .dataframe tbody tr th {\n",
       "        vertical-align: top;\n",
       "    }\n",
       "\n",
       "    .dataframe thead th {\n",
       "        text-align: right;\n",
       "    }\n",
       "</style>\n",
       "<table border=\"1\" class=\"dataframe\">\n",
       "  <thead>\n",
       "    <tr style=\"text-align: right;\">\n",
       "      <th></th>\n",
       "      <th>xprice</th>\n",
       "      <th>yprice</th>\n",
       "      <th>returns</th>\n",
       "      <th>yx_spread</th>\n",
       "      <th>yx_relation</th>\n",
       "      <th>xy_relation</th>\n",
       "      <th>xy_geom</th>\n",
       "      <th>xy_garmonic</th>\n",
       "      <th>weekday</th>\n",
       "      <th>day</th>\n",
       "      <th>periods_before_closing</th>\n",
       "      <th>periods_after_opening</th>\n",
       "    </tr>\n",
       "    <tr>\n",
       "      <th>timestamp</th>\n",
       "      <th></th>\n",
       "      <th></th>\n",
       "      <th></th>\n",
       "      <th></th>\n",
       "      <th></th>\n",
       "      <th></th>\n",
       "      <th></th>\n",
       "      <th></th>\n",
       "      <th></th>\n",
       "      <th></th>\n",
       "      <th></th>\n",
       "      <th></th>\n",
       "    </tr>\n",
       "  </thead>\n",
       "  <tbody>\n",
       "    <tr>\n",
       "      <td>2013-01-03 20:05:00</td>\n",
       "      <td>139.8375</td>\n",
       "      <td>169.2500</td>\n",
       "      <td>0.3125</td>\n",
       "      <td>29.4125</td>\n",
       "      <td>1.210333</td>\n",
       "      <td>0.826219</td>\n",
       "      <td>153.842442</td>\n",
       "      <td>153.144316</td>\n",
       "      <td>3</td>\n",
       "      <td>0</td>\n",
       "      <td>1409</td>\n",
       "      <td>0</td>\n",
       "    </tr>\n",
       "    <tr>\n",
       "      <td>2013-01-03 20:05:10</td>\n",
       "      <td>139.8875</td>\n",
       "      <td>169.3000</td>\n",
       "      <td>0.2750</td>\n",
       "      <td>29.4125</td>\n",
       "      <td>1.210258</td>\n",
       "      <td>0.826270</td>\n",
       "      <td>153.892670</td>\n",
       "      <td>153.194769</td>\n",
       "      <td>3</td>\n",
       "      <td>0</td>\n",
       "      <td>1408</td>\n",
       "      <td>1</td>\n",
       "    </tr>\n",
       "    <tr>\n",
       "      <td>2013-01-03 20:05:20</td>\n",
       "      <td>139.8625</td>\n",
       "      <td>169.3375</td>\n",
       "      <td>0.2500</td>\n",
       "      <td>29.4750</td>\n",
       "      <td>1.210743</td>\n",
       "      <td>0.825939</td>\n",
       "      <td>153.895959</td>\n",
       "      <td>153.195124</td>\n",
       "      <td>3</td>\n",
       "      <td>0</td>\n",
       "      <td>1407</td>\n",
       "      <td>2</td>\n",
       "    </tr>\n",
       "    <tr>\n",
       "      <td>2013-01-03 20:05:30</td>\n",
       "      <td>139.8375</td>\n",
       "      <td>169.3625</td>\n",
       "      <td>0.2375</td>\n",
       "      <td>29.5250</td>\n",
       "      <td>1.211138</td>\n",
       "      <td>0.825670</td>\n",
       "      <td>153.893563</td>\n",
       "      <td>153.190353</td>\n",
       "      <td>3</td>\n",
       "      <td>0</td>\n",
       "      <td>1406</td>\n",
       "      <td>3</td>\n",
       "    </tr>\n",
       "    <tr>\n",
       "      <td>2013-01-03 20:05:40</td>\n",
       "      <td>139.8375</td>\n",
       "      <td>169.3625</td>\n",
       "      <td>0.3250</td>\n",
       "      <td>29.5250</td>\n",
       "      <td>1.211138</td>\n",
       "      <td>0.825670</td>\n",
       "      <td>153.893563</td>\n",
       "      <td>153.190353</td>\n",
       "      <td>3</td>\n",
       "      <td>0</td>\n",
       "      <td>1405</td>\n",
       "      <td>4</td>\n",
       "    </tr>\n",
       "  </tbody>\n",
       "</table>\n",
       "</div>"
      ],
      "text/plain": [
       "                       xprice    yprice  returns  yx_spread  yx_relation  \\\n",
       "timestamp                                                                  \n",
       "2013-01-03 20:05:00  139.8375  169.2500   0.3125    29.4125     1.210333   \n",
       "2013-01-03 20:05:10  139.8875  169.3000   0.2750    29.4125     1.210258   \n",
       "2013-01-03 20:05:20  139.8625  169.3375   0.2500    29.4750     1.210743   \n",
       "2013-01-03 20:05:30  139.8375  169.3625   0.2375    29.5250     1.211138   \n",
       "2013-01-03 20:05:40  139.8375  169.3625   0.3250    29.5250     1.211138   \n",
       "\n",
       "                     xy_relation     xy_geom  xy_garmonic  weekday  day  \\\n",
       "timestamp                                                                 \n",
       "2013-01-03 20:05:00     0.826219  153.842442   153.144316        3    0   \n",
       "2013-01-03 20:05:10     0.826270  153.892670   153.194769        3    0   \n",
       "2013-01-03 20:05:20     0.825939  153.895959   153.195124        3    0   \n",
       "2013-01-03 20:05:30     0.825670  153.893563   153.190353        3    0   \n",
       "2013-01-03 20:05:40     0.825670  153.893563   153.190353        3    0   \n",
       "\n",
       "                     periods_before_closing  periods_after_opening  \n",
       "timestamp                                                           \n",
       "2013-01-03 20:05:00                    1409                      0  \n",
       "2013-01-03 20:05:10                    1408                      1  \n",
       "2013-01-03 20:05:20                    1407                      2  \n",
       "2013-01-03 20:05:30                    1406                      3  \n",
       "2013-01-03 20:05:40                    1405                      4  "
      ]
     },
     "execution_count": 4,
     "metadata": {},
     "output_type": "execute_result"
    }
   ],
   "source": [
    "data = init_data(fname)\n",
    "data.head()"
   ]
  },
  {
   "cell_type": "code",
   "execution_count": 5,
   "metadata": {},
   "outputs": [],
   "source": [
    "standart_calendar_lags = [6, 60, 360, 1410, 7050, 14100, 28200, 42300]\n",
    "qazy_calendar_lags = [6, 60, 360, 720, 1410, 2820, 7050, 14100, 28200, 42300]\n",
    "day_lags = 1410 * np.arange(1, 75)\n",
    "valid_ratio = 0\n",
    "test_ratio = 0.2"
   ]
  },
  {
   "cell_type": "markdown",
   "metadata": {},
   "source": [
    "## Trivial solutuin"
   ]
  },
  {
   "cell_type": "code",
   "execution_count": 7,
   "metadata": {},
   "outputs": [
    {
     "name": "stdout",
     "output_type": "stream",
     "text": [
      "Data shapes:  (274103, 12) (1, 12) (68526, 12)\n",
      "Zero Prediction MSE: \t 0.018675\n",
      "Mean Prediction MSE: \t 0.018637\n",
      "Mean Prediction R2: \t 0.0\n"
     ]
    }
   ],
   "source": [
    "train, valid, test = time_split(data, valid_ratio, test_ratio)\n",
    "train.dropna(inplace=True)\n",
    "\n",
    "trivial_solution = np.ones_like(test.returns.values) * test.returns.mean()\n",
    "print('Zero Prediction MSE: \\t {:.5}'.format(np.mean(np.square(test.returns.values))))\n",
    "print('Mean Prediction MSE: \\t {:.5}'.format(mean_squared_error(test.returns, trivial_solution)))\n",
    "print('Mean Prediction R2: \\t {:.5}'.format(r2_score(test.returns, trivial_solution)))"
   ]
  },
  {
   "cell_type": "code",
   "execution_count": 8,
   "metadata": {},
   "outputs": [
    {
     "name": "stdout",
     "output_type": "stream",
     "text": [
      "\n",
      "Test MSE: \t\t 0.018603\n",
      "Test R2 (x100): \t 0.18287\n"
     ]
    }
   ],
   "source": [
    "usecols = ['xprice', 'yprice']\n",
    "\n",
    "model = Ridge()\n",
    "model.fit(train[usecols], train.returns)\n",
    "\n",
    "y_test_predicted = model.predict(test[usecols])\n",
    "y_test_predicted[test.periods_before_closing == 0] = 0\n",
    "print('\\nTest MSE: \\t\\t {:.5}'.format(mean_squared_error(y_test_predicted, test.returns)))\n",
    "print('Test R2 (x100): \\t {:.5}'.format(r2_score(test.returns, y_test_predicted) * 100))"
   ]
  },
  {
   "cell_type": "markdown",
   "metadata": {},
   "source": [
    "## Simple features"
   ]
  },
  {
   "cell_type": "code",
   "execution_count": 43,
   "metadata": {},
   "outputs": [
    {
     "name": "stdout",
     "output_type": "stream",
     "text": [
      "['ydiff_from_closing', 'xdiff_from_closing', 'ydiff_from_opening', 'xdiff_from_opening']\n",
      "Data shapes:  (274103, 17) (1, 17) (68526, 17)\n"
     ]
    }
   ],
   "source": [
    "usecols = [\n",
    "    'xprice', 'yprice',\n",
    "    'yx_relation', 'xy_relation',\n",
    "    'yx_spread', 'xy_geom', 'xy_garmonic',\n",
    "    'periods_before_closing'\n",
    "]\n",
    "\n",
    "data = init_data(fname)\n",
    "hand_crafted_cols = add_hand_feats(data)\n",
    "usecols.extend(hand_crafted_cols)\n",
    "\n",
    "train, valid, test = time_split(data, valid_ratio, test_ratio)\n",
    "train.dropna(inplace=True)"
   ]
  },
  {
   "cell_type": "code",
   "execution_count": 50,
   "metadata": {},
   "outputs": [
    {
     "name": "stdout",
     "output_type": "stream",
     "text": [
      "\n",
      "Test MSE: \t\t 0.018535\n",
      "Test R2 (x100): \t 0.5485\n"
     ]
    }
   ],
   "source": [
    "removing_cols = [\n",
    "    'periods_before_closing',\n",
    "    'xy_relation',\n",
    "    'yx_relation',\n",
    "    'xy_geom',\n",
    "    'xy_garmonic'\n",
    "]\n",
    "selected_cols = [col for col in usecols if col not in removing_cols]\n",
    "\n",
    "model = Ridge(alpha=1)\n",
    "model.fit(train[selected_cols], train.returns)\n",
    "\n",
    "y_test_predicted = model.predict(test[selected_cols])\n",
    "y_test_predicted[test.periods_before_closing == 0] = 0\n",
    "print('\\nTest MSE: \\t\\t {:.5}'.format(mean_squared_error(y_test_predicted, test.returns)))\n",
    "print('Test R2 (x100): \\t {:.5}'.format(r2_score(test.returns, y_test_predicted) * 100))"
   ]
  },
  {
   "cell_type": "code",
   "execution_count": 68,
   "metadata": {},
   "outputs": [
    {
     "name": "stdout",
     "output_type": "stream",
     "text": [
      "\n",
      "Test MSE: \t\t 0.018541\n",
      "Test R2 (x100): \t 0.51472\n"
     ]
    },
    {
     "name": "stderr",
     "output_type": "stream",
     "text": [
      "/home/sneddy/.local/lib/python3.6/site-packages/sklearn/linear_model/coordinate_descent.py:475: ConvergenceWarning: Objective did not converge. You might want to increase the number of iterations. Duality gap: 2279.5761999171646, tolerance: 0.855443545942699\n",
      "  positive)\n"
     ]
    }
   ],
   "source": [
    "removing_cols = [\n",
    "    'periods_before_closing',\n",
    "#     'xy_relation',\n",
    "    'yx_relation',\n",
    "#     'xy_geom',\n",
    "#     'xy_garmonic'\n",
    "]\n",
    "selected_cols = [col for col in usecols if col not in removing_cols]\n",
    "\n",
    "\n",
    "model = ElasticNet(alpha=0.01, l1_ratio=0.001, max_iter=1000)\n",
    "model.fit(train[selected_cols], train.returns)\n",
    "\n",
    "y_test_predicted = model.predict(test[selected_cols])\n",
    "y_test_predicted[test.periods_before_closing == 0] = 0\n",
    "print('\\nTest MSE: \\t\\t {:.5}'.format(mean_squared_error(y_test_predicted, test.returns)))\n",
    "print('Test R2 (x100): \\t {:.5}'.format(r2_score(test.returns, y_test_predicted) * 100))"
   ]
  },
  {
   "cell_type": "markdown",
   "metadata": {},
   "source": [
    "## Agg v1"
   ]
  },
  {
   "cell_type": "markdown",
   "metadata": {},
   "source": [
    "- 6 - 1min\n",
    "- 60 - 10min\n",
    "- 360 - 1hour\n",
    "- 1410 - 1workday (~ 4 hours per day)\n",
    "- 7050 - 1workweek (5 days per week)\n",
    "- 28200 - 1 workmonth (~ 4 weeks per month)"
   ]
  },
  {
   "cell_type": "code",
   "execution_count": 222,
   "metadata": {},
   "outputs": [],
   "source": [
    "short_agg_periods = [60, 600, 3600]\n",
    "oneday_agg_periods = [60, 600, 3600, 7200, 14100]"
   ]
  },
  {
   "cell_type": "code",
   "execution_count": 71,
   "metadata": {},
   "outputs": [
    {
     "name": "stdout",
     "output_type": "stream",
     "text": [
      "['ydiff_from_closing', 'xdiff_from_closing', 'ydiff_from_opening', 'xdiff_from_opening']\n",
      "Data shapes:  (274103, 23) (1, 23) (68526, 23)\n"
     ]
    }
   ],
   "source": [
    "usecols = [\n",
    "    'xprice', 'yprice',\n",
    "    'yx_relation', 'xy_relation',\n",
    "    'yx_spread', 'xy_geom', 'xy_garmonic',\n",
    "    'periods_before_closing'\n",
    "]\n",
    "\n",
    "data = init_data(fname)\n",
    "\n",
    "hand_crafted_cols = add_hand_feats(data)\n",
    "usecols.extend(hand_crafted_cols)\n",
    "\n",
    "xcols = add_time_depended_rolling(data, 'xprice', short_agg_periods, np.mean, 'mean')\n",
    "usecols.extend(xcols)\n",
    "\n",
    "ycols = add_time_depended_rolling(data, 'yprice', short_agg_periods, np.mean, 'mean')\n",
    "usecols.extend(ycols)\n",
    "\n",
    "train, valid, test = time_split(data, valid_ratio, test_ratio)\n",
    "train.drop(np.arange(600), inplace=True)\n",
    "train.dropna(inplace=True)"
   ]
  },
  {
   "cell_type": "code",
   "execution_count": 101,
   "metadata": {},
   "outputs": [
    {
     "name": "stdout",
     "output_type": "stream",
     "text": [
      "\n",
      "Test MSE: \t\t 0.018354\n",
      "Test R2 (x100): \t 1.5199\n"
     ]
    }
   ],
   "source": [
    "removing_cols = [\n",
    "    'periods_before_closing',\n",
    "    'xy_relation',\n",
    "    'yx_relation',\n",
    "    'xy_geom',\n",
    "    'xy_garmonic'\n",
    "]\n",
    "selected_cols = [col for col in usecols if col not in removing_cols]\n",
    "\n",
    "model = Ridge(alpha=10)\n",
    "model.fit(train[selected_cols], train.returns)\n",
    "\n",
    "y_test_predicted = model.predict(test[selected_cols])\n",
    "y_test_predicted[test.periods_before_closing == 0] = 0\n",
    "print('\\nTest MSE: \\t\\t {:.5}'.format(mean_squared_error(y_test_predicted, test.returns)))\n",
    "print('Test R2 (x100): \\t {:.5}'.format(r2_score(test.returns, y_test_predicted) * 100))"
   ]
  },
  {
   "cell_type": "code",
   "execution_count": 95,
   "metadata": {},
   "outputs": [
    {
     "name": "stdout",
     "output_type": "stream",
     "text": [
      "\n",
      "Test MSE: \t\t 0.018461\n",
      "Test R2 (x100): \t 0.9449\n"
     ]
    },
    {
     "name": "stderr",
     "output_type": "stream",
     "text": [
      "/home/sneddy/.local/lib/python3.6/site-packages/sklearn/linear_model/coordinate_descent.py:475: ConvergenceWarning: Objective did not converge. You might want to increase the number of iterations. Duality gap: 4259.349019926165, tolerance: 0.855443545942699\n",
      "  positive)\n"
     ]
    }
   ],
   "source": [
    "removing_cols = [\n",
    "    'periods_before_closing',\n",
    "    'xy_relation',\n",
    "#     'yx_relation',\n",
    "#     'xy_geom',\n",
    "#     'xy_garmonic'\n",
    "]\n",
    "selected_cols = [col for col in usecols if col not in removing_cols]\n",
    "\n",
    "\n",
    "model = ElasticNet(alpha=0.01, l1_ratio=0., max_iter=1000)\n",
    "model.fit(train[selected_cols], train.returns)\n",
    "\n",
    "y_test_predicted = model.predict(test[selected_cols])\n",
    "y_test_predicted[test.periods_before_closing == 0] = 0\n",
    "print('\\nTest MSE: \\t\\t {:.5}'.format(mean_squared_error(y_test_predicted, test.returns)))\n",
    "print('Test R2 (x100): \\t {:.5}'.format(r2_score(test.returns, y_test_predicted) * 100))"
   ]
  },
  {
   "cell_type": "markdown",
   "metadata": {},
   "source": [
    "## Full History Diff"
   ]
  },
  {
   "cell_type": "code",
   "execution_count": 234,
   "metadata": {},
   "outputs": [
    {
     "name": "stdout",
     "output_type": "stream",
     "text": [
      "['ydiff_from_closing', 'xdiff_from_closing', 'ydiff_from_opening', 'xdiff_from_opening']\n",
      "['xprice_time_mean_60', 'xprice_time_mean_600', 'xprice_time_mean_3600']\n",
      "['yprice_time_mean_60', 'yprice_time_mean_600', 'yprice_time_mean_3600']\n",
      "xprice_full_history_diff\n",
      "yprice_full_history_diff\n",
      "yx_relation_full_history_diff\n",
      "xy_geom_full_history_diff\n",
      "Data shapes:  (274103, 27) (1, 27) (68526, 27)\n"
     ]
    }
   ],
   "source": [
    "usecols = [\n",
    "    'xprice', 'yprice',\n",
    "    'yx_relation', 'xy_relation',\n",
    "    'yx_spread', 'xy_geom', 'xy_garmonic',\n",
    "    'periods_before_closing'\n",
    "]\n",
    "\n",
    "data = init_data(fname)\n",
    "\n",
    "hand_crafted_cols = add_hand_feats(data)\n",
    "usecols.extend(hand_crafted_cols)\n",
    "\n",
    "xcols = add_time_depended_rolling(data, 'xprice', short_agg_periods, np.mean, 'mean')\n",
    "usecols.extend(xcols)\n",
    "\n",
    "ycols = add_time_depended_rolling(data, 'yprice', short_agg_periods, np.mean, 'mean')\n",
    "usecols.extend(ycols)\n",
    "\n",
    "usecols.append(add_full_history_diff(data, 'xprice'))\n",
    "usecols.append(add_full_history_diff(data, 'yprice'))\n",
    "usecols.append(add_full_history_diff(data, 'yx_relation'))\n",
    "usecols.append(add_full_history_diff(data, 'xy_geom'))\n",
    "\n",
    "\n",
    "train, valid, test = time_split(data, valid_ratio, test_ratio)\n",
    "train.drop(np.arange(600), inplace=True)\n",
    "train.dropna(inplace=True)"
   ]
  },
  {
   "cell_type": "code",
   "execution_count": 235,
   "metadata": {},
   "outputs": [
    {
     "name": "stdout",
     "output_type": "stream",
     "text": [
      "Data shapes:  (205578, 27) (68526, 27) (68526, 27)\n"
     ]
    }
   ],
   "source": [
    "train, valid, test = time_split(data, 0.2, 0.2)\n",
    "train.drop(np.arange(600), inplace=True)\n",
    "train.dropna(inplace=True)"
   ]
  },
  {
   "cell_type": "code",
   "execution_count": 236,
   "metadata": {},
   "outputs": [
    {
     "name": "stdout",
     "output_type": "stream",
     "text": [
      "\n",
      "Test MSE: \t\t 0.01888\n",
      "Test R2 (x100): \t -1.7503\n",
      "\n",
      "Test MSE: \t\t 0.018333\n",
      "Test R2 (x100): \t 1.6314\n"
     ]
    }
   ],
   "source": [
    "removing_cols = [\n",
    "    'xprice',\n",
    "    'periods_before_closing',\n",
    "#     'yx_spread',\n",
    "    'xy_relation',\n",
    "    'yx_relation',\n",
    "    'xy_geom',\n",
    "    'xy_garmonic',\n",
    "    'yx_relation_full_history_diff',\n",
    "    'xy_geom_full_history_diff',\n",
    "    'xprice_full_history_diff',\n",
    "#     'yprice_full_history_diff',\n",
    "]\n",
    "selected_cols = [col for col in usecols if col not in removing_cols]\n",
    "\n",
    "model = Ridge(alpha=10)\n",
    "model.fit(train[selected_cols], train.returns)\n",
    "y_valid_predicted = model.predict(valid[selected_cols])\n",
    "y_valid_predicted[valid.periods_before_closing == 0] = 0\n",
    "print('\\nTest MSE: \\t\\t {:.5}'.format(mean_squared_error(y_valid_predicted, valid.returns)))\n",
    "print('Test R2 (x100): \\t {:.5}'.format(r2_score(valid.returns, y_valid_predicted) * 100))\n",
    "\n",
    "\n",
    "model = Ridge(alpha=10)\n",
    "model.fit(train.append(valid)[selected_cols], train.append(valid).returns)\n",
    "y_test_predicted = model.predict(test[selected_cols])\n",
    "y_test_predicted[test.periods_before_closing == 0] = 0\n",
    "print('\\nTest MSE: \\t\\t {:.5}'.format(mean_squared_error(y_test_predicted, test.returns)))\n",
    "print('Test R2 (x100): \\t {:.5}'.format(r2_score(test.returns, y_test_predicted) * 100))"
   ]
  },
  {
   "cell_type": "code",
   "execution_count": 237,
   "metadata": {},
   "outputs": [
    {
     "name": "stdout",
     "output_type": "stream",
     "text": [
      "\\Valid MSE: \t\t 0.018741\n",
      "Valid R2 (x100): \t -1.0013\n",
      "\n",
      "Test MSE: \t\t 0.0185\n",
      "Test R2 (x100): \t 0.73883\n"
     ]
    },
    {
     "name": "stderr",
     "output_type": "stream",
     "text": [
      "/home/sneddy/.local/lib/python3.6/site-packages/sklearn/linear_model/coordinate_descent.py:475: ConvergenceWarning: Objective did not converge. You might want to increase the number of iterations. Duality gap: 383.2564484891009, tolerance: 0.7257524017355669\n",
      "  positive)\n"
     ]
    }
   ],
   "source": [
    "removing_cols = [\n",
    "    'xprice',\n",
    "#     'yprice'\n",
    "    'periods_before_closing',\n",
    "    'yx_spread',\n",
    "#     'xy_relation',\n",
    "#     'yx_relation',\n",
    "    'xy_geom',\n",
    "    'xy_garmonic',\n",
    "#     'yx_relation_full_history_diff',\n",
    "#     'xy_geom_full_history_diff',\n",
    "#     'xprice_full_history_diff',\n",
    "#     'yprice_full_history_diff',\n",
    "]\n",
    "\n",
    "selected_cols = [col for col in usecols if col not in removing_cols]\n",
    "\n",
    "\n",
    "model = ElasticNet(alpha=0.01, l1_ratio=0.01, max_iter=2000)\n",
    "model.fit(train[selected_cols], train.returns)\n",
    "\n",
    "\n",
    "y_valid_predicted = model.predict(valid[selected_cols])\n",
    "y_valid_predicted[valid.periods_before_closing == 0] = 0\n",
    "print('\\Valid MSE: \\t\\t {:.5}'.format(mean_squared_error(y_valid_predicted, valid.returns)))\n",
    "print('Valid R2 (x100): \\t {:.5}'.format(r2_score(valid.returns, y_valid_predicted) * 100))\n",
    "\n",
    "y_test_predicted = model.predict(test[selected_cols])\n",
    "y_test_predicted[test.periods_before_closing == 0] = 0\n",
    "print('\\nTest MSE: \\t\\t {:.5}'.format(mean_squared_error(y_test_predicted, test.returns)))\n",
    "print('Test R2 (x100): \\t {:.5}'.format(r2_score(test.returns, y_test_predicted) * 100))"
   ]
  },
  {
   "cell_type": "code",
   "execution_count": null,
   "metadata": {},
   "outputs": [],
   "source": []
  },
  {
   "cell_type": "code",
   "execution_count": null,
   "metadata": {},
   "outputs": [],
   "source": []
  },
  {
   "cell_type": "code",
   "execution_count": null,
   "metadata": {},
   "outputs": [],
   "source": []
  },
  {
   "cell_type": "code",
   "execution_count": null,
   "metadata": {},
   "outputs": [],
   "source": []
  },
  {
   "cell_type": "code",
   "execution_count": null,
   "metadata": {},
   "outputs": [],
   "source": []
  },
  {
   "cell_type": "code",
   "execution_count": null,
   "metadata": {},
   "outputs": [],
   "source": []
  },
  {
   "cell_type": "code",
   "execution_count": null,
   "metadata": {},
   "outputs": [],
   "source": []
  },
  {
   "cell_type": "code",
   "execution_count": null,
   "metadata": {},
   "outputs": [],
   "source": []
  },
  {
   "cell_type": "code",
   "execution_count": null,
   "metadata": {},
   "outputs": [],
   "source": []
  }
 ],
 "metadata": {
  "kernelspec": {
   "display_name": "Python 3",
   "language": "python",
   "name": "python3"
  },
  "language_info": {
   "codemirror_mode": {
    "name": "ipython",
    "version": 3
   },
   "file_extension": ".py",
   "mimetype": "text/x-python",
   "name": "python",
   "nbconvert_exporter": "python",
   "pygments_lexer": "ipython3",
   "version": "3.6.8"
  }
 },
 "nbformat": 4,
 "nbformat_minor": 2
}
