{
 "cells": [
  {
   "cell_type": "code",
   "execution_count": 1,
   "metadata": {},
   "outputs": [],
   "source": [
    "import pandas as pd\n",
    "import numpy as np\n",
    "\n",
    "import matplotlib.pylab as plt\n",
    "%matplotlib inline\n",
    "\n",
    "from tqdm import tqdm, tqdm_notebook\n",
    "pd.set_option(\"display.max_rows\", 100)\n",
    "pd.set_option('display.max_columns', 200)\n",
    "\n",
    "from sklearn.metrics import mean_squared_error, r2_score\n",
    "from sklearn.linear_model import LinearRegression, ElasticNet, Ridge\n",
    "fname = 'data.csv'\n",
    "\n",
    "from ts_features import init_data, add_hand_feats, add_diffs, add_shifts\n",
    "from ts_features import add_ewma, add_intraday_ewma\n",
    "from ts_features import add_time_depended_rolling, add_full_history_diff\n",
    "from ts_validation import validate_sklearn_model, validate_model_by_pentate, validate_model_by_triplets\n",
    "from ts_validation import greedy_add_del_strategy, greedy_add_strategy\n",
    "from helper import print_importances"
   ]
  },
  {
   "cell_type": "code",
   "execution_count": 2,
   "metadata": {},
   "outputs": [
    {
     "name": "stdout",
     "output_type": "stream",
     "text": [
      "month_agg_periods: [1410, 2820, 4230, 5640, 11280, 22560]\n"
     ]
    }
   ],
   "source": [
    "short_agg_periods = [6, 60, 360]\n",
    "oneday_agg_periods = [6, 60, 360, 720, 1410]\n",
    "twoweeks_agg_periods = [6, 60, 360, 720, 1410, 2820, 7050, 14100]\n",
    "\n",
    "month_days_periods = [1,2,3,4,8,16]\n",
    "month_agg_periods = list(map(lambda x: x * 1410, month_days_periods))\n",
    "print('month_agg_periods: {}'.format(month_agg_periods))\n",
    "\n",
    "merged_agg_periods = [6, 60, 360, 720, 1410, 2820, 4230, 5640, 7050, 14100, 21150]\n",
    "oneday_agg_periods_4 = [4 * lag for lag in oneday_agg_periods]\n",
    "\n",
    "valid_ratio = 0.25\n",
    "test_ratio = 0.25\n",
    "triplets = [\n",
    "    (0.5, 0.25, 0.25), \n",
    "    (0.6, 0.2, 0.2), \n",
    "    (0.7,0.15,0.15),\n",
    "#     (0.65, 0.2, 0.15)\n",
    "]\n",
    "# droprows = 7050\n",
    "droprows = 22560"
   ]
  },
  {
   "cell_type": "code",
   "execution_count": 3,
   "metadata": {},
   "outputs": [],
   "source": [
    "model = Ridge(alpha=10)"
   ]
  },
  {
   "cell_type": "code",
   "execution_count": 4,
   "metadata": {},
   "outputs": [
    {
     "data": {
      "text/html": [
       "<div>\n",
       "<style scoped>\n",
       "    .dataframe tbody tr th:only-of-type {\n",
       "        vertical-align: middle;\n",
       "    }\n",
       "\n",
       "    .dataframe tbody tr th {\n",
       "        vertical-align: top;\n",
       "    }\n",
       "\n",
       "    .dataframe thead th {\n",
       "        text-align: right;\n",
       "    }\n",
       "</style>\n",
       "<table border=\"1\" class=\"dataframe\">\n",
       "  <thead>\n",
       "    <tr style=\"text-align: right;\">\n",
       "      <th></th>\n",
       "      <th>train_50_percent</th>\n",
       "      <th>train_60_percent</th>\n",
       "      <th>train_70_percent</th>\n",
       "      <th>train_80_percent</th>\n",
       "      <th>train_90_percent</th>\n",
       "      <th>min_stats</th>\n",
       "      <th>max_stats</th>\n",
       "      <th>avg</th>\n",
       "    </tr>\n",
       "  </thead>\n",
       "  <tbody>\n",
       "    <tr>\n",
       "      <td>mse</td>\n",
       "      <td>0.021598</td>\n",
       "      <td>0.020704</td>\n",
       "      <td>0.016417</td>\n",
       "      <td>0.021885</td>\n",
       "      <td>0.015022</td>\n",
       "      <td>0.015022</td>\n",
       "      <td>0.021881</td>\n",
       "      <td>0.018936</td>\n",
       "    </tr>\n",
       "    <tr>\n",
       "      <td>r2</td>\n",
       "      <td>0.445998</td>\n",
       "      <td>-0.180386</td>\n",
       "      <td>-1.343953</td>\n",
       "      <td>0.521177</td>\n",
       "      <td>0.564198</td>\n",
       "      <td>-1.343750</td>\n",
       "      <td>0.563965</td>\n",
       "      <td>-0.110413</td>\n",
       "    </tr>\n",
       "  </tbody>\n",
       "</table>\n",
       "</div>"
      ],
      "text/plain": [
       "     train_50_percent  train_60_percent  train_70_percent  train_80_percent  \\\n",
       "mse          0.021598          0.020704          0.016417          0.021885   \n",
       "r2           0.445998         -0.180386         -1.343953          0.521177   \n",
       "\n",
       "     train_90_percent  min_stats  max_stats       avg  \n",
       "mse          0.015022   0.015022   0.021881  0.018936  \n",
       "r2           0.564198  -1.343750   0.563965 -0.110413  "
      ]
     },
     "execution_count": 4,
     "metadata": {},
     "output_type": "execute_result"
    }
   ],
   "source": [
    "# usecols = []\n",
    "\n",
    "# data = init_data(fname)\n",
    "\n",
    "# hand_crafted_cols = add_hand_feats(data)\n",
    "# usecols.extend(hand_crafted_cols)\n",
    "\n",
    "# xcols = add_time_depended_rolling(data, 'xprice', oneday_agg_periods, np.mean, 'mean')\n",
    "# for col in xcols:\n",
    "#     data[col] = data.xprice - data[col]\n",
    "# usecols.extend(xcols)\n",
    "\n",
    "# ycols = add_time_depended_rolling(data, 'yprice', oneday_agg_periods, np.mean, 'mean')\n",
    "# for col in ycols:\n",
    "#     data[col] = data.yprice - data[col]\n",
    "# usecols.extend(ycols)\n",
    "\n",
    "# usecols.append(add_full_history_diff(data, 'xprice'))\n",
    "# usecols.append(add_full_history_diff(data, 'yprice'))\n",
    "# usecols.append(add_full_history_diff(data, 'yx_relation'))\n",
    "# usecols.append(add_full_history_diff(data, 'xy_geom'))\n",
    "\n",
    "# validate_sklearn_model(model, data, usecols, valid_ratio, test_ratio, droprows);\n",
    "# data.to_pickle('init_data.pkl')\n",
    "\n",
    "data = pd.read_pickle('init_data.pkl')\n",
    "usecols = [\n",
    "    'ydiff_from_closing','xdiff_from_closing', \n",
    "    'yrel_from_closing','xrel_from_closing',\n",
    "#     'ydiff_from_opening','xdiff_from_opening',\n",
    "#     'yrel_from_opening','xrel_from_opening',\n",
    "    'xprice_time_mean_6','yprice_time_mean_6',\n",
    "    'xprice_time_mean_60','yprice_time_mean_60',\n",
    "    'xprice_time_mean_360','yprice_time_mean_360',\n",
    "    'xprice_time_mean_720','yprice_time_mean_720',\n",
    "    'xprice_time_mean_1410','yprice_time_mean_1410',\n",
    "#     'xprice_full_history_diff',\n",
    "#     'yprice_full_history_diff',\n",
    "#     'yx_relation_full_history_diff',\n",
    "#     'xy_geom_full_history_diff'\n",
    "]\n",
    "# print(validate_model_by_triplets(model, data, usecols, triplets, droprows))\n",
    "validate_model_by_pentate(model, data, usecols, droprows)"
   ]
  },
  {
   "cell_type": "markdown",
   "metadata": {},
   "source": [
    "## zscore for yprice"
   ]
  },
  {
   "cell_type": "code",
   "execution_count": 6,
   "metadata": {},
   "outputs": [
    {
     "name": "stdout",
     "output_type": "stream",
     "text": [
      "['yprice_time_std_6', 'yprice_time_std_60', 'yprice_time_std_360', 'yprice_time_std_720', 'yprice_time_std_1410']\n"
     ]
    }
   ],
   "source": [
    "agg_col = 'yprice'\n",
    "new_cols = add_time_depended_rolling(data, agg_col, oneday_agg_periods, np.std, 'std')\n",
    "std_reg_const = 0.1\n",
    "\n",
    "for col in new_cols:\n",
    "    data[col] = data[col].fillna(0) + std_reg_const"
   ]
  },
  {
   "cell_type": "code",
   "execution_count": 7,
   "metadata": {},
   "outputs": [
    {
     "name": "stdout",
     "output_type": "stream",
     "text": [
      "added yprice_time_zscore_360: r2: 0.40996\n",
      "added yprice_time_zscore_1410: r2: 0.46594\n",
      "added yprice_time_zscore_720: r2: 0.47332\n"
     ]
    },
    {
     "data": {
      "text/html": [
       "<div>\n",
       "<style scoped>\n",
       "    .dataframe tbody tr th:only-of-type {\n",
       "        vertical-align: middle;\n",
       "    }\n",
       "\n",
       "    .dataframe tbody tr th {\n",
       "        vertical-align: top;\n",
       "    }\n",
       "\n",
       "    .dataframe thead th {\n",
       "        text-align: right;\n",
       "    }\n",
       "</style>\n",
       "<table border=\"1\" class=\"dataframe\">\n",
       "  <thead>\n",
       "    <tr style=\"text-align: right;\">\n",
       "      <th></th>\n",
       "      <th>train_50_percent</th>\n",
       "      <th>train_60_percent</th>\n",
       "      <th>train_70_percent</th>\n",
       "      <th>train_80_percent</th>\n",
       "      <th>train_90_percent</th>\n",
       "      <th>min_stats</th>\n",
       "      <th>max_stats</th>\n",
       "      <th>avg</th>\n",
       "    </tr>\n",
       "  </thead>\n",
       "  <tbody>\n",
       "    <tr>\n",
       "      <td>mse</td>\n",
       "      <td>0.021629</td>\n",
       "      <td>0.020619</td>\n",
       "      <td>0.016214</td>\n",
       "      <td>0.021656</td>\n",
       "      <td>0.014956</td>\n",
       "      <td>0.014954</td>\n",
       "      <td>0.021652</td>\n",
       "      <td>0.018814</td>\n",
       "    </tr>\n",
       "    <tr>\n",
       "      <td>r2</td>\n",
       "      <td>0.299880</td>\n",
       "      <td>0.230784</td>\n",
       "      <td>-0.092851</td>\n",
       "      <td>1.559997</td>\n",
       "      <td>1.002801</td>\n",
       "      <td>-0.092834</td>\n",
       "      <td>1.559570</td>\n",
       "      <td>0.638184</td>\n",
       "    </tr>\n",
       "  </tbody>\n",
       "</table>\n",
       "</div>"
      ],
      "text/plain": [
       "     train_50_percent  train_60_percent  train_70_percent  train_80_percent  \\\n",
       "mse          0.021629          0.020619          0.016214          0.021656   \n",
       "r2           0.299880          0.230784         -0.092851          1.559997   \n",
       "\n",
       "     train_90_percent  min_stats  max_stats       avg  \n",
       "mse          0.014956   0.014954   0.021652  0.018814  \n",
       "r2           1.002801  -0.092834   1.559570  0.638184  "
      ]
     },
     "execution_count": 7,
     "metadata": {},
     "output_type": "execute_result"
    }
   ],
   "source": [
    "zscore_cols = []\n",
    "for lag in oneday_agg_periods:\n",
    "    current_mean = data['{}_time_mean_{}'.format(agg_col, lag)]\n",
    "    current_std = data['{}_time_std_{}'.format(agg_col, lag)]\n",
    "    colname = '{}_time_zscore_{}'.format(agg_col, lag)\n",
    "    data[colname] = current_mean / current_std\n",
    "    zscore_cols.append(colname)\n",
    "\n",
    "selected_cols = greedy_add_strategy(model, data, usecols, zscore_cols, \n",
    "                                 valid_ratio, test_ratio, droprows)\n",
    "\n",
    "validate_model_by_pentate(model, data, selected_cols, droprows)"
   ]
  },
  {
   "cell_type": "code",
   "execution_count": 7,
   "metadata": {},
   "outputs": [
    {
     "name": "stdout",
     "output_type": "stream",
     "text": [
      "['ydiff_from_closing', 'xdiff_from_closing', 'yrel_from_closing', 'xrel_from_closing', 'xprice_time_mean_6', 'yprice_time_mean_6', 'xprice_time_mean_60', 'yprice_time_mean_60', 'xprice_time_mean_360', 'yprice_time_mean_360', 'xprice_time_mean_720', 'yprice_time_mean_720', 'xprice_time_mean_1410', 'yprice_time_mean_1410', 'yprice_time_zscore_360', 'yprice_time_zscore_1410']\n"
     ]
    }
   ],
   "source": [
    "print(selected_cols)"
   ]
  },
  {
   "cell_type": "code",
   "execution_count": 8,
   "metadata": {},
   "outputs": [
    {
     "name": "stdout",
     "output_type": "stream",
     "text": [
      "xprice_time_mean_6                       18.55%            0.23\n",
      "yprice_time_mean_360                     15.97%           -0.19\n",
      "xprice_time_mean_720                     9.74%           -0.12\n",
      "xprice_time_mean_1410                    9.06%            0.11\n",
      "xprice_time_mean_360                     8.11%           0.099\n",
      "xprice_time_mean_60                      7.31%           0.089\n",
      "yprice_time_mean_60                      6.96%          -0.085\n",
      "yprice_time_mean_720                     6.35%           0.077\n",
      "yprice_time_mean_6                       5.50%          -0.067\n",
      "yprice_time_mean_1410                    5.36%          -0.065\n",
      "yprice_time_zscore_360                   2.10%           0.026\n",
      "xdiff_from_closing                       1.77%          -0.022\n",
      "yprice_time_zscore_720                   1.60%           0.019\n",
      "xrel_from_closing                        0.63%          0.0077\n",
      "ydiff_from_closing                       0.60%          0.0072\n",
      "yrel_from_closing                        0.34%          0.0041\n",
      "yprice_time_zscore_1410                  0.03%        -0.00038\n"
     ]
    }
   ],
   "source": [
    "print_importances(model, selected_cols)"
   ]
  },
  {
   "cell_type": "markdown",
   "metadata": {},
   "source": [
    "## Intraday EWMA for yprice"
   ]
  },
  {
   "cell_type": "code",
   "execution_count": 9,
   "metadata": {},
   "outputs": [
    {
     "name": "stdout",
     "output_type": "stream",
     "text": [
      "['yprice_dayly_ewma_3', 'yprice_dayly_ewma_6', 'yprice_dayly_ewma_12', 'yprice_dayly_ewma_24', 'yprice_dayly_ewma_60', 'yprice_dayly_ewma_120', 'yprice_dayly_ewma_360', 'yprice_dayly_ewma_720']\n"
     ]
    }
   ],
   "source": [
    "agg_col = 'yprice'\n",
    "new_cols = add_intraday_ewma(data, agg_col, [3, 6,12,24,60,120,360,720])\n",
    "\n",
    "for col in new_cols:\n",
    "    data[col] = data[agg_col] - data[col]"
   ]
  },
  {
   "cell_type": "code",
   "execution_count": 10,
   "metadata": {},
   "outputs": [],
   "source": [
    "data['ewma_dif_v1'] = data.yprice_dayly_ewma_12 - data.yprice_dayly_ewma_6\n",
    "data['ewma_dif_v2'] = data.yprice_dayly_ewma_12 * data.yprice_dayly_ewma_6\n",
    "\n",
    "data['ewma_dif_v3'] = data.yprice_dayly_ewma_60 - data.yprice_dayly_ewma_24\n",
    "data['ewma_dif_v4'] = data.yprice_dayly_ewma_24 - data.yprice_dayly_ewma_3\n",
    "\n",
    "data['ewma_dif_v5'] = data.yprice_dayly_ewma_720 * data.yprice_dayly_ewma_360"
   ]
  },
  {
   "cell_type": "code",
   "execution_count": 12,
   "metadata": {},
   "outputs": [
    {
     "data": {
      "text/html": [
       "<div>\n",
       "<style scoped>\n",
       "    .dataframe tbody tr th:only-of-type {\n",
       "        vertical-align: middle;\n",
       "    }\n",
       "\n",
       "    .dataframe tbody tr th {\n",
       "        vertical-align: top;\n",
       "    }\n",
       "\n",
       "    .dataframe thead th {\n",
       "        text-align: right;\n",
       "    }\n",
       "</style>\n",
       "<table border=\"1\" class=\"dataframe\">\n",
       "  <thead>\n",
       "    <tr style=\"text-align: right;\">\n",
       "      <th></th>\n",
       "      <th>train_50_percent</th>\n",
       "      <th>train_60_percent</th>\n",
       "      <th>train_70_percent</th>\n",
       "      <th>train_80_percent</th>\n",
       "      <th>train_90_percent</th>\n",
       "      <th>min_stats</th>\n",
       "      <th>max_stats</th>\n",
       "      <th>avg</th>\n",
       "    </tr>\n",
       "  </thead>\n",
       "  <tbody>\n",
       "    <tr>\n",
       "      <td>mse</td>\n",
       "      <td>0.021698</td>\n",
       "      <td>0.020654</td>\n",
       "      <td>0.016175</td>\n",
       "      <td>0.021644</td>\n",
       "      <td>0.014966</td>\n",
       "      <td>0.014969</td>\n",
       "      <td>0.021698</td>\n",
       "      <td>0.018829</td>\n",
       "    </tr>\n",
       "    <tr>\n",
       "      <td>r2</td>\n",
       "      <td>-0.015656</td>\n",
       "      <td>0.057997</td>\n",
       "      <td>0.147929</td>\n",
       "      <td>1.616568</td>\n",
       "      <td>0.936548</td>\n",
       "      <td>-0.015656</td>\n",
       "      <td>1.616211</td>\n",
       "      <td>0.620605</td>\n",
       "    </tr>\n",
       "  </tbody>\n",
       "</table>\n",
       "</div>"
      ],
      "text/plain": [
       "     train_50_percent  train_60_percent  train_70_percent  train_80_percent  \\\n",
       "mse          0.021698          0.020654          0.016175          0.021644   \n",
       "r2          -0.015656          0.057997          0.147929          1.616568   \n",
       "\n",
       "     train_90_percent  min_stats  max_stats       avg  \n",
       "mse          0.014966   0.014969   0.021698  0.018829  \n",
       "r2           0.936548  -0.015656   1.616211  0.620605  "
      ]
     },
     "execution_count": 12,
     "metadata": {},
     "output_type": "execute_result"
    }
   ],
   "source": [
    "# selected_cols = greedy_add_strategy(model, data, selected_cols, new_cols, \n",
    "#                                  valid_ratio, test_ratio, droprows)\n",
    "\n",
    "updated_cols = selected_cols + [\n",
    "    'ewma_dif_v1',\n",
    "    'ewma_dif_v2', \n",
    "    'ewma_dif_v3', \n",
    "    'ewma_dif_v4',\n",
    "    'ewma_dif_v5',\n",
    "#     'yprice_dayly_ewma_3',\n",
    "#     'yprice_dayly_ewma_6',\n",
    "    'yprice_dayly_ewma_12',\n",
    "    'yprice_dayly_ewma_24',\n",
    "    'yprice_dayly_ewma_60',\n",
    "#     'yprice_dayly_ewma_360',\n",
    "]\n",
    "\n",
    "selected_cols = updated_cols.copy()\n",
    "validate_model_by_pentate(model, data, updated_cols.copy(), droprows)"
   ]
  },
  {
   "cell_type": "markdown",
   "metadata": {},
   "source": [
    "## Lags of yprice and xprice"
   ]
  },
  {
   "cell_type": "code",
   "execution_count": 13,
   "metadata": {},
   "outputs": [],
   "source": [
    "df = data.copy()"
   ]
  },
  {
   "cell_type": "code",
   "execution_count": 25,
   "metadata": {},
   "outputs": [
    {
     "name": "stdout",
     "output_type": "stream",
     "text": [
      "['yprice_lag_1410', 'yprice_lag_2820', 'yprice_lag_4230', 'yprice_lag_5640', 'yprice_lag_11280', 'yprice_lag_22560']\n"
     ]
    }
   ],
   "source": [
    "agg_col = 'yprice'\n",
    "new_cols = add_shifts(data,'yprice',month_agg_periods)\n",
    "for col in new_cols:\n",
    "    data[col] = data[agg_col] - data[col]"
   ]
  },
  {
   "cell_type": "code",
   "execution_count": 34,
   "metadata": {},
   "outputs": [
    {
     "data": {
      "text/html": [
       "<div>\n",
       "<style scoped>\n",
       "    .dataframe tbody tr th:only-of-type {\n",
       "        vertical-align: middle;\n",
       "    }\n",
       "\n",
       "    .dataframe tbody tr th {\n",
       "        vertical-align: top;\n",
       "    }\n",
       "\n",
       "    .dataframe thead th {\n",
       "        text-align: right;\n",
       "    }\n",
       "</style>\n",
       "<table border=\"1\" class=\"dataframe\">\n",
       "  <thead>\n",
       "    <tr style=\"text-align: right;\">\n",
       "      <th></th>\n",
       "      <th>train_50_percent</th>\n",
       "      <th>train_60_percent</th>\n",
       "      <th>train_70_percent</th>\n",
       "      <th>train_80_percent</th>\n",
       "      <th>train_90_percent</th>\n",
       "      <th>min_stats</th>\n",
       "      <th>max_stats</th>\n",
       "      <th>avg</th>\n",
       "    </tr>\n",
       "  </thead>\n",
       "  <tbody>\n",
       "    <tr>\n",
       "      <td>mse</td>\n",
       "      <td>0.021750</td>\n",
       "      <td>0.020639</td>\n",
       "      <td>0.016207</td>\n",
       "      <td>0.021574</td>\n",
       "      <td>0.014876</td>\n",
       "      <td>0.014877</td>\n",
       "      <td>0.021744</td>\n",
       "      <td>0.018814</td>\n",
       "    </tr>\n",
       "    <tr>\n",
       "      <td>r2</td>\n",
       "      <td>-0.256366</td>\n",
       "      <td>0.130836</td>\n",
       "      <td>-0.051070</td>\n",
       "      <td>1.933040</td>\n",
       "      <td>1.533290</td>\n",
       "      <td>-0.256348</td>\n",
       "      <td>1.932617</td>\n",
       "      <td>0.709473</td>\n",
       "    </tr>\n",
       "  </tbody>\n",
       "</table>\n",
       "</div>"
      ],
      "text/plain": [
       "     train_50_percent  train_60_percent  train_70_percent  train_80_percent  \\\n",
       "mse          0.021750          0.020639          0.016207          0.021574   \n",
       "r2          -0.256366          0.130836         -0.051070          1.933040   \n",
       "\n",
       "     train_90_percent  min_stats  max_stats       avg  \n",
       "mse          0.014876   0.014877   0.021744  0.018814  \n",
       "r2           1.533290  -0.256348   1.932617  0.709473  "
      ]
     },
     "execution_count": 34,
     "metadata": {},
     "output_type": "execute_result"
    }
   ],
   "source": [
    "updated_cols = selected_cols + [\n",
    "    'yprice_lag_1410',\n",
    "    'yprice_lag_2820', \n",
    "    'yprice_lag_4230', \n",
    "#     'yprice_lag_5640', \n",
    "#     'yprice_lag_11280', \n",
    "#     'yprice_lag_22560'\n",
    "]\n",
    "selected_cols = updated_cols.copy()\n",
    "validate_model_by_pentate(model, data, updated_cols.copy(), droprows)"
   ]
  },
  {
   "cell_type": "code",
   "execution_count": 33,
   "metadata": {},
   "outputs": [
    {
     "name": "stdout",
     "output_type": "stream",
     "text": [
      "xprice_time_mean_6                       15.83%            0.22\n",
      "yprice_dayly_ewma_60                     9.08%           -0.13\n",
      "ewma_dif_v3                              8.44%           -0.12\n",
      "xprice_time_mean_720                     8.24%           -0.12\n",
      "xprice_time_mean_1410                    7.52%            0.11\n",
      "xprice_time_mean_360                     7.22%             0.1\n",
      "yprice_time_mean_360                     7.14%            -0.1\n",
      "xprice_time_mean_60                      6.24%           0.089\n",
      "yprice_time_mean_6                       4.79%          -0.068\n",
      "yprice_time_mean_720                     4.44%           0.063\n",
      "yprice_time_mean_1410                    4.20%           -0.06\n",
      "yprice_dayly_ewma_12                     3.72%          -0.053\n",
      "ewma_dif_v2                              2.52%          -0.036\n",
      "yprice_time_zscore_360                   1.99%           0.028\n",
      "ewma_dif_v1                              1.66%          -0.024\n",
      "xdiff_from_closing                       1.42%           -0.02\n",
      "yprice_time_zscore_720                   1.39%            0.02\n",
      "ewma_dif_v4                              0.93%           0.013\n",
      "yprice_dayly_ewma_24                     0.64%         -0.0091\n",
      "xrel_from_closing                        0.54%          0.0077\n",
      "yprice_time_mean_60                      0.41%          0.0058\n",
      "yrel_from_closing                        0.29%          0.0042\n",
      "ewma_dif_v5                              0.26%         -0.0037\n",
      "ydiff_from_closing                       0.18%         -0.0025\n",
      "yprice_time_zscore_1410                  0.06%        -0.00082\n"
     ]
    }
   ],
   "source": [
    "print_importances(model, selected_cols)"
   ]
  },
  {
   "cell_type": "code",
   "execution_count": 37,
   "metadata": {},
   "outputs": [
    {
     "name": "stdout",
     "output_type": "stream",
     "text": [
      "['xprice_lag_1410', 'xprice_lag_2820', 'xprice_lag_4230', 'xprice_lag_5640', 'xprice_lag_11280', 'xprice_lag_22560']\n"
     ]
    }
   ],
   "source": [
    "agg_col = 'xprice'\n",
    "new_cols = add_shifts(data,agg_col,month_agg_periods)\n",
    "for col in new_cols:\n",
    "    data[col] = data[agg_col] - data[col]"
   ]
  },
  {
   "cell_type": "code",
   "execution_count": 46,
   "metadata": {},
   "outputs": [
    {
     "data": {
      "text/html": [
       "<div>\n",
       "<style scoped>\n",
       "    .dataframe tbody tr th:only-of-type {\n",
       "        vertical-align: middle;\n",
       "    }\n",
       "\n",
       "    .dataframe tbody tr th {\n",
       "        vertical-align: top;\n",
       "    }\n",
       "\n",
       "    .dataframe thead th {\n",
       "        text-align: right;\n",
       "    }\n",
       "</style>\n",
       "<table border=\"1\" class=\"dataframe\">\n",
       "  <thead>\n",
       "    <tr style=\"text-align: right;\">\n",
       "      <th></th>\n",
       "      <th>train_50_percent</th>\n",
       "      <th>train_60_percent</th>\n",
       "      <th>train_70_percent</th>\n",
       "      <th>train_80_percent</th>\n",
       "      <th>train_90_percent</th>\n",
       "      <th>min_stats</th>\n",
       "      <th>max_stats</th>\n",
       "      <th>avg</th>\n",
       "    </tr>\n",
       "  </thead>\n",
       "  <tbody>\n",
       "    <tr>\n",
       "      <td>mse</td>\n",
       "      <td>0.021714</td>\n",
       "      <td>0.020657</td>\n",
       "      <td>0.016198</td>\n",
       "      <td>0.021590</td>\n",
       "      <td>0.014788</td>\n",
       "      <td>0.014786</td>\n",
       "      <td>0.021713</td>\n",
       "      <td>0.018784</td>\n",
       "    </tr>\n",
       "    <tr>\n",
       "      <td>r2</td>\n",
       "      <td>-0.090579</td>\n",
       "      <td>0.046328</td>\n",
       "      <td>0.006313</td>\n",
       "      <td>1.862652</td>\n",
       "      <td>2.118363</td>\n",
       "      <td>-0.090576</td>\n",
       "      <td>2.119141</td>\n",
       "      <td>0.853027</td>\n",
       "    </tr>\n",
       "  </tbody>\n",
       "</table>\n",
       "</div>"
      ],
      "text/plain": [
       "     train_50_percent  train_60_percent  train_70_percent  train_80_percent  \\\n",
       "mse          0.021714          0.020657          0.016198          0.021590   \n",
       "r2          -0.090579          0.046328          0.006313          1.862652   \n",
       "\n",
       "     train_90_percent  min_stats  max_stats       avg  \n",
       "mse          0.014788   0.014786   0.021713  0.018784  \n",
       "r2           2.118363  -0.090576   2.119141  0.853027  "
      ]
     },
     "execution_count": 46,
     "metadata": {},
     "output_type": "execute_result"
    }
   ],
   "source": [
    "updated_cols = selected_cols + [\n",
    "    'xprice_lag_1410',\n",
    "    'xprice_lag_2820', \n",
    "    'xprice_lag_4230', \n",
    "#     'xprice_lag_5640', \n",
    "#     'xprice_lag_11280', \n",
    "#     'xprice_lag_22560'\n",
    "]\n",
    "validate_model_by_pentate(model, data, updated_cols.copy(), droprows)"
   ]
  },
  {
   "cell_type": "markdown",
   "metadata": {},
   "source": [
    "## zscore for yx_rel"
   ]
  },
  {
   "cell_type": "code",
   "execution_count": 60,
   "metadata": {},
   "outputs": [
    {
     "name": "stdout",
     "output_type": "stream",
     "text": [
      "['yx_relation_time_mean_6', 'yx_relation_time_mean_60', 'yx_relation_time_mean_360', 'yx_relation_time_mean_720', 'yx_relation_time_mean_1410']\n"
     ]
    }
   ],
   "source": [
    "agg_col = 'yx_relation'\n",
    "new_cols = add_time_depended_rolling(data, agg_col, oneday_agg_periods, np.mean, 'mean')\n",
    "\n",
    "for col in new_cols:\n",
    "    data[col] = data[agg_col] - data[col]"
   ]
  },
  {
   "cell_type": "code",
   "execution_count": 61,
   "metadata": {},
   "outputs": [
    {
     "name": "stdout",
     "output_type": "stream",
     "text": [
      "['yx_relation_time_std_24', 'yx_relation_time_std_240', 'yx_relation_time_std_1440', 'yx_relation_time_std_2880', 'yx_relation_time_std_5640']\n"
     ]
    }
   ],
   "source": [
    "agg_col = 'yx_relation'\n",
    "new_cols = add_time_depended_rolling(data, agg_col, map(lambda x: x * 4, oneday_agg_periods), np.std, 'std')\n",
    "std_reg_const = 0.001\n",
    "\n",
    "for col in new_cols:\n",
    "    data[col] = data[col].fillna(0) + std_reg_const"
   ]
  },
  {
   "cell_type": "code",
   "execution_count": 65,
   "metadata": {},
   "outputs": [
    {
     "name": "stdout",
     "output_type": "stream",
     "text": [
      "added yx_relation_time_zscore_6: r2: 0.2817\n",
      "added yx_relation_time_zscore_360: r2: 0.28635\n",
      "added yx_relation_time_zscore_1410: r2: 0.2902\n",
      "added yx_relation_time_zscore_60: r2: 0.29208\n",
      "added yx_relation_time_zscore_720: r2: 0.3359\n"
     ]
    },
    {
     "data": {
      "text/html": [
       "<div>\n",
       "<style scoped>\n",
       "    .dataframe tbody tr th:only-of-type {\n",
       "        vertical-align: middle;\n",
       "    }\n",
       "\n",
       "    .dataframe tbody tr th {\n",
       "        vertical-align: top;\n",
       "    }\n",
       "\n",
       "    .dataframe thead th {\n",
       "        text-align: right;\n",
       "    }\n",
       "</style>\n",
       "<table border=\"1\" class=\"dataframe\">\n",
       "  <thead>\n",
       "    <tr style=\"text-align: right;\">\n",
       "      <th></th>\n",
       "      <th>train_50_percent</th>\n",
       "      <th>train_60_percent</th>\n",
       "      <th>train_70_percent</th>\n",
       "      <th>train_80_percent</th>\n",
       "      <th>train_90_percent</th>\n",
       "      <th>min_stats</th>\n",
       "      <th>max_stats</th>\n",
       "      <th>avg</th>\n",
       "    </tr>\n",
       "  </thead>\n",
       "  <tbody>\n",
       "    <tr>\n",
       "      <td>mse</td>\n",
       "      <td>0.021720</td>\n",
       "      <td>0.020569</td>\n",
       "      <td>0.016219</td>\n",
       "      <td>0.021585</td>\n",
       "      <td>0.014995</td>\n",
       "      <td>0.014992</td>\n",
       "      <td>0.021713</td>\n",
       "      <td>0.018829</td>\n",
       "    </tr>\n",
       "    <tr>\n",
       "      <td>r2</td>\n",
       "      <td>-0.117854</td>\n",
       "      <td>0.473017</td>\n",
       "      <td>-0.124877</td>\n",
       "      <td>1.883428</td>\n",
       "      <td>0.743337</td>\n",
       "      <td>-0.124878</td>\n",
       "      <td>1.883789</td>\n",
       "      <td>0.659180</td>\n",
       "    </tr>\n",
       "  </tbody>\n",
       "</table>\n",
       "</div>"
      ],
      "text/plain": [
       "     train_50_percent  train_60_percent  train_70_percent  train_80_percent  \\\n",
       "mse          0.021720          0.020569          0.016219          0.021585   \n",
       "r2          -0.117854          0.473017         -0.124877          1.883428   \n",
       "\n",
       "     train_90_percent  min_stats  max_stats       avg  \n",
       "mse          0.014995   0.014992   0.021713  0.018829  \n",
       "r2           0.743337  -0.124878   1.883789  0.659180  "
      ]
     },
     "execution_count": 65,
     "metadata": {},
     "output_type": "execute_result"
    }
   ],
   "source": [
    "zscore_cols = []\n",
    "for lag in oneday_agg_periods:\n",
    "    current_mean = data['{}_time_mean_{}'.format(agg_col, lag)]\n",
    "    current_std = data['{}_time_std_{}'.format(agg_col, lag * 4)]\n",
    "    colname = '{}_time_zscore_{}'.format(agg_col, lag)\n",
    "    data[colname] = current_mean / current_std\n",
    "    zscore_cols.append(colname)\n",
    "\n",
    "added_cols = greedy_add_strategy(model, data, selected_cols.copy(), zscore_cols, \n",
    "                                 valid_ratio, test_ratio, droprows)\n",
    "validate_model_by_pentate(model, data, added_cols, droprows)"
   ]
  },
  {
   "cell_type": "code",
   "execution_count": 72,
   "metadata": {},
   "outputs": [
    {
     "data": {
      "text/html": [
       "<div>\n",
       "<style scoped>\n",
       "    .dataframe tbody tr th:only-of-type {\n",
       "        vertical-align: middle;\n",
       "    }\n",
       "\n",
       "    .dataframe tbody tr th {\n",
       "        vertical-align: top;\n",
       "    }\n",
       "\n",
       "    .dataframe thead th {\n",
       "        text-align: right;\n",
       "    }\n",
       "</style>\n",
       "<table border=\"1\" class=\"dataframe\">\n",
       "  <thead>\n",
       "    <tr style=\"text-align: right;\">\n",
       "      <th></th>\n",
       "      <th>train_50_percent</th>\n",
       "      <th>train_60_percent</th>\n",
       "      <th>train_70_percent</th>\n",
       "      <th>train_80_percent</th>\n",
       "      <th>train_90_percent</th>\n",
       "      <th>min_stats</th>\n",
       "      <th>max_stats</th>\n",
       "      <th>avg</th>\n",
       "    </tr>\n",
       "  </thead>\n",
       "  <tbody>\n",
       "    <tr>\n",
       "      <td>mse</td>\n",
       "      <td>0.021700</td>\n",
       "      <td>0.020596</td>\n",
       "      <td>0.016235</td>\n",
       "      <td>0.021567</td>\n",
       "      <td>0.014979</td>\n",
       "      <td>0.014977</td>\n",
       "      <td>0.021698</td>\n",
       "      <td>0.018829</td>\n",
       "    </tr>\n",
       "    <tr>\n",
       "      <td>r2</td>\n",
       "      <td>-0.026945</td>\n",
       "      <td>0.341965</td>\n",
       "      <td>-0.222462</td>\n",
       "      <td>1.965554</td>\n",
       "      <td>0.849643</td>\n",
       "      <td>-0.222412</td>\n",
       "      <td>1.965820</td>\n",
       "      <td>0.664551</td>\n",
       "    </tr>\n",
       "  </tbody>\n",
       "</table>\n",
       "</div>"
      ],
      "text/plain": [
       "     train_50_percent  train_60_percent  train_70_percent  train_80_percent  \\\n",
       "mse          0.021700          0.020596          0.016235          0.021567   \n",
       "r2          -0.026945          0.341965         -0.222462          1.965554   \n",
       "\n",
       "     train_90_percent  min_stats  max_stats       avg  \n",
       "mse          0.014979   0.014977   0.021698  0.018829  \n",
       "r2           0.849643  -0.222412   1.965820  0.664551  "
      ]
     },
     "execution_count": 72,
     "metadata": {},
     "output_type": "execute_result"
    }
   ],
   "source": [
    "added_cols = [\n",
    "#     'yx_relation_time_zscore_6',\n",
    "#     'yx_relation_time_zscore_60',\n",
    "#     'yx_relation_time_zscore_360',\n",
    "#     'yx_relation_time_zscore_720',\n",
    "#     'yx_relation_time_zscore_1410'\n",
    "#     'yx_relation_time_std_6',\n",
    "#     'yx_relation_time_std_60',\n",
    "#     'yx_relation_time_std_360', \n",
    "#     'yx_relation_time_std_720',\n",
    "#     'yx_relation_time_std_1410'\n",
    "]\n",
    "validate_model_by_pentate(model, data, selected_cols + added_cols, droprows)"
   ]
  },
  {
   "cell_type": "code",
   "execution_count": 85,
   "metadata": {},
   "outputs": [
    {
     "data": {
      "text/plain": [
       "yx_relation_time_zscore_6       0.588646\n",
       "yx_relation_time_zscore_60      1.005944\n",
       "yx_relation_time_zscore_360     1.147955\n",
       "yx_relation_time_zscore_720     1.154843\n",
       "yx_relation_time_zscore_1410    1.134246\n",
       "dtype: float64"
      ]
     },
     "execution_count": 85,
     "metadata": {},
     "output_type": "execute_result"
    }
   ],
   "source": [
    "data[added_cols].std()"
   ]
  },
  {
   "cell_type": "markdown",
   "metadata": {},
   "source": [
    "## ema for yprice"
   ]
  },
  {
   "cell_type": "code",
   "execution_count": 90,
   "metadata": {},
   "outputs": [
    {
     "name": "stdout",
     "output_type": "stream",
     "text": [
      "['yx_relation_dayly_ewma_3', 'yx_relation_dayly_ewma_6', 'yx_relation_dayly_ewma_12', 'yx_relation_dayly_ewma_24', 'yx_relation_dayly_ewma_60']\n"
     ]
    }
   ],
   "source": [
    "agg_col = 'yx_relation'\n",
    "new_cols = add_intraday_ewma(data, agg_col, [3,6,12,24,60])\n",
    "\n",
    "agg_mean = data.loc[data.day < 28, agg_col].mean()\n",
    "agg_std = data.loc[data.day < 28, agg_col].std() + std_reg_const\n",
    "\n",
    "for col in new_cols:\n",
    "    data[col] = (data[col] - agg_mean) / agg_std\n"
   ]
  },
  {
   "cell_type": "code",
   "execution_count": 64,
   "metadata": {},
   "outputs": [
    {
     "ename": "AttributeError",
     "evalue": "'Rolling' object has no attribute 'ewma'",
     "output_type": "error",
     "traceback": [
      "\u001b[0;31m---------------------------------------------------------------------------\u001b[0m",
      "\u001b[0;31mAttributeError\u001b[0m                            Traceback (most recent call last)",
      "\u001b[0;32m<ipython-input-64-a8656a79ccef>\u001b[0m in \u001b[0;36m<module>\u001b[0;34m\u001b[0m\n\u001b[0;32m----> 1\u001b[0;31m \u001b[0mdata\u001b[0m\u001b[0;34m.\u001b[0m\u001b[0myprice\u001b[0m\u001b[0;34m.\u001b[0m\u001b[0mrolling\u001b[0m\u001b[0;34m(\u001b[0m\u001b[0;36m6\u001b[0m\u001b[0;34m)\u001b[0m\u001b[0;34m.\u001b[0m\u001b[0mewma\u001b[0m\u001b[0;34m\u001b[0m\u001b[0;34m\u001b[0m\u001b[0m\n\u001b[0m",
      "\u001b[0;32m~/.local/lib/python3.6/site-packages/pandas/core/window.py\u001b[0m in \u001b[0;36m__getattr__\u001b[0;34m(self, attr)\u001b[0m\n\u001b[1;32m    167\u001b[0m \u001b[0;34m\u001b[0m\u001b[0m\n\u001b[1;32m    168\u001b[0m         raise AttributeError(\n\u001b[0;32m--> 169\u001b[0;31m             \u001b[0;34m\"%r object has no attribute %r\"\u001b[0m \u001b[0;34m%\u001b[0m \u001b[0;34m(\u001b[0m\u001b[0mtype\u001b[0m\u001b[0;34m(\u001b[0m\u001b[0mself\u001b[0m\u001b[0;34m)\u001b[0m\u001b[0;34m.\u001b[0m\u001b[0m__name__\u001b[0m\u001b[0;34m,\u001b[0m \u001b[0mattr\u001b[0m\u001b[0;34m)\u001b[0m\u001b[0;34m\u001b[0m\u001b[0;34m\u001b[0m\u001b[0m\n\u001b[0m\u001b[1;32m    170\u001b[0m         )\n\u001b[1;32m    171\u001b[0m \u001b[0;34m\u001b[0m\u001b[0m\n",
      "\u001b[0;31mAttributeError\u001b[0m: 'Rolling' object has no attribute 'ewma'"
     ]
    }
   ],
   "source": [
    "data.yprice.rolling(6).ewma"
   ]
  },
  {
   "cell_type": "code",
   "execution_count": 107,
   "metadata": {},
   "outputs": [
    {
     "data": {
      "text/html": [
       "<div>\n",
       "<style scoped>\n",
       "    .dataframe tbody tr th:only-of-type {\n",
       "        vertical-align: middle;\n",
       "    }\n",
       "\n",
       "    .dataframe tbody tr th {\n",
       "        vertical-align: top;\n",
       "    }\n",
       "\n",
       "    .dataframe thead th {\n",
       "        text-align: right;\n",
       "    }\n",
       "</style>\n",
       "<table border=\"1\" class=\"dataframe\">\n",
       "  <thead>\n",
       "    <tr style=\"text-align: right;\">\n",
       "      <th></th>\n",
       "      <th>train_50_percent</th>\n",
       "      <th>train_60_percent</th>\n",
       "      <th>train_70_percent</th>\n",
       "      <th>train_80_percent</th>\n",
       "      <th>train_90_percent</th>\n",
       "      <th>min_stats</th>\n",
       "      <th>max_stats</th>\n",
       "      <th>avg</th>\n",
       "    </tr>\n",
       "  </thead>\n",
       "  <tbody>\n",
       "    <tr>\n",
       "      <td>mse</td>\n",
       "      <td>0.021871</td>\n",
       "      <td>0.020610</td>\n",
       "      <td>0.016866</td>\n",
       "      <td>0.021487</td>\n",
       "      <td>0.015082</td>\n",
       "      <td>0.015083</td>\n",
       "      <td>0.021866</td>\n",
       "      <td>0.018982</td>\n",
       "    </tr>\n",
       "    <tr>\n",
       "      <td>r2</td>\n",
       "      <td>-0.813138</td>\n",
       "      <td>0.274729</td>\n",
       "      <td>-4.115274</td>\n",
       "      <td>2.327433</td>\n",
       "      <td>0.170667</td>\n",
       "      <td>-4.117188</td>\n",
       "      <td>2.328125</td>\n",
       "      <td>-0.563477</td>\n",
       "    </tr>\n",
       "  </tbody>\n",
       "</table>\n",
       "</div>"
      ],
      "text/plain": [
       "     train_50_percent  train_60_percent  train_70_percent  train_80_percent  \\\n",
       "mse          0.021871          0.020610          0.016866          0.021487   \n",
       "r2          -0.813138          0.274729         -4.115274          2.327433   \n",
       "\n",
       "     train_90_percent  min_stats  max_stats       avg  \n",
       "mse          0.015082   0.015083   0.021866  0.018982  \n",
       "r2           0.170667  -4.117188   2.328125 -0.563477  "
      ]
     },
     "execution_count": 107,
     "metadata": {},
     "output_type": "execute_result"
    }
   ],
   "source": [
    "# selected_cols = greedy_add_strategy(model, data, selected_cols, new_cols, \n",
    "#                                  valid_ratio, test_ratio, droprows)\n",
    "\n",
    "updated_cols = selected_cols + [\n",
    "#     'yx_relation_dayly_ewma_3',\n",
    "#     'yx_relation_dayly_ewma_6',\n",
    "    'yx_relation_dayly_ewma_12',\n",
    "#     'yx_relation_dayly_ewma_24',\n",
    "#     'yx_relation_dayly_ewma_60',\n",
    "]\n",
    "# selected_cols = updated_cols.copy()\n",
    "validate_model_by_pentate(model, data, updated_cols.copy(), droprows)"
   ]
  },
  {
   "cell_type": "code",
   "execution_count": 50,
   "metadata": {},
   "outputs": [
    {
     "name": "stdout",
     "output_type": "stream",
     "text": [
      "['yprice_ewma_2']\n"
     ]
    },
    {
     "data": {
      "text/plain": [
       "['yprice_ewma_2']"
      ]
     },
     "execution_count": 50,
     "metadata": {},
     "output_type": "execute_result"
    }
   ],
   "source": [
    "def add_ewma(df, column, windows):\n",
    "    new_columns = []\n",
    "    for window_size in windows:\n",
    "        colname = '{}_ewma_{}'.format(column, window_size)\n",
    "        df.loc[:, colname] = pd.Series.ewm(df[column], halflife=window_size).mean()\n",
    "        new_columns.append(colname)\n",
    "    print(new_columns)\n",
    "    return new_columns\n",
    "\n",
    "from ts_features import add_ewma\n",
    "add_ewma(data, 'yprice', [2])"
   ]
  },
  {
   "cell_type": "code",
   "execution_count": 85,
   "metadata": {},
   "outputs": [],
   "source": [
    "updated_cols.remove('yx_relation_dayly_ewma_60')"
   ]
  },
  {
   "cell_type": "code",
   "execution_count": 98,
   "metadata": {},
   "outputs": [],
   "source": [
    "selected_cols.remove('yx_relation_dayly_ewma_60')"
   ]
  },
  {
   "cell_type": "markdown",
   "metadata": {},
   "source": [
    "## zscore for xprice"
   ]
  },
  {
   "cell_type": "code",
   "execution_count": 13,
   "metadata": {},
   "outputs": [
    {
     "name": "stdout",
     "output_type": "stream",
     "text": [
      "['xprice_time_std_6', 'xprice_time_std_60', 'xprice_time_std_360', 'xprice_time_std_720', 'xprice_time_std_1410']\n"
     ]
    }
   ],
   "source": [
    "# agg_col = 'xprice'\n",
    "# new_cols = add_time_depended_rolling(data, agg_col, oneday_agg_periods, np.std, 'std')\n",
    "# std_reg_const = 1\n",
    "\n",
    "# for col in new_cols:\n",
    "#     data[col] = data[col].fillna(0) + std_reg_const"
   ]
  },
  {
   "cell_type": "code",
   "execution_count": 12,
   "metadata": {},
   "outputs": [
    {
     "name": "stdout",
     "output_type": "stream",
     "text": [
      "added xprice_time_zscore_60: r2: 0.41918\n"
     ]
    },
    {
     "data": {
      "text/html": [
       "<div>\n",
       "<style scoped>\n",
       "    .dataframe tbody tr th:only-of-type {\n",
       "        vertical-align: middle;\n",
       "    }\n",
       "\n",
       "    .dataframe tbody tr th {\n",
       "        vertical-align: top;\n",
       "    }\n",
       "\n",
       "    .dataframe thead th {\n",
       "        text-align: right;\n",
       "    }\n",
       "</style>\n",
       "<table border=\"1\" class=\"dataframe\">\n",
       "  <thead>\n",
       "    <tr style=\"text-align: right;\">\n",
       "      <th></th>\n",
       "      <th>train_50_percent</th>\n",
       "      <th>train_60_percent</th>\n",
       "      <th>train_70_percent</th>\n",
       "      <th>train_80_percent</th>\n",
       "      <th>train_90_percent</th>\n",
       "      <th>min_stats</th>\n",
       "      <th>max_stats</th>\n",
       "      <th>avg</th>\n",
       "    </tr>\n",
       "  </thead>\n",
       "  <tbody>\n",
       "    <tr>\n",
       "      <td>mse</td>\n",
       "      <td>0.021537</td>\n",
       "      <td>0.020677</td>\n",
       "      <td>0.016300</td>\n",
       "      <td>0.021582</td>\n",
       "      <td>0.014994</td>\n",
       "      <td>0.014992</td>\n",
       "      <td>0.021576</td>\n",
       "      <td>0.018814</td>\n",
       "    </tr>\n",
       "    <tr>\n",
       "      <td>r2</td>\n",
       "      <td>0.728314</td>\n",
       "      <td>-0.049880</td>\n",
       "      <td>-0.623453</td>\n",
       "      <td>1.895470</td>\n",
       "      <td>0.749149</td>\n",
       "      <td>-0.623535</td>\n",
       "      <td>1.895508</td>\n",
       "      <td>0.567383</td>\n",
       "    </tr>\n",
       "  </tbody>\n",
       "</table>\n",
       "</div>"
      ],
      "text/plain": [
       "     train_50_percent  train_60_percent  train_70_percent  train_80_percent  \\\n",
       "mse          0.021537          0.020677          0.016300          0.021582   \n",
       "r2           0.728314         -0.049880         -0.623453          1.895470   \n",
       "\n",
       "     train_90_percent  min_stats  max_stats       avg  \n",
       "mse          0.014994   0.014992   0.021576  0.018814  \n",
       "r2           0.749149  -0.623535   1.895508  0.567383  "
      ]
     },
     "execution_count": 12,
     "metadata": {},
     "output_type": "execute_result"
    }
   ],
   "source": [
    "# zscore_cols = []\n",
    "# for lag in oneday_agg_periods:\n",
    "#     current_mean = data['{}_time_mean_{}'.format(agg_col, lag)]\n",
    "#     current_std = data['{}_time_std_{}'.format(agg_col, lag)]\n",
    "#     colname = '{}_time_zscore_{}'.format(agg_col, lag)\n",
    "#     data[colname] = current_mean / current_std\n",
    "#     zscore_cols.append(colname)\n",
    "\n",
    "# selected_cols = greedy_add_strategy(model, data, selected_cols, zscore_cols, \n",
    "#                                  valid_ratio, test_ratio, droprows)\n",
    "# validate_model_by_pentate(model, data, selected_cols, droprows)"
   ]
  },
  {
   "cell_type": "code",
   "execution_count": 18,
   "metadata": {},
   "outputs": [],
   "source": [
    "# from ts_features import add_rsi\n",
    "\n",
    "# rsi_spread_cols = add_rsi(data, 'yx_spread', twoweeks_agg_periods)\n",
    "# usecols.extend(rsi_spread_cols)\n",
    "\n",
    "# rsi_yxrel_cols = add_rsi(data, 'yx_relation', twoweeks_agg_periods)\n",
    "# usecols.extend(rsi_yxrel_cols)\n",
    "\n",
    "# rsi_xyrel_cols = add_rsi(data, 'xy_relation', twoweeks_agg_periods)\n",
    "# usecols.extend(rsi_xyrel_cols)\n",
    "\n",
    "# rsi_geom_cols = add_rsi(data, 'xy_geom', twoweeks_agg_periods)\n",
    "# usecols.extend(rsi_geom_cols)\n",
    "\n",
    "# rsi_garmonic_cols = add_rsi(data, 'xy_garmonic', twoweeks_agg_periods)\n",
    "# usecols.extend(rsi_garmonic_cols)"
   ]
  },
  {
   "cell_type": "code",
   "execution_count": 16,
   "metadata": {},
   "outputs": [],
   "source": [
    "# agg_col = 'yprice_time_mean_360'\n",
    "# new_cols = add_diffs(data, agg_col, [360, 720, 1080, 1410])\n",
    "# # usecols.extend(new_cols)\n",
    "\n",
    "# added_cols = [\n",
    "# #     'yprice_time_mean_360_diff_360',\n",
    "# #     'yprice_time_mean_360_diff_720',\n",
    "# #     'yprice_time_mean_360_diff_1080',\n",
    "# #     'yprice_time_mean_360_diff_1410'\n",
    "# ]\n",
    "\n",
    "# # selected_cols = greedy_add_strategy(model, data, usecols, new_cols,\n",
    "# #                                     valid_ratio, test_ratio, droprows)\n",
    "\n",
    "# validate_model_by_pentate(model, data, usecols + added_cols, droprows)"
   ]
  },
  {
   "cell_type": "code",
   "execution_count": null,
   "metadata": {},
   "outputs": [],
   "source": []
  },
  {
   "cell_type": "code",
   "execution_count": null,
   "metadata": {},
   "outputs": [],
   "source": []
  },
  {
   "cell_type": "code",
   "execution_count": null,
   "metadata": {},
   "outputs": [],
   "source": []
  },
  {
   "cell_type": "code",
   "execution_count": 68,
   "metadata": {},
   "outputs": [
    {
     "name": "stdout",
     "output_type": "stream",
     "text": [
      "['xprice_time_mean_360_diff_1410', 'xprice_time_mean_360_diff_2820', 'xprice_time_mean_360_diff_4230', 'xprice_time_mean_360_diff_5640', 'xprice_time_mean_360_diff_7050', 'xprice_time_mean_360_diff_14100', 'xprice_time_mean_360_diff_21150', 'xprice_time_mean_360_diff_28200']\n",
      "added xprice_time_mean_360_diff_1410: r2: -0.58474\n",
      "added xprice_time_mean_360_diff_7050: r2: -0.58439\n",
      "added xprice_time_mean_360_diff_28200: r2: -0.5632\n",
      "added xprice_time_mean_360_diff_14100: r2: -0.54401\n",
      "Data shapes:  (143116, 28) (85657, 28) (85657, 28)\n",
      "\n",
      "Valid MSE: \t\t 0.020145\n",
      "Valid R2 (x100): \t -0.54401\n",
      "\n",
      "Test MSE: \t\t 0.018163\n",
      "Test R2 (x100): \t 1.4395\n"
     ]
    }
   ],
   "source": [
    "agg_col = 'xprice_time_mean_360'\n",
    "new_cols = add_diffs(data, agg_col, month_agg_periods)\n",
    "usecols.extend(new_cols)\n",
    "\n",
    "selected_cols = greedy_add_strategy(model, data, selected_cols, new_cols,\n",
    "                                    valid_ratio, test_ratio, droprows)\n",
    "\n",
    "validate_sklearn_model(model, data, selected_cols, valid_ratio, test_ratio, droprows);"
   ]
  },
  {
   "cell_type": "code",
   "execution_count": 69,
   "metadata": {
    "scrolled": true
   },
   "outputs": [
    {
     "name": "stdout",
     "output_type": "stream",
     "text": [
      "['yx_relation_time_mean_6', 'yx_relation_time_mean_60', 'yx_relation_time_mean_360', 'yx_relation_time_mean_720', 'yx_relation_time_mean_1410']\n",
      "added yx_relation_time_mean_6: r2: -0.54401\n",
      "added yx_relation_time_mean_360: r2: -0.544\n",
      "added yx_relation_time_mean_60: r2: -0.544\n",
      "added yx_relation_time_mean_720: r2: -0.544\n",
      "Data shapes:  (143116, 32) (85657, 32) (85657, 32)\n",
      "\n",
      "Valid MSE: \t\t 0.020145\n",
      "Valid R2 (x100): \t -0.544\n",
      "\n",
      "Test MSE: \t\t 0.018163\n",
      "Test R2 (x100): \t 1.4394\n"
     ]
    }
   ],
   "source": [
    "agg_col = 'yx_relation'\n",
    "new_cols = add_time_depended_rolling(data, agg_col, oneday_agg_periods, np.mean, 'mean')\n",
    "for col in new_cols:\n",
    "    data[col] = data[col] / (data[agg_col] + 1e-3)\n",
    "usecols.extend(new_cols)\n",
    "\n",
    "selected_cols = greedy_add_strategy(model, data, selected_cols, new_cols,\n",
    "                                    valid_ratio, test_ratio, droprows)\n",
    "validate_sklearn_model(model, data, selected_cols, valid_ratio, test_ratio, droprows);"
   ]
  },
  {
   "cell_type": "code",
   "execution_count": 19,
   "metadata": {},
   "outputs": [],
   "source": [
    "selected_cols=[elem for elem in selected_cols if elem not in new_cols]"
   ]
  },
  {
   "cell_type": "code",
   "execution_count": 62,
   "metadata": {},
   "outputs": [
    {
     "name": "stdout",
     "output_type": "stream",
     "text": [
      "['yx_relation_diff_6', 'yx_relation_diff_60', 'yx_relation_diff_360', 'yx_relation_diff_720', 'yx_relation_diff_1410', 'yx_relation_diff_2820', 'yx_relation_diff_7050', 'yx_relation_diff_14100']\n",
      "added yx_relation_diff_60: r2: 1.0848\n",
      "added yx_relation_diff_360: r2: 1.0922\n",
      "Data shapes:  (194510, 32) (68526, 32) (51394, 32)\n",
      "\n",
      "Valid MSE: \t\t 0.019377\n",
      "Valid R2 (x100): \t 1.0922\n",
      "\n",
      "Test MSE: \t\t 0.015762\n",
      "Test R2 (x100): \t 0.97178\n"
     ]
    }
   ],
   "source": [
    "agg_col = 'yx_relation'\n",
    "new_cols = add_diffs(data, agg_col, twoweeks_agg_periods)\n",
    "\n",
    "usecols.extend(new_cols)\n",
    "\n",
    "selected_cols = greedy_add_strategy(model, data, selected_cols, new_cols,\n",
    "                                    valid_ratio, test_ratio, droprows)\n",
    "validate_sklearn_model(model, data, selected_cols, valid_ratio, test_ratio, droprows);"
   ]
  },
  {
   "cell_type": "code",
   "execution_count": null,
   "metadata": {},
   "outputs": [],
   "source": []
  },
  {
   "cell_type": "code",
   "execution_count": null,
   "metadata": {},
   "outputs": [],
   "source": []
  },
  {
   "cell_type": "code",
   "execution_count": null,
   "metadata": {},
   "outputs": [],
   "source": []
  },
  {
   "cell_type": "code",
   "execution_count": 13,
   "metadata": {},
   "outputs": [
    {
     "name": "stdout",
     "output_type": "stream",
     "text": [
      "['yx_relation_time_std_6', 'yx_relation_time_std_60', 'yx_relation_time_std_360', 'yx_relation_time_std_720', 'yx_relation_time_std_1410']\n",
      "Data shapes:  (143115, 35) (102789, 35) (68526, 35)\n",
      "\n",
      "Valid MSE: \t\t 0.022652\n",
      "Valid R2 (x100): \t -15.558\n",
      "\n",
      "Test MSE: \t\t 0.018436\n",
      "Test R2 (x100): \t 1.0791\n"
     ]
    }
   ],
   "source": [
    "agg_col = 'yx_relation'\n",
    "std_reg_const = 0.1\n",
    "new_cols = add_time_depended_rolling(data, agg_col, oneday_agg_periods, np.std, 'std')\n",
    "for col in new_cols:\n",
    "    data[col] = data[col].fillna(0) + std_reg_const\n",
    "usecols.extend(new_cols)\n",
    "\n",
    "selected_cols = greedy_add_strategy(model, data, selected_cols, new_cols,\n",
    "                                    valid_ratio, test_ratio, droprows)\n",
    "validate_sklearn_model(model, data, selected_cols, valid_ratio, test_ratio, droprows);"
   ]
  },
  {
   "cell_type": "code",
   "execution_count": 15,
   "metadata": {},
   "outputs": [
    {
     "name": "stdout",
     "output_type": "stream",
     "text": [
      "added yx_relation_time_zscore_6: r2: -15.558\n",
      "added yx_relation_time_zscore_360: r2: -15.556\n",
      "added yx_relation_time_zscore_720: r2: -15.556\n",
      "Data shapes:  (143115, 38) (102789, 38) (68526, 38)\n",
      "\n",
      "Valid MSE: \t\t 0.022651\n",
      "Valid R2 (x100): \t -15.556\n",
      "\n",
      "Test MSE: \t\t 0.018437\n",
      "Test R2 (x100): \t 1.0761\n"
     ]
    }
   ],
   "source": [
    "agg_col = 'yx_relation'\n",
    "zscore_cols = []\n",
    "for lag in oneday_agg_periods:\n",
    "    current_mean = data['{}_time_mean_{}'.format(agg_col, lag)]\n",
    "    current_std = data['{}_time_std_{}'.format(agg_col, lag)]\n",
    "    colname = '{}_time_zscore_{}'.format(agg_col, lag)\n",
    "    data[colname] = current_mean / current_std\n",
    "    zscore_cols.append(colname)\n",
    "\n",
    "added_cols = greedy_add_strategy(model, data, selected_cols, zscore_cols, \n",
    "                                 valid_ratio, test_ratio, droprows)\n",
    "validate_sklearn_model(model, data, added_cols, valid_ratio, test_ratio, droprows);"
   ]
  },
  {
   "cell_type": "code",
   "execution_count": 11,
   "metadata": {},
   "outputs": [],
   "source": [
    "# agg_col = 'xy_geom'\n",
    "# new_cols = add_time_depended_rolling(data, agg_col, oneday_agg_periods, np.mean, 'mean')\n",
    "# for col in new_cols:\n",
    "#     data[col] = data[col] - data[agg_col]\n",
    "# usecols.extend(new_cols)\n",
    "\n",
    "# selected_cols = greedy_add_strategy(model, data, selected_cols, new_cols,\n",
    "#                                     valid_ratio, test_ratio, droprows)\n",
    "# validate_sklearn_model(model, data, selected_cols, valid_ratio, test_ratio, droprows);"
   ]
  },
  {
   "cell_type": "code",
   "execution_count": 12,
   "metadata": {},
   "outputs": [],
   "source": [
    "# agg_col = 'yx_relation_time_mean_360'\n",
    "# new_cols = add_diffs(data, agg_col, month_agg_periods)\n",
    "# usecols.extend(new_cols)\n",
    "\n",
    "# selected_cols = greedy_add_strategy(model, data, selected_cols, new_cols,\n",
    "#                                     valid_ratio, test_ratio, droprows)\n",
    "# validate_sklearn_model(model, data, selected_cols, valid_ratio, test_ratio, droprows);"
   ]
  },
  {
   "cell_type": "code",
   "execution_count": 13,
   "metadata": {},
   "outputs": [],
   "source": [
    "# agg_col = 'xy_geom'\n",
    "# new_cols = add_time_depended_rolling(data, agg_col, [60, 360, 1410], np.std, 'std')\n",
    "# for col in new_cols:\n",
    "#     data[col] = data[col].fillna(0)\n",
    "# usecols.extend(new_cols)\n",
    "\n",
    "# selected_cols = greedy_add_strategy(model, data, selected_cols, new_cols,\n",
    "#                                     valid_ratio, test_ratio, droprows)\n",
    "# validate_sklearn_model(model, data, selected_cols, valid_ratio, test_ratio, droprows);"
   ]
  },
  {
   "cell_type": "code",
   "execution_count": 14,
   "metadata": {},
   "outputs": [],
   "source": [
    "# agg_col = 'xy_relation_time_mean_60'\n",
    "# new_cols = add_diffs(data, agg_col, month_agg_periods)\n",
    "\n",
    "# usecols.extend(new_cols)\n",
    "# validate_sklearn_model(model, data, usecols, valid_ratio, test_ratio, droprows);"
   ]
  },
  {
   "cell_type": "code",
   "execution_count": 15,
   "metadata": {},
   "outputs": [],
   "source": [
    "# agg_col = 'yprice'\n",
    "# # new_cols = add_time_depended_rolling(data, agg_col, [60, 360, 1410], np.std, 'std')\n",
    "# data['yprice_time_normbot_60'] = data.yprice_time_mean_60 - 2 * data.yprice_time_std_60.fillna(0)\n",
    "# data['yprice_time_normtop_60'] = data.yprice_time_mean_60 + 2 * data.yprice_time_std_60.fillna(0)\n",
    "# data['yprice_time_normbot_360'] = data.yprice_time_mean_360 - 2 * data.yprice_time_std_360.fillna(0)\n",
    "# data['yprice_time_normtop_360'] = data.yprice_time_mean_360 + 2 * data.yprice_time_std_360.fillna(0)\n",
    "# data['yprice_time_normbot_1410'] = data.yprice_time_mean_1410 - 2 * data.yprice_time_std_1410.fillna(0)\n",
    "# data['yprice_time_normtop_1410'] = data.yprice_time_mean_1410 + 2 * data.yprice_time_std_1410.fillna(0)\n",
    "# norm_cols = [\n",
    "#     'yprice_time_normbot_60', \n",
    "#     'yprice_time_normtop_60',\n",
    "#     'yprice_time_normbot_360', \n",
    "#     'yprice_time_normtop_360',\n",
    "#     'yprice_time_normbot_1410',\n",
    "#     'yprice_time_normtop_1410'\n",
    "# ]\n",
    "# for col in new_cols:\n",
    "#     data[col] = data[col].fillna(0)\n",
    "# validate_sklearn_model(model, data, selected_cols + norm_cols, valid_ratio, test_ratio, droprows);"
   ]
  },
  {
   "cell_type": "code",
   "execution_count": 16,
   "metadata": {},
   "outputs": [
    {
     "name": "stdout",
     "output_type": "stream",
     "text": [
      "['yprice_time_max_6', 'yprice_time_max_60', 'yprice_time_max_360', 'yprice_time_max_1410']\n",
      "added yprice_time_max_6: r2: 1.0393\n",
      "Data shapes:  (194510, 34) (68526, 34) (51394, 34)\n",
      "\n",
      "Valid MSE: \t\t 0.019387\n",
      "Valid R2 (x100): \t 1.0393\n",
      "\n",
      "Test MSE: \t\t 0.015695\n",
      "Test R2 (x100): \t 1.3925\n"
     ]
    }
   ],
   "source": [
    "agg_col = 'yprice'\n",
    "new_cols = add_time_depended_rolling(data, agg_col, [6, 60, 360, 1410], np.max, 'max')\n",
    "\n",
    "for col in new_cols:\n",
    "    data[col] = data[col] - data[agg_col\n",
    "                                ]\n",
    "# validate_sklearn_model(model, data, selected_cols + new_cols, valid_ratio, test_ratio, droprows);\n",
    "added_cols = greedy_add_strategy(model, data, selected_cols, new_cols, \n",
    "                                 valid_ratio, test_ratio, droprows)\n",
    "\n",
    "validate_sklearn_model(model, data, added_cols, valid_ratio, test_ratio, droprows);"
   ]
  },
  {
   "cell_type": "code",
   "execution_count": 18,
   "metadata": {},
   "outputs": [
    {
     "name": "stdout",
     "output_type": "stream",
     "text": [
      "['yprice_time_max_60_lag_60', 'yprice_time_max_60_lag_120', 'yprice_time_max_60_lag_180', 'yprice_time_max_60_lag_240']\n",
      "added yprice_time_max_60_lag_180: r2: 1.059\n",
      "Data shapes:  (194510, 35) (68526, 35) (51394, 35)\n",
      "\n",
      "Valid MSE: \t\t 0.019383\n",
      "Valid R2 (x100): \t 1.059\n",
      "\n",
      "Test MSE: \t\t 0.015691\n",
      "Test R2 (x100): \t 1.4162\n"
     ]
    }
   ],
   "source": [
    "agg_col = 'yprice_time_max_60'\n",
    "new_cols = add_shifts(data, agg_col, [60, 120, 180, 240])\n",
    "usecols.extend(new_cols)\n",
    "\n",
    "added_cols = greedy_add_strategy(model, data, added_cols, new_cols,\n",
    "                                valid_ratio, test_ratio, droprows)\n",
    "\n",
    "validate_sklearn_model(model, data, added_cols, valid_ratio, test_ratio, droprows);"
   ]
  },
  {
   "cell_type": "code",
   "execution_count": 19,
   "metadata": {},
   "outputs": [],
   "source": [
    "selected_cols = added_cols.copy()"
   ]
  },
  {
   "cell_type": "code",
   "execution_count": 20,
   "metadata": {},
   "outputs": [
    {
     "name": "stdout",
     "output_type": "stream",
     "text": [
      "['yprice_time_min_6', 'yprice_time_min_60', 'yprice_time_min_360', 'yprice_time_min_1410']\n",
      "Data shapes:  (194510, 35) (68526, 35) (51394, 35)\n",
      "\n",
      "Valid MSE: \t\t 0.019383\n",
      "Valid R2 (x100): \t 1.059\n",
      "\n",
      "Test MSE: \t\t 0.015691\n",
      "Test R2 (x100): \t 1.4162\n"
     ]
    }
   ],
   "source": [
    "# agg_col = 'yprice'\n",
    "# new_cols = add_time_depended_rolling(data, agg_col, [6, 60, 360, 1410], np.min, 'min')\n",
    "\n",
    "# for col in new_cols:\n",
    "#     data[col] = data[col] - data[agg_col\n",
    "#                                 ]\n",
    "# # validate_sklearn_model(model, data, selected_cols + new_cols, valid_ratio, test_ratio, droprows);\n",
    "# added_cols = greedy_add_strategy(model, data, selected_cols, new_cols,\n",
    "#                                     valid_ratio, test_ratio, droprows)\n",
    "\n",
    "# validate_sklearn_model(model, data, added_cols, valid_ratio, test_ratio, droprows);\n"
   ]
  },
  {
   "cell_type": "code",
   "execution_count": 78,
   "metadata": {},
   "outputs": [
    {
     "name": "stdout",
     "output_type": "stream",
     "text": [
      "added yprice_time_zscore_360: r2: 1.9878\n",
      "Data shapes:  (194510, 36) (68526, 36) (51394, 36)\n",
      "\n",
      "Valid MSE: \t\t 0.019201\n",
      "Valid R2 (x100): \t 1.9878\n",
      "\n",
      "Test MSE: \t\t 0.015652\n",
      "Test R2 (x100): \t 1.6602\n"
     ]
    }
   ],
   "source": [
    "agg_col = 'yprice'\n",
    "# new_cols = add_time_depended_rolling(data, agg_col, oneday_agg_periods, np.std, 'std')\n",
    "# data['yprice_time_zscore_60'] = data.yprice_time_mean_60 / (data.yprice_time_std_60.fillna(1) + 1e-5)\n",
    "data['yprice_time_zscore_360'] = data.yprice_time_mean_360 / (data.yprice_time_std_360.fillna(1) + 0.1)\n",
    "# data['yprice_time_zscore_1410'] = data.yprice_time_mean_1410 / (data.yprice_time_std_1410.fillna(1) + 1e-5)\n",
    "\n",
    "zscore_cols = [\n",
    "#     'yprice_time_zscore_60', \n",
    "    'yprice_time_zscore_360',\n",
    "#     'yprice_time_zscore_1410', \n",
    "]\n",
    "\n",
    "added_cols = greedy_add_strategy(model, data, selected_cols, zscore_cols, \n",
    "                                 valid_ratio, test_ratio, droprows)\n",
    "validate_sklearn_model(model, data, added_cols, valid_ratio, test_ratio, droprows);"
   ]
  },
  {
   "cell_type": "code",
   "execution_count": 80,
   "metadata": {},
   "outputs": [
    {
     "data": {
      "text/plain": [
       "(0.2, 0.15)"
      ]
     },
     "execution_count": 80,
     "metadata": {},
     "output_type": "execute_result"
    }
   ],
   "source": [
    "valid_ratio, test_ratio"
   ]
  },
  {
   "cell_type": "code",
   "execution_count": 24,
   "metadata": {},
   "outputs": [
    {
     "name": "stdout",
     "output_type": "stream",
     "text": [
      "Data shapes:  (194510, 36) (68526, 36) (51394, 36)\n",
      "\n",
      "Valid MSE: \t\t 0.019221\n",
      "Valid R2 (x100): \t 1.8884\n",
      "\n",
      "Test MSE: \t\t 0.01569\n",
      "Test R2 (x100): \t 1.4207\n"
     ]
    }
   ],
   "source": [
    "validate_sklearn_model(model, data, selected_cols + ['yprice_time_zscore_360'], valid_ratio, test_ratio, droprows);"
   ]
  },
  {
   "cell_type": "code",
   "execution_count": 28,
   "metadata": {},
   "outputs": [],
   "source": [
    "selected_cols = added_cols.copy()"
   ]
  },
  {
   "cell_type": "code",
   "execution_count": 30,
   "metadata": {},
   "outputs": [
    {
     "name": "stdout",
     "output_type": "stream",
     "text": [
      "['xprice_time_std_6', 'xprice_time_std_60', 'xprice_time_std_360', 'xprice_time_std_720', 'xprice_time_std_1410']\n",
      "Data shapes:  (194510, 37) (68526, 37) (51394, 37)\n",
      "\n",
      "Valid MSE: \t\t 0.019221\n",
      "Valid R2 (x100): \t 1.8884\n",
      "\n",
      "Test MSE: \t\t 0.01569\n",
      "Test R2 (x100): \t 1.4207\n"
     ]
    }
   ],
   "source": [
    "# agg_col = 'xprice'\n",
    "# new_cols = add_time_depended_rolling(data, agg_col, oneday_agg_periods, np.std, 'std')\n",
    "# data['xprice_time_zscore_60'] = data.yprice_time_mean_60 / (data.yprice_time_std_60.fillna(1) + 1e-5)\n",
    "# data['xprice_time_zscore_360'] = data.yprice_time_mean_360 / (data.yprice_time_std_360.fillna(1) + 1e-5)\n",
    "# data['xprice_time_zscore_1410'] = data.yprice_time_mean_1410 / (data.yprice_time_std_1410.fillna(1) + 1e-5)\n",
    "\n",
    "# zscore_cols = [\n",
    "#     'xprice_time_zscore_60', \n",
    "#     'xprice_time_zscore_360',\n",
    "#     'xprice_time_zscore_1410', \n",
    "# ]\n",
    "\n",
    "# added_cols = greedy_add_strategy(model, data, selected_cols, zscore_cols, \n",
    "#                                  valid_ratio, test_ratio, droprows)\n",
    "# validate_sklearn_model(model, data, selected_cols + ['xprice_time_zscore_360'], valid_ratio, test_ratio, droprows);"
   ]
  },
  {
   "cell_type": "code",
   "execution_count": 34,
   "metadata": {},
   "outputs": [
    {
     "name": "stdout",
     "output_type": "stream",
     "text": [
      "['yprice_time_zscore_360_lag_1410', 'yprice_time_zscore_360_lag_2820', 'yprice_time_zscore_360_lag_4230', 'yprice_time_zscore_360_lag_5640', 'yprice_time_zscore_360_lag_7050', 'yprice_time_zscore_360_lag_14100', 'yprice_time_zscore_360_lag_21150', 'yprice_time_zscore_360_lag_28200']\n",
      "added yprice_time_zscore_360_lag_28200: r2: 1.9145\n",
      "Data shapes:  (194510, 37) (68526, 37) (51394, 37)\n",
      "\n",
      "Valid MSE: \t\t 0.019216\n",
      "Valid R2 (x100): \t 1.9145\n",
      "\n",
      "Test MSE: \t\t 0.015709\n",
      "Test R2 (x100): \t 1.3032\n"
     ]
    }
   ],
   "source": [
    "# agg_col = 'yprice_time_zscore_360'\n",
    "# new_cols = add_shifts(data, agg_col, month_agg_periods)\n",
    "# usecols.extend(new_cols)\n",
    "\n",
    "# added_cols = greedy_add_strategy(model, data, selected_cols, new_cols,\n",
    "#                                 valid_ratio, test_ratio, droprows)\n",
    "\n",
    "# validate_sklearn_model(model, data, added_cols, valid_ratio, test_ratio, droprows);"
   ]
  },
  {
   "cell_type": "code",
   "execution_count": null,
   "metadata": {},
   "outputs": [],
   "source": []
  },
  {
   "cell_type": "code",
   "execution_count": null,
   "metadata": {},
   "outputs": [],
   "source": []
  },
  {
   "cell_type": "code",
   "execution_count": null,
   "metadata": {},
   "outputs": [],
   "source": []
  },
  {
   "cell_type": "code",
   "execution_count": 14,
   "metadata": {},
   "outputs": [
    {
     "name": "stdout",
     "output_type": "stream",
     "text": [
      "xy_geom_full_history_diff                13.39%           -0.28\n",
      "xprice_time_mean_6                       11.31%            0.24\n",
      "yprice_time_mean_360                     7.22%           -0.15\n",
      "xprice_full_history_diff                 7.10%            0.15\n",
      "xprice_time_mean_720                     7.09%           -0.15\n",
      "yprice_time_mean_720                     6.43%            0.14\n",
      "yprice_full_history_diff                 6.17%            0.13\n",
      "xprice_time_mean_1410                    6.07%            0.13\n",
      "xprice_time_mean_360                     5.08%            0.11\n",
      "yprice_time_mean_1410                    4.02%          -0.085\n",
      "yrel_from_opening                        3.89%           0.082\n",
      "xprice_time_mean_60                      3.13%           0.066\n",
      "yprice_time_mean_6                       2.64%          -0.056\n",
      "yprice_time_mean_360_diff_1410           1.32%          -0.028\n",
      "yprice_time_mean_60                      1.31%          -0.028\n",
      "xrel_from_opening                        1.25%           0.026\n",
      "xprice_time_mean_360_diff_14100          1.14%          -0.024\n",
      "xprice_time_mean_360_diff_1410           1.03%           0.022\n",
      "xprice_time_mean_360_diff_1410           1.03%           0.022\n",
      "yprice_time_mean_360_diff_2820           0.88%           0.018\n",
      "yprice_time_mean_360_diff_14100          0.77%           0.016\n",
      "yprice_time_mean_360_diff_14100          0.77%           0.016\n",
      "xprice_time_mean_360_diff_5640           0.72%          -0.015\n",
      "yprice_time_mean_360_diff_5640           0.69%           0.014\n",
      "yx_relation_full_history_diff            0.67%           0.014\n",
      "xprice_time_mean_360_diff_4230           0.65%           0.014\n",
      "xdiff_from_closing                       0.51%          -0.011\n",
      "xdiff_from_closing                       0.51%          -0.011\n",
      "yprice_time_mean_360_diff_28200          0.45%          0.0095\n",
      "xprice_time_mean_360_diff_28200          0.42%         -0.0088\n",
      "xprice_time_mean_360_diff_28200          0.42%         -0.0088\n",
      "xrel_from_closing                        0.36%          0.0076\n",
      "xprice_time_mean_360_diff_21150          0.36%          0.0076\n",
      "ydiff_from_closing                       0.23%          0.0048\n",
      "ydiff_from_closing                       0.23%          0.0048\n",
      "yprice_time_mean_360_diff_4230           0.17%         -0.0036\n",
      "xprice_time_mean_360_diff_7050           0.16%          0.0033\n",
      "xprice_time_mean_360_diff_7050           0.16%          0.0033\n",
      "yprice_time_mean_360_diff_21150          0.13%         -0.0028\n",
      "yrel_from_closing                        0.08%          0.0018\n",
      "yprice_time_mean_360_diff_7050           0.05%          -0.001\n",
      "xprice_time_mean_360_diff_2820           0.03%         0.00055\n"
     ]
    }
   ],
   "source": [
    "print_importances(model, selected_cols)"
   ]
  },
  {
   "cell_type": "code",
   "execution_count": 28,
   "metadata": {},
   "outputs": [
    {
     "name": "stdout",
     "output_type": "stream",
     "text": [
      "removed yprice_time_mean_360_diff_2820: r2: 0.95017\n",
      "removed xprice_time_mean_360_diff_4230: r2: 0.99257\n",
      "removed yprice_time_mean_60: r2: 1.0282\n",
      "removed xy_geom_time_mean_60: r2: 1.2378\n",
      "removed yprice_time_mean_6: r2: 1.2725\n",
      "removed xprice_time_mean_6: r2: 1.3136\n",
      "removed xprice_time_mean_360_diff_5640: r2: 1.3487\n",
      "removed xprice_time_mean_360_diff_14100: r2: 1.3803\n",
      "removed yprice_time_mean_360_diff_21150: r2: 1.4096\n",
      "removed yprice_time_mean_360_diff_4230: r2: 1.4122\n",
      "removed xy_relation_time_mean_60_diff_7050: r2: 1.4135\n",
      "removed xrel_from_opening: r2: 1.4145\n",
      "removed xy_relation_time_mean_60_diff_2820: r2: 1.4153\n",
      "removed xy_relation_time_mean_360_diff_2820: r2: 1.4155\n",
      "removed xy_relation_time_mean_60: r2: 1.416\n",
      "removed xy_relation_time_mean_60_diff_2820: r2: 1.4163\n",
      "removed xy_relation_time_mean_60_diff_21150: r2: 1.4167\n",
      "removed xy_relation_time_mean_60_diff_14100: r2: 1.417\n",
      "removed yx_relation_full_history_diff: r2: 1.4173\n",
      "removed xy_relation_time_mean_360_diff_4230: r2: 1.4175\n",
      "removed xy_relation_time_mean_360_diff_5640: r2: 1.4178\n",
      "removed xy_relation_time_mean_360_diff_21150: r2: 1.4181\n",
      "removed yprice_time_mean_360_diff_7050: r2: 1.4183\n",
      "removed xprice_time_mean_360_diff_7050: r2: 1.4203\n",
      "removed xy_relation_time_mean_60_diff_4230: r2: 1.4204\n",
      "removed xy_relation_time_mean_360_diff_14100: r2: 1.4206\n",
      "removed yrel_from_closing: r2: 1.4207\n",
      "removed yrel_from_opening: r2: 1.4208\n",
      "removed xy_relation_time_mean_60_diff_5640: r2: 1.4209\n",
      "removed xy_relation_time_mean_60_diff_1410: r2: 1.421\n"
     ]
    }
   ],
   "source": [
    "selected_cols = greedy_add_del_strategy(model, data, usecols, valid_ratio, test_ratio, droprows)"
   ]
  },
  {
   "cell_type": "code",
   "execution_count": 30,
   "metadata": {},
   "outputs": [
    {
     "data": {
      "text/plain": [
       "['ydiff_from_closing',\n",
       " 'xdiff_from_closing',\n",
       " 'xrel_from_closing',\n",
       " 'ydiff_from_closing',\n",
       " 'xdiff_from_closing',\n",
       " 'xprice_time_mean_60',\n",
       " 'xprice_time_mean_360',\n",
       " 'xprice_time_mean_720',\n",
       " 'xprice_time_mean_1410',\n",
       " 'yprice_time_mean_360',\n",
       " 'yprice_time_mean_720',\n",
       " 'yprice_time_mean_1410',\n",
       " 'xprice_full_history_diff',\n",
       " 'yprice_full_history_diff',\n",
       " 'xy_geom_full_history_diff',\n",
       " 'yprice_time_mean_360_diff_1410',\n",
       " 'yprice_time_mean_360_diff_5640',\n",
       " 'yprice_time_mean_360_diff_14100',\n",
       " 'yprice_time_mean_360_diff_28200',\n",
       " 'yprice_time_mean_360_diff_14100',\n",
       " 'xprice_time_mean_360_diff_1410',\n",
       " 'xprice_time_mean_360_diff_2820',\n",
       " 'xprice_time_mean_360_diff_21150',\n",
       " 'xprice_time_mean_360_diff_28200',\n",
       " 'xy_relation_time_mean_6',\n",
       " 'xy_relation_time_mean_360',\n",
       " 'xy_relation_time_mean_720',\n",
       " 'xy_relation_time_mean_1410',\n",
       " 'xy_geom_time_mean_6',\n",
       " 'xy_geom_time_mean_360',\n",
       " 'xy_geom_time_mean_720',\n",
       " 'xy_geom_time_mean_1410',\n",
       " 'xy_relation_time_mean_360_diff_1410',\n",
       " 'xy_relation_time_mean_360_diff_7050',\n",
       " 'xy_relation_time_mean_360_diff_28200',\n",
       " 'xy_relation_time_mean_60_diff_28200',\n",
       " 'xy_relation_time_mean_60_diff_1410']"
      ]
     },
     "execution_count": 30,
     "metadata": {},
     "output_type": "execute_result"
    }
   ],
   "source": [
    "selected_cols"
   ]
  },
  {
   "cell_type": "code",
   "execution_count": 29,
   "metadata": {},
   "outputs": [
    {
     "name": "stdout",
     "output_type": "stream",
     "text": [
      "Data shapes:  (194510, 36) (68526, 36) (51394, 36)\n",
      "\n",
      "Valid MSE: \t\t 0.019312\n",
      "Valid R2 (x100): \t 1.421\n",
      "\n",
      "Test MSE: \t\t 0.015751\n",
      "Test R2 (x100): \t 1.0392\n"
     ]
    }
   ],
   "source": [
    "validate_sklearn_model(model, data, selected_cols, valid_ratio, test_ratio, droprows);"
   ]
  }
 ],
 "metadata": {
  "kernelspec": {
   "display_name": "Python 3",
   "language": "python",
   "name": "python3"
  },
  "language_info": {
   "codemirror_mode": {
    "name": "ipython",
    "version": 3
   },
   "file_extension": ".py",
   "mimetype": "text/x-python",
   "name": "python",
   "nbconvert_exporter": "python",
   "pygments_lexer": "ipython3",
   "version": "3.6.8"
  }
 },
 "nbformat": 4,
 "nbformat_minor": 2
}
