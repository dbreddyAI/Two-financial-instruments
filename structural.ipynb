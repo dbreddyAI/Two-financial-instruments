{
 "cells": [
  {
   "cell_type": "code",
   "execution_count": 1,
   "metadata": {},
   "outputs": [],
   "source": [
    "import pandas as pd\n",
    "import numpy as np\n",
    "\n",
    "import matplotlib.pylab as plt\n",
    "%matplotlib inline\n",
    "\n",
    "from tqdm import tqdm, tqdm_notebook\n",
    "pd.set_option(\"display.max_rows\", 100)\n",
    "pd.set_option('display.max_columns', 200)\n",
    "\n",
    "from sklearn.metrics import mean_squared_error, r2_score\n",
    "from sklearn.linear_model import LinearRegression, ElasticNet, Ridge\n",
    "fname = 'data.csv'\n",
    "\n",
    "from ts_features import init_data, add_hand_feats, add_diffs, add_shifts\n",
    "from ts_features import add_time_depended_rolling, add_full_history_diff\n",
    "from ts_validation import time_split, validate_sklearn_model, greedy_add_del_strategy, greedy_add_strategy\n",
    "from helper import print_importances"
   ]
  },
  {
   "cell_type": "code",
   "execution_count": 2,
   "metadata": {},
   "outputs": [
    {
     "name": "stdout",
     "output_type": "stream",
     "text": [
      "month_agg_periods: [1410, 2820, 4230, 5640, 7050, 14100, 21150, 28200]\n"
     ]
    }
   ],
   "source": [
    "short_agg_periods = [6, 60, 360]\n",
    "oneday_agg_periods = [6, 60, 360, 720, 1410]\n",
    "twoweeks_agg_periods = [6, 60, 360, 720, 1410, 2820, 7050, 14100]\n",
    "\n",
    "month_days_periods = [1,2,3,4,5,10,15,20]\n",
    "month_agg_periods = list(map(lambda x: x * 1410, month_days_periods))\n",
    "print('month_agg_periods: {}'.format(month_agg_periods))\n",
    "\n",
    "merged_agg_periods = [6, 60, 360, 720, 1410, 2820, 4230, 5640, 7050, 14100, 21150]"
   ]
  },
  {
   "cell_type": "code",
   "execution_count": 3,
   "metadata": {},
   "outputs": [],
   "source": [
    "valid_ratio = 0.2\n",
    "test_ratio = 0.15\n",
    "\n",
    "droprows = 7050\n",
    "# droprows = 28200"
   ]
  },
  {
   "cell_type": "code",
   "execution_count": 4,
   "metadata": {},
   "outputs": [],
   "source": [
    "model = Ridge(alpha=10)"
   ]
  },
  {
   "cell_type": "code",
   "execution_count": 5,
   "metadata": {},
   "outputs": [],
   "source": [
    "# usecols = []\n",
    "\n",
    "# data = init_data(fname)\n",
    "\n",
    "# hand_crafted_cols = add_hand_feats(data)\n",
    "# usecols.extend(hand_crafted_cols)\n",
    "\n",
    "# xcols = add_time_depended_rolling(data, 'xprice', oneday_agg_periods, np.mean, 'mean')\n",
    "# for col in xcols:\n",
    "#     data[col] = data.xprice - data[col]\n",
    "# usecols.extend(xcols)\n",
    "\n",
    "# ycols = add_time_depended_rolling(data, 'yprice', oneday_agg_periods, np.mean, 'mean')\n",
    "# for col in ycols:\n",
    "#     data[col] = data.yprice - data[col]\n",
    "# usecols.extend(ycols)\n",
    "\n",
    "# usecols.append(add_full_history_diff(data, 'xprice'))\n",
    "# usecols.append(add_full_history_diff(data, 'yprice'))\n",
    "# usecols.append(add_full_history_diff(data, 'yx_relation'))\n",
    "# usecols.append(add_full_history_diff(data, 'xy_geom'))\n",
    "\n",
    "# validate_sklearn_model(model, data, usecols, valid_ratio, test_ratio, droprows);\n",
    "# data.to_pickle('init_data.pkl')"
   ]
  },
  {
   "cell_type": "code",
   "execution_count": 6,
   "metadata": {},
   "outputs": [
    {
     "name": "stdout",
     "output_type": "stream",
     "text": [
      "Data shapes:  (215660, 22) (68526, 22) (51394, 22)\n",
      "\n",
      "Valid MSE: \t\t 0.019413\n",
      "Valid R2 (x100): \t 0.90537\n",
      "\n",
      "Test MSE: \t\t 0.015764\n",
      "Test R2 (x100): \t 0.95689\n"
     ]
    }
   ],
   "source": [
    "data = pd.read_pickle('init_data.pkl')\n",
    "usecols = [\n",
    "    'ydiff_from_closing','xdiff_from_closing', 'yrel_from_closing','xrel_from_closing',\n",
    "    'ydiff_from_closing','xdiff_from_closing','yrel_from_opening','xrel_from_opening',\n",
    "    'xprice_time_mean_6','xprice_time_mean_60','xprice_time_mean_360','xprice_time_mean_720',\n",
    "    'xprice_time_mean_1410','yprice_time_mean_6','yprice_time_mean_60','yprice_time_mean_360',\n",
    "    'yprice_time_mean_720','yprice_time_mean_1410','xprice_full_history_diff','yprice_full_history_diff',\n",
    "    'yx_relation_full_history_diff','xy_geom_full_history_diff'\n",
    "]\n",
    "validate_sklearn_model(model, data, usecols, valid_ratio, test_ratio, droprows);"
   ]
  },
  {
   "cell_type": "code",
   "execution_count": 7,
   "metadata": {},
   "outputs": [],
   "source": [
    "# rsi_spread_cols = add_rsi(data, 'yx_spread', twoweeks_agg_periods)\n",
    "# usecols.extend(new_cols)\n",
    "\n",
    "# rsi_yxrel_cols = add_rsi(data, 'yx_relation', twoweeks_agg_periods)\n",
    "# usecols.extend(new_cols)\n",
    "\n",
    "# rsi_spread_cols = add_rsi(data, 'xy_relation', twoweeks_agg_periods)\n",
    "# usecols.extend(new_cols)\n",
    "\n",
    "# rsi_spread_cols = add_rsi(data, 'xy_geom', twoweeks_agg_periods)\n",
    "# usecols.extend(new_cols)\n",
    "\n",
    "# rsi_spread_cols = add_rsi(data, 'xy_garmonic', twoweeks_agg_periods)\n",
    "# usecols.extend(new_cols)"
   ]
  },
  {
   "cell_type": "code",
   "execution_count": 8,
   "metadata": {},
   "outputs": [
    {
     "name": "stdout",
     "output_type": "stream",
     "text": [
      "['yprice_time_mean_360_diff_1410', 'yprice_time_mean_360_diff_2820', 'yprice_time_mean_360_diff_4230', 'yprice_time_mean_360_diff_5640', 'yprice_time_mean_360_diff_7050', 'yprice_time_mean_360_diff_14100', 'yprice_time_mean_360_diff_21150', 'yprice_time_mean_360_diff_28200']\n",
      "added yprice_time_mean_360_diff_14100: r2: 0.88222\n",
      "Data shapes:  (194510, 30) (68526, 30) (51394, 30)\n",
      "\n",
      "Valid MSE: \t\t 0.019418\n",
      "Valid R2 (x100): \t 0.88222\n",
      "\n",
      "Test MSE: \t\t 0.015722\n",
      "Test R2 (x100): \t 1.2195\n"
     ]
    }
   ],
   "source": [
    "agg_col = 'yprice_time_mean_360'\n",
    "new_cols = add_diffs(data, agg_col, month_agg_periods)\n",
    "usecols.extend(new_cols)\n",
    "\n",
    "selected_cols = greedy_add_strategy(model, data, usecols, new_cols,\n",
    "                                    valid_ratio, test_ratio, droprows)\n",
    "\n",
    "validate_sklearn_model(model, data, selected_cols, valid_ratio, test_ratio, droprows);"
   ]
  },
  {
   "cell_type": "code",
   "execution_count": 9,
   "metadata": {},
   "outputs": [
    {
     "name": "stdout",
     "output_type": "stream",
     "text": [
      "['xprice_time_mean_360_diff_1410', 'xprice_time_mean_360_diff_2820', 'xprice_time_mean_360_diff_4230', 'xprice_time_mean_360_diff_5640', 'xprice_time_mean_360_diff_7050', 'xprice_time_mean_360_diff_14100', 'xprice_time_mean_360_diff_21150', 'xprice_time_mean_360_diff_28200']\n",
      "added xprice_time_mean_360_diff_1410: r2: 0.98928\n",
      "added xprice_time_mean_360_diff_7050: r2: 0.99212\n",
      "added xprice_time_mean_360_diff_28200: r2: 1.0374\n",
      "Data shapes:  (194510, 33) (68526, 33) (51394, 33)\n",
      "\n",
      "Valid MSE: \t\t 0.019388\n",
      "Valid R2 (x100): \t 1.0374\n",
      "\n",
      "Test MSE: \t\t 0.015696\n",
      "Test R2 (x100): \t 1.383\n"
     ]
    }
   ],
   "source": [
    "agg_col = 'xprice_time_mean_360'\n",
    "new_cols = add_diffs(data, agg_col, month_agg_periods)\n",
    "usecols.extend(new_cols)\n",
    "\n",
    "selected_cols = greedy_add_strategy(model, data, selected_cols, new_cols,\n",
    "                                    valid_ratio, test_ratio, droprows)\n",
    "\n",
    "validate_sklearn_model(model, data, selected_cols, valid_ratio, test_ratio, droprows);"
   ]
  },
  {
   "cell_type": "code",
   "execution_count": 10,
   "metadata": {},
   "outputs": [],
   "source": [
    "# agg_col = 'yx_relation'\n",
    "# new_cols = add_time_depended_rolling(data, agg_col, oneday_agg_periods, np.mean, 'mean')\n",
    "# for col in new_cols:\n",
    "#     data[col] = data[col] - data[agg_col]\n",
    "# usecols.extend(new_cols)\n",
    "\n",
    "# selected_cols = greedy_add_strategy(model, data, selected_cols, new_cols,\n",
    "#                                     valid_ratio, test_ratio, droprows)\n",
    "# validate_sklearn_model(model, data, selected_cols, valid_ratio, test_ratio, droprows);"
   ]
  },
  {
   "cell_type": "code",
   "execution_count": 11,
   "metadata": {},
   "outputs": [],
   "source": [
    "# agg_col = 'xy_geom'\n",
    "# new_cols = add_time_depended_rolling(data, agg_col, oneday_agg_periods, np.mean, 'mean')\n",
    "# for col in new_cols:\n",
    "#     data[col] = data[col] - data[agg_col]\n",
    "# usecols.extend(new_cols)\n",
    "\n",
    "# selected_cols = greedy_add_strategy(model, data, selected_cols, new_cols,\n",
    "#                                     valid_ratio, test_ratio, droprows)\n",
    "# validate_sklearn_model(model, data, selected_cols, valid_ratio, test_ratio, droprows);"
   ]
  },
  {
   "cell_type": "code",
   "execution_count": 12,
   "metadata": {},
   "outputs": [],
   "source": [
    "# agg_col = 'yx_relation_time_mean_360'\n",
    "# new_cols = add_diffs(data, agg_col, month_agg_periods)\n",
    "# usecols.extend(new_cols)\n",
    "\n",
    "# selected_cols = greedy_add_strategy(model, data, selected_cols, new_cols,\n",
    "#                                     valid_ratio, test_ratio, droprows)\n",
    "# validate_sklearn_model(model, data, selected_cols, valid_ratio, test_ratio, droprows);"
   ]
  },
  {
   "cell_type": "code",
   "execution_count": 13,
   "metadata": {},
   "outputs": [],
   "source": [
    "# agg_col = 'xy_geom'\n",
    "# new_cols = add_time_depended_rolling(data, agg_col, [60, 360, 1410], np.std, 'std')\n",
    "# for col in new_cols:\n",
    "#     data[col] = data[col].fillna(0)\n",
    "# usecols.extend(new_cols)\n",
    "\n",
    "# selected_cols = greedy_add_strategy(model, data, selected_cols, new_cols,\n",
    "#                                     valid_ratio, test_ratio, droprows)\n",
    "# validate_sklearn_model(model, data, selected_cols, valid_ratio, test_ratio, droprows);"
   ]
  },
  {
   "cell_type": "code",
   "execution_count": 14,
   "metadata": {},
   "outputs": [],
   "source": [
    "# agg_col = 'xy_relation_time_mean_60'\n",
    "# new_cols = add_diffs(data, agg_col, month_agg_periods)\n",
    "\n",
    "# usecols.extend(new_cols)\n",
    "# validate_sklearn_model(model, data, usecols, valid_ratio, test_ratio, droprows);"
   ]
  },
  {
   "cell_type": "code",
   "execution_count": 15,
   "metadata": {},
   "outputs": [],
   "source": [
    "# agg_col = 'yprice'\n",
    "# # new_cols = add_time_depended_rolling(data, agg_col, [60, 360, 1410], np.std, 'std')\n",
    "# data['yprice_time_normbot_60'] = data.yprice_time_mean_60 - 2 * data.yprice_time_std_60.fillna(0)\n",
    "# data['yprice_time_normtop_60'] = data.yprice_time_mean_60 + 2 * data.yprice_time_std_60.fillna(0)\n",
    "# data['yprice_time_normbot_360'] = data.yprice_time_mean_360 - 2 * data.yprice_time_std_360.fillna(0)\n",
    "# data['yprice_time_normtop_360'] = data.yprice_time_mean_360 + 2 * data.yprice_time_std_360.fillna(0)\n",
    "# data['yprice_time_normbot_1410'] = data.yprice_time_mean_1410 - 2 * data.yprice_time_std_1410.fillna(0)\n",
    "# data['yprice_time_normtop_1410'] = data.yprice_time_mean_1410 + 2 * data.yprice_time_std_1410.fillna(0)\n",
    "# norm_cols = [\n",
    "#     'yprice_time_normbot_60', \n",
    "#     'yprice_time_normtop_60',\n",
    "#     'yprice_time_normbot_360', \n",
    "#     'yprice_time_normtop_360',\n",
    "#     'yprice_time_normbot_1410',\n",
    "#     'yprice_time_normtop_1410'\n",
    "# ]\n",
    "# for col in new_cols:\n",
    "#     data[col] = data[col].fillna(0)\n",
    "# validate_sklearn_model(model, data, selected_cols + norm_cols, valid_ratio, test_ratio, droprows);"
   ]
  },
  {
   "cell_type": "code",
   "execution_count": 16,
   "metadata": {},
   "outputs": [
    {
     "name": "stdout",
     "output_type": "stream",
     "text": [
      "['yprice_time_max_6', 'yprice_time_max_60', 'yprice_time_max_360', 'yprice_time_max_1410']\n",
      "added yprice_time_max_6: r2: 1.0393\n",
      "Data shapes:  (194510, 34) (68526, 34) (51394, 34)\n",
      "\n",
      "Valid MSE: \t\t 0.019387\n",
      "Valid R2 (x100): \t 1.0393\n",
      "\n",
      "Test MSE: \t\t 0.015695\n",
      "Test R2 (x100): \t 1.3925\n"
     ]
    }
   ],
   "source": [
    "agg_col = 'yprice'\n",
    "new_cols = add_time_depended_rolling(data, agg_col, [6, 60, 360, 1410], np.max, 'max')\n",
    "\n",
    "for col in new_cols:\n",
    "    data[col] = data[col] - data[agg_col\n",
    "                                ]\n",
    "# validate_sklearn_model(model, data, selected_cols + new_cols, valid_ratio, test_ratio, droprows);\n",
    "added_cols = greedy_add_strategy(model, data, selected_cols, new_cols, \n",
    "                                 valid_ratio, test_ratio, droprows)\n",
    "\n",
    "validate_sklearn_model(model, data, added_cols, valid_ratio, test_ratio, droprows);"
   ]
  },
  {
   "cell_type": "code",
   "execution_count": 17,
   "metadata": {},
   "outputs": [
    {
     "name": "stdout",
     "output_type": "stream",
     "text": [
      "['yprice_time_max_60_lag_60', 'yprice_time_max_60_lag_120', 'yprice_time_max_60_lag_180', 'yprice_time_max_60_lag_240']\n",
      "added yprice_time_max_60_lag_180: r2: 1.059\n",
      "Data shapes:  (194510, 35) (68526, 35) (51394, 35)\n",
      "\n",
      "Valid MSE: \t\t 0.019383\n",
      "Valid R2 (x100): \t 1.059\n",
      "\n",
      "Test MSE: \t\t 0.015691\n",
      "Test R2 (x100): \t 1.4162\n"
     ]
    }
   ],
   "source": [
    "agg_col = 'yprice_time_max_60'\n",
    "new_cols = add_shifts(data, agg_col, [60, 120, 180, 240])\n",
    "usecols.extend(new_cols)\n",
    "\n",
    "added_cols = greedy_add_strategy(model, data, added_cols, new_cols,\n",
    "                                valid_ratio, test_ratio, droprows)\n",
    "\n",
    "validate_sklearn_model(model, data, added_cols, valid_ratio, test_ratio, droprows);"
   ]
  },
  {
   "cell_type": "code",
   "execution_count": 19,
   "metadata": {},
   "outputs": [],
   "source": [
    "selected_cols = added_cols.copy()"
   ]
  },
  {
   "cell_type": "code",
   "execution_count": 20,
   "metadata": {},
   "outputs": [
    {
     "name": "stdout",
     "output_type": "stream",
     "text": [
      "['yprice_time_min_6', 'yprice_time_min_60', 'yprice_time_min_360', 'yprice_time_min_1410']\n",
      "Data shapes:  (194510, 35) (68526, 35) (51394, 35)\n",
      "\n",
      "Valid MSE: \t\t 0.019383\n",
      "Valid R2 (x100): \t 1.059\n",
      "\n",
      "Test MSE: \t\t 0.015691\n",
      "Test R2 (x100): \t 1.4162\n"
     ]
    }
   ],
   "source": [
    "agg_col = 'yprice'\n",
    "new_cols = add_time_depended_rolling(data, agg_col, [6, 60, 360, 1410], np.min, 'min')\n",
    "\n",
    "for col in new_cols:\n",
    "    data[col] = data[col] - data[agg_col\n",
    "                                ]\n",
    "# validate_sklearn_model(model, data, selected_cols + new_cols, valid_ratio, test_ratio, droprows);\n",
    "added_cols = greedy_add_strategy(model, data, selected_cols, new_cols,\n",
    "                                    valid_ratio, test_ratio, droprows)\n",
    "\n",
    "validate_sklearn_model(model, data, added_cols, valid_ratio, test_ratio, droprows);\n"
   ]
  },
  {
   "cell_type": "code",
   "execution_count": 18,
   "metadata": {},
   "outputs": [
    {
     "name": "stdout",
     "output_type": "stream",
     "text": [
      "Data shapes:  (194510, 35) (68526, 35) (51394, 35)\n",
      "\n",
      "Valid MSE: \t\t 0.019383\n",
      "Valid R2 (x100): \t 1.059\n",
      "\n",
      "Test MSE: \t\t 0.015691\n",
      "Test R2 (x100): \t 1.4162\n"
     ]
    }
   ],
   "source": [
    "validate_sklearn_model(model, data, selected_cols, valid_ratio, test_ratio, droprows);\n"
   ]
  },
  {
   "cell_type": "code",
   "execution_count": null,
   "metadata": {},
   "outputs": [],
   "source": []
  },
  {
   "cell_type": "code",
   "execution_count": null,
   "metadata": {},
   "outputs": [],
   "source": []
  },
  {
   "cell_type": "code",
   "execution_count": null,
   "metadata": {},
   "outputs": [],
   "source": []
  },
  {
   "cell_type": "code",
   "execution_count": null,
   "metadata": {},
   "outputs": [],
   "source": [
    "usecols.extend(new_cols)\n",
    "\n",
    "# selected_cols = greedy_add_strategy(model, data, selected_cols, new_cols,\n",
    "#                                     valid_ratio, test_ratio, droprows)\n"
   ]
  },
  {
   "cell_type": "code",
   "execution_count": 14,
   "metadata": {},
   "outputs": [
    {
     "name": "stdout",
     "output_type": "stream",
     "text": [
      "xy_geom_full_history_diff                13.39%           -0.28\n",
      "xprice_time_mean_6                       11.31%            0.24\n",
      "yprice_time_mean_360                     7.22%           -0.15\n",
      "xprice_full_history_diff                 7.10%            0.15\n",
      "xprice_time_mean_720                     7.09%           -0.15\n",
      "yprice_time_mean_720                     6.43%            0.14\n",
      "yprice_full_history_diff                 6.17%            0.13\n",
      "xprice_time_mean_1410                    6.07%            0.13\n",
      "xprice_time_mean_360                     5.08%            0.11\n",
      "yprice_time_mean_1410                    4.02%          -0.085\n",
      "yrel_from_opening                        3.89%           0.082\n",
      "xprice_time_mean_60                      3.13%           0.066\n",
      "yprice_time_mean_6                       2.64%          -0.056\n",
      "yprice_time_mean_360_diff_1410           1.32%          -0.028\n",
      "yprice_time_mean_60                      1.31%          -0.028\n",
      "xrel_from_opening                        1.25%           0.026\n",
      "xprice_time_mean_360_diff_14100          1.14%          -0.024\n",
      "xprice_time_mean_360_diff_1410           1.03%           0.022\n",
      "xprice_time_mean_360_diff_1410           1.03%           0.022\n",
      "yprice_time_mean_360_diff_2820           0.88%           0.018\n",
      "yprice_time_mean_360_diff_14100          0.77%           0.016\n",
      "yprice_time_mean_360_diff_14100          0.77%           0.016\n",
      "xprice_time_mean_360_diff_5640           0.72%          -0.015\n",
      "yprice_time_mean_360_diff_5640           0.69%           0.014\n",
      "yx_relation_full_history_diff            0.67%           0.014\n",
      "xprice_time_mean_360_diff_4230           0.65%           0.014\n",
      "xdiff_from_closing                       0.51%          -0.011\n",
      "xdiff_from_closing                       0.51%          -0.011\n",
      "yprice_time_mean_360_diff_28200          0.45%          0.0095\n",
      "xprice_time_mean_360_diff_28200          0.42%         -0.0088\n",
      "xprice_time_mean_360_diff_28200          0.42%         -0.0088\n",
      "xrel_from_closing                        0.36%          0.0076\n",
      "xprice_time_mean_360_diff_21150          0.36%          0.0076\n",
      "ydiff_from_closing                       0.23%          0.0048\n",
      "ydiff_from_closing                       0.23%          0.0048\n",
      "yprice_time_mean_360_diff_4230           0.17%         -0.0036\n",
      "xprice_time_mean_360_diff_7050           0.16%          0.0033\n",
      "xprice_time_mean_360_diff_7050           0.16%          0.0033\n",
      "yprice_time_mean_360_diff_21150          0.13%         -0.0028\n",
      "yrel_from_closing                        0.08%          0.0018\n",
      "yprice_time_mean_360_diff_7050           0.05%          -0.001\n",
      "xprice_time_mean_360_diff_2820           0.03%         0.00055\n"
     ]
    }
   ],
   "source": [
    "print_importances(model, selected_cols)"
   ]
  },
  {
   "cell_type": "code",
   "execution_count": 28,
   "metadata": {},
   "outputs": [
    {
     "name": "stdout",
     "output_type": "stream",
     "text": [
      "removed yprice_time_mean_360_diff_2820: r2: 0.95017\n",
      "removed xprice_time_mean_360_diff_4230: r2: 0.99257\n",
      "removed yprice_time_mean_60: r2: 1.0282\n",
      "removed xy_geom_time_mean_60: r2: 1.2378\n",
      "removed yprice_time_mean_6: r2: 1.2725\n",
      "removed xprice_time_mean_6: r2: 1.3136\n",
      "removed xprice_time_mean_360_diff_5640: r2: 1.3487\n",
      "removed xprice_time_mean_360_diff_14100: r2: 1.3803\n",
      "removed yprice_time_mean_360_diff_21150: r2: 1.4096\n",
      "removed yprice_time_mean_360_diff_4230: r2: 1.4122\n",
      "removed xy_relation_time_mean_60_diff_7050: r2: 1.4135\n",
      "removed xrel_from_opening: r2: 1.4145\n",
      "removed xy_relation_time_mean_60_diff_2820: r2: 1.4153\n",
      "removed xy_relation_time_mean_360_diff_2820: r2: 1.4155\n",
      "removed xy_relation_time_mean_60: r2: 1.416\n",
      "removed xy_relation_time_mean_60_diff_2820: r2: 1.4163\n",
      "removed xy_relation_time_mean_60_diff_21150: r2: 1.4167\n",
      "removed xy_relation_time_mean_60_diff_14100: r2: 1.417\n",
      "removed yx_relation_full_history_diff: r2: 1.4173\n",
      "removed xy_relation_time_mean_360_diff_4230: r2: 1.4175\n",
      "removed xy_relation_time_mean_360_diff_5640: r2: 1.4178\n",
      "removed xy_relation_time_mean_360_diff_21150: r2: 1.4181\n",
      "removed yprice_time_mean_360_diff_7050: r2: 1.4183\n",
      "removed xprice_time_mean_360_diff_7050: r2: 1.4203\n",
      "removed xy_relation_time_mean_60_diff_4230: r2: 1.4204\n",
      "removed xy_relation_time_mean_360_diff_14100: r2: 1.4206\n",
      "removed yrel_from_closing: r2: 1.4207\n",
      "removed yrel_from_opening: r2: 1.4208\n",
      "removed xy_relation_time_mean_60_diff_5640: r2: 1.4209\n",
      "removed xy_relation_time_mean_60_diff_1410: r2: 1.421\n"
     ]
    }
   ],
   "source": [
    "selected_cols = greedy_add_del_strategy(model, data, usecols, valid_ratio, test_ratio, droprows)"
   ]
  },
  {
   "cell_type": "code",
   "execution_count": 30,
   "metadata": {},
   "outputs": [
    {
     "data": {
      "text/plain": [
       "['ydiff_from_closing',\n",
       " 'xdiff_from_closing',\n",
       " 'xrel_from_closing',\n",
       " 'ydiff_from_closing',\n",
       " 'xdiff_from_closing',\n",
       " 'xprice_time_mean_60',\n",
       " 'xprice_time_mean_360',\n",
       " 'xprice_time_mean_720',\n",
       " 'xprice_time_mean_1410',\n",
       " 'yprice_time_mean_360',\n",
       " 'yprice_time_mean_720',\n",
       " 'yprice_time_mean_1410',\n",
       " 'xprice_full_history_diff',\n",
       " 'yprice_full_history_diff',\n",
       " 'xy_geom_full_history_diff',\n",
       " 'yprice_time_mean_360_diff_1410',\n",
       " 'yprice_time_mean_360_diff_5640',\n",
       " 'yprice_time_mean_360_diff_14100',\n",
       " 'yprice_time_mean_360_diff_28200',\n",
       " 'yprice_time_mean_360_diff_14100',\n",
       " 'xprice_time_mean_360_diff_1410',\n",
       " 'xprice_time_mean_360_diff_2820',\n",
       " 'xprice_time_mean_360_diff_21150',\n",
       " 'xprice_time_mean_360_diff_28200',\n",
       " 'xy_relation_time_mean_6',\n",
       " 'xy_relation_time_mean_360',\n",
       " 'xy_relation_time_mean_720',\n",
       " 'xy_relation_time_mean_1410',\n",
       " 'xy_geom_time_mean_6',\n",
       " 'xy_geom_time_mean_360',\n",
       " 'xy_geom_time_mean_720',\n",
       " 'xy_geom_time_mean_1410',\n",
       " 'xy_relation_time_mean_360_diff_1410',\n",
       " 'xy_relation_time_mean_360_diff_7050',\n",
       " 'xy_relation_time_mean_360_diff_28200',\n",
       " 'xy_relation_time_mean_60_diff_28200',\n",
       " 'xy_relation_time_mean_60_diff_1410']"
      ]
     },
     "execution_count": 30,
     "metadata": {},
     "output_type": "execute_result"
    }
   ],
   "source": [
    "selected_cols"
   ]
  },
  {
   "cell_type": "code",
   "execution_count": 29,
   "metadata": {},
   "outputs": [
    {
     "name": "stdout",
     "output_type": "stream",
     "text": [
      "Data shapes:  (194510, 36) (68526, 36) (51394, 36)\n",
      "\n",
      "Valid MSE: \t\t 0.019312\n",
      "Valid R2 (x100): \t 1.421\n",
      "\n",
      "Test MSE: \t\t 0.015751\n",
      "Test R2 (x100): \t 1.0392\n"
     ]
    }
   ],
   "source": [
    "validate_sklearn_model(model, data, selected_cols, valid_ratio, test_ratio, droprows);"
   ]
  }
 ],
 "metadata": {
  "kernelspec": {
   "display_name": "Python 3",
   "language": "python",
   "name": "python3"
  },
  "language_info": {
   "codemirror_mode": {
    "name": "ipython",
    "version": 3
   },
   "file_extension": ".py",
   "mimetype": "text/x-python",
   "name": "python",
   "nbconvert_exporter": "python",
   "pygments_lexer": "ipython3",
   "version": "3.6.8"
  }
 },
 "nbformat": 4,
 "nbformat_minor": 2
}
