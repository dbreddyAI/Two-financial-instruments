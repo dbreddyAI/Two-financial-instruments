{
 "cells": [
  {
   "cell_type": "code",
   "execution_count": 1,
   "metadata": {},
   "outputs": [],
   "source": [
    "import pandas as pd\n",
    "import numpy as np\n",
    "\n",
    "import matplotlib.pylab as plt\n",
    "%matplotlib inline\n",
    "\n",
    "from tqdm import tqdm, tqdm_notebook\n",
    "pd.set_option(\"display.max_rows\", 100)\n",
    "pd.set_option('display.max_columns', 200)\n",
    "\n",
    "from sklearn.metrics import mean_squared_error, r2_score\n",
    "from sklearn.linear_model import LinearRegression, ElasticNet, Ridge\n",
    "fname = 'data.csv'\n",
    "\n",
    "from ts_features import init_data, add_hand_feats, add_diffs, add_shifts\n",
    "from ts_features import add_time_depended_rolling, add_full_history_diff\n",
    "from ts_validation import validate_sklearn_model, validate_model_by_pentate, validate_model_by_triplets\n",
    "from ts_validation import greedy_add_del_strategy, greedy_add_strategy\n",
    "from helper import print_importances"
   ]
  },
  {
   "cell_type": "code",
   "execution_count": 2,
   "metadata": {},
   "outputs": [
    {
     "name": "stdout",
     "output_type": "stream",
     "text": [
      "month_agg_periods: [1410, 2820, 4230, 5640, 7050, 14100, 21150, 28200]\n"
     ]
    }
   ],
   "source": [
    "short_agg_periods = [6, 60, 360]\n",
    "oneday_agg_periods = [6, 60, 360, 720, 1410]\n",
    "twoweeks_agg_periods = [6, 60, 360, 720, 1410, 2820, 7050, 14100]\n",
    "\n",
    "month_days_periods = [1,2,3,4,5,10,15,20]\n",
    "month_agg_periods = list(map(lambda x: x * 1410, month_days_periods))\n",
    "print('month_agg_periods: {}'.format(month_agg_periods))\n",
    "\n",
    "merged_agg_periods = [6, 60, 360, 720, 1410, 2820, 4230, 5640, 7050, 14100, 21150]\n",
    "\n",
    "\n",
    "valid_ratio = 0.25\n",
    "test_ratio = 0.25\n",
    "triplets = [\n",
    "    (0.5, 0.25, 0.25), \n",
    "    (0.6, 0.2, 0.2), \n",
    "    (0.7,0.15,0.15),\n",
    "#     (0.65, 0.2, 0.15)\n",
    "]\n",
    "droprows = 7050\n",
    "# droprows = 28200"
   ]
  },
  {
   "cell_type": "code",
   "execution_count": 3,
   "metadata": {},
   "outputs": [],
   "source": [
    "model = Ridge(alpha=10)"
   ]
  },
  {
   "cell_type": "code",
   "execution_count": 4,
   "metadata": {},
   "outputs": [
    {
     "data": {
      "text/html": [
       "<div>\n",
       "<style scoped>\n",
       "    .dataframe tbody tr th:only-of-type {\n",
       "        vertical-align: middle;\n",
       "    }\n",
       "\n",
       "    .dataframe tbody tr th {\n",
       "        vertical-align: top;\n",
       "    }\n",
       "\n",
       "    .dataframe thead th {\n",
       "        text-align: right;\n",
       "    }\n",
       "</style>\n",
       "<table border=\"1\" class=\"dataframe\">\n",
       "  <thead>\n",
       "    <tr style=\"text-align: right;\">\n",
       "      <th></th>\n",
       "      <th>train_50_percent</th>\n",
       "      <th>train_60_percent</th>\n",
       "      <th>train_70_percent</th>\n",
       "      <th>train_80_percent</th>\n",
       "      <th>train_90_percent</th>\n",
       "      <th>min_stats</th>\n",
       "      <th>max_stats</th>\n",
       "      <th>avg</th>\n",
       "    </tr>\n",
       "  </thead>\n",
       "  <tbody>\n",
       "    <tr>\n",
       "      <td>mse</td>\n",
       "      <td>0.021624</td>\n",
       "      <td>0.020635</td>\n",
       "      <td>0.016504</td>\n",
       "      <td>0.021818</td>\n",
       "      <td>0.015049</td>\n",
       "      <td>0.015053</td>\n",
       "      <td>0.021820</td>\n",
       "      <td>0.018936</td>\n",
       "    </tr>\n",
       "    <tr>\n",
       "      <td>r2</td>\n",
       "      <td>0.326764</td>\n",
       "      <td>0.151728</td>\n",
       "      <td>-1.880555</td>\n",
       "      <td>0.824074</td>\n",
       "      <td>0.385940</td>\n",
       "      <td>-1.880859</td>\n",
       "      <td>0.824219</td>\n",
       "      <td>-0.178345</td>\n",
       "    </tr>\n",
       "  </tbody>\n",
       "</table>\n",
       "</div>"
      ],
      "text/plain": [
       "     train_50_percent  train_60_percent  train_70_percent  train_80_percent  \\\n",
       "mse          0.021624          0.020635          0.016504          0.021818   \n",
       "r2           0.326764          0.151728         -1.880555          0.824074   \n",
       "\n",
       "     train_90_percent  min_stats  max_stats       avg  \n",
       "mse          0.015049   0.015053   0.021820  0.018936  \n",
       "r2           0.385940  -1.880859   0.824219 -0.178345  "
      ]
     },
     "execution_count": 4,
     "metadata": {},
     "output_type": "execute_result"
    }
   ],
   "source": [
    "# usecols = []\n",
    "\n",
    "# data = init_data(fname)\n",
    "\n",
    "# hand_crafted_cols = add_hand_feats(data)\n",
    "# usecols.extend(hand_crafted_cols)\n",
    "\n",
    "# xcols = add_time_depended_rolling(data, 'xprice', oneday_agg_periods, np.mean, 'mean')\n",
    "# for col in xcols:\n",
    "#     data[col] = data.xprice - data[col]\n",
    "# usecols.extend(xcols)\n",
    "\n",
    "# ycols = add_time_depended_rolling(data, 'yprice', oneday_agg_periods, np.mean, 'mean')\n",
    "# for col in ycols:\n",
    "#     data[col] = data.yprice - data[col]\n",
    "# usecols.extend(ycols)\n",
    "\n",
    "# usecols.append(add_full_history_diff(data, 'xprice'))\n",
    "# usecols.append(add_full_history_diff(data, 'yprice'))\n",
    "# usecols.append(add_full_history_diff(data, 'yx_relation'))\n",
    "# usecols.append(add_full_history_diff(data, 'xy_geom'))\n",
    "\n",
    "# validate_sklearn_model(model, data, usecols, valid_ratio, test_ratio, droprows);\n",
    "# data.to_pickle('init_data.pkl')\n",
    "\n",
    "data = pd.read_pickle('init_data.pkl')\n",
    "usecols = [\n",
    "    'ydiff_from_closing','xdiff_from_closing', \n",
    "    'yrel_from_closing','xrel_from_closing',\n",
    "#     'ydiff_from_opening','xdiff_from_opening',\n",
    "#     'yrel_from_opening','xrel_from_opening',\n",
    "    'xprice_time_mean_6','yprice_time_mean_6',\n",
    "    'xprice_time_mean_60','yprice_time_mean_60',\n",
    "    'xprice_time_mean_360','yprice_time_mean_360',\n",
    "    'xprice_time_mean_720','yprice_time_mean_720',\n",
    "    'xprice_time_mean_1410','yprice_time_mean_1410',\n",
    "#     'xprice_full_history_diff',\n",
    "#     'yprice_full_history_diff',\n",
    "#     'yx_relation_full_history_diff',\n",
    "#     'xy_geom_full_history_diff'\n",
    "]\n",
    "# print(validate_model_by_triplets(model, data, usecols, triplets, droprows))\n",
    "validate_model_by_pentate(model, data, usecols, droprows)"
   ]
  },
  {
   "cell_type": "markdown",
   "metadata": {},
   "source": [
    "## zscore for yprice"
   ]
  },
  {
   "cell_type": "code",
   "execution_count": 5,
   "metadata": {},
   "outputs": [
    {
     "name": "stdout",
     "output_type": "stream",
     "text": [
      "['yprice_time_std_6', 'yprice_time_std_60', 'yprice_time_std_360', 'yprice_time_std_720', 'yprice_time_std_1410']\n"
     ]
    }
   ],
   "source": [
    "agg_col = 'yprice'\n",
    "new_cols = add_time_depended_rolling(data, agg_col, oneday_agg_periods, np.std, 'std')\n",
    "std_reg_const = 0.1\n",
    "\n",
    "for col in new_cols:\n",
    "    data[col] = data[col].fillna(0) + std_reg_const"
   ]
  },
  {
   "cell_type": "code",
   "execution_count": 6,
   "metadata": {},
   "outputs": [
    {
     "name": "stdout",
     "output_type": "stream",
     "text": [
      "added yprice_time_zscore_360: r2: 0.3262\n",
      "added yprice_time_zscore_1410: r2: 0.39983\n",
      "added yprice_time_zscore_720: r2: 0.42076\n"
     ]
    },
    {
     "data": {
      "text/html": [
       "<div>\n",
       "<style scoped>\n",
       "    .dataframe tbody tr th:only-of-type {\n",
       "        vertical-align: middle;\n",
       "    }\n",
       "\n",
       "    .dataframe tbody tr th {\n",
       "        vertical-align: top;\n",
       "    }\n",
       "\n",
       "    .dataframe thead th {\n",
       "        text-align: right;\n",
       "    }\n",
       "</style>\n",
       "<table border=\"1\" class=\"dataframe\">\n",
       "  <thead>\n",
       "    <tr style=\"text-align: right;\">\n",
       "      <th></th>\n",
       "      <th>train_50_percent</th>\n",
       "      <th>train_60_percent</th>\n",
       "      <th>train_70_percent</th>\n",
       "      <th>train_80_percent</th>\n",
       "      <th>train_90_percent</th>\n",
       "      <th>min_stats</th>\n",
       "      <th>max_stats</th>\n",
       "      <th>avg</th>\n",
       "    </tr>\n",
       "  </thead>\n",
       "  <tbody>\n",
       "    <tr>\n",
       "      <td>mse</td>\n",
       "      <td>0.021647</td>\n",
       "      <td>0.020572</td>\n",
       "      <td>0.016276</td>\n",
       "      <td>0.021585</td>\n",
       "      <td>0.014972</td>\n",
       "      <td>0.014969</td>\n",
       "      <td>0.021652</td>\n",
       "      <td>0.018814</td>\n",
       "    </tr>\n",
       "    <tr>\n",
       "      <td>r2</td>\n",
       "      <td>0.219368</td>\n",
       "      <td>0.457369</td>\n",
       "      <td>-0.472972</td>\n",
       "      <td>1.886111</td>\n",
       "      <td>0.897005</td>\n",
       "      <td>-0.472900</td>\n",
       "      <td>1.885742</td>\n",
       "      <td>0.628418</td>\n",
       "    </tr>\n",
       "  </tbody>\n",
       "</table>\n",
       "</div>"
      ],
      "text/plain": [
       "     train_50_percent  train_60_percent  train_70_percent  train_80_percent  \\\n",
       "mse          0.021647          0.020572          0.016276          0.021585   \n",
       "r2           0.219368          0.457369         -0.472972          1.886111   \n",
       "\n",
       "     train_90_percent  min_stats  max_stats       avg  \n",
       "mse          0.014972   0.014969   0.021652  0.018814  \n",
       "r2           0.897005  -0.472900   1.885742  0.628418  "
      ]
     },
     "execution_count": 6,
     "metadata": {},
     "output_type": "execute_result"
    }
   ],
   "source": [
    "zscore_cols = []\n",
    "for lag in oneday_agg_periods:\n",
    "    current_mean = data['{}_time_mean_{}'.format(agg_col, lag)]\n",
    "    current_std = data['{}_time_std_{}'.format(agg_col, lag)]\n",
    "    colname = '{}_time_zscore_{}'.format(agg_col, lag)\n",
    "    data[colname] = current_mean / current_std\n",
    "    zscore_cols.append(colname)\n",
    "\n",
    "selected_cols = greedy_add_strategy(model, data, usecols, zscore_cols, \n",
    "                                 valid_ratio, test_ratio, droprows)\n",
    "validate_model_by_pentate(model, data, selected_cols, droprows)"
   ]
  },
  {
   "cell_type": "code",
   "execution_count": 7,
   "metadata": {},
   "outputs": [
    {
     "name": "stdout",
     "output_type": "stream",
     "text": [
      "['ydiff_from_closing', 'xdiff_from_closing', 'yrel_from_closing', 'xrel_from_closing', 'xprice_time_mean_6', 'yprice_time_mean_6', 'xprice_time_mean_60', 'yprice_time_mean_60', 'xprice_time_mean_360', 'yprice_time_mean_360', 'xprice_time_mean_720', 'yprice_time_mean_720', 'xprice_time_mean_1410', 'yprice_time_mean_1410', 'yprice_time_zscore_360', 'yprice_time_zscore_1410', 'yprice_time_zscore_720']\n"
     ]
    }
   ],
   "source": [
    "print(selected_cols)"
   ]
  },
  {
   "cell_type": "code",
   "execution_count": 20,
   "metadata": {},
   "outputs": [
    {
     "name": "stdout",
     "output_type": "stream",
     "text": [
      "xprice_time_mean_6                       18.35%            0.23\n",
      "yprice_time_mean_360                     16.00%            -0.2\n",
      "xprice_time_mean_360                     10.87%            0.13\n",
      "xprice_time_mean_720                     10.76%           -0.13\n",
      "xprice_time_mean_1410                    9.64%            0.12\n",
      "yprice_time_mean_6                       5.94%          -0.073\n",
      "yprice_time_mean_1410                    5.84%          -0.072\n",
      "yprice_time_mean_720                     5.66%            0.07\n",
      "xprice_time_mean_60                      5.58%           0.069\n",
      "yprice_time_mean_60                      4.69%          -0.058\n",
      "xdiff_from_closing                       1.80%          -0.022\n",
      "yprice_time_zscore_720                   1.77%           0.022\n",
      "yprice_time_zscore_360                   1.41%           0.017\n",
      "ydiff_from_closing                       0.56%          0.0069\n",
      "yprice_time_zscore_1410                  0.37%          0.0046\n",
      "yrel_from_closing                        0.36%          0.0045\n",
      "xrel_from_closing                        0.34%          0.0041\n"
     ]
    }
   ],
   "source": [
    "print_importances(model, selected_cols)"
   ]
  },
  {
   "cell_type": "markdown",
   "metadata": {},
   "source": [
    "## zscore for yx_rel"
   ]
  },
  {
   "cell_type": "code",
   "execution_count": 51,
   "metadata": {},
   "outputs": [
    {
     "name": "stdout",
     "output_type": "stream",
     "text": [
      "['yx_relation_time_mean_6', 'yx_relation_time_mean_60', 'yx_relation_time_mean_360', 'yx_relation_time_mean_720', 'yx_relation_time_mean_1410']\n"
     ]
    }
   ],
   "source": [
    "agg_col = 'yx_relation'\n",
    "new_cols = add_time_depended_rolling(data, agg_col, oneday_agg_periods, np.mean, 'mean')\n",
    "\n",
    "for col in new_cols:\n",
    "    data[col] = data[agg_col] - data[col]"
   ]
  },
  {
   "cell_type": "code",
   "execution_count": 103,
   "metadata": {},
   "outputs": [
    {
     "name": "stdout",
     "output_type": "stream",
     "text": [
      "['yx_relation_time_std_24', 'yx_relation_time_std_240', 'yx_relation_time_std_1440', 'yx_relation_time_std_2880', 'yx_relation_time_std_5640']\n"
     ]
    }
   ],
   "source": [
    "agg_col = 'yx_relation'\n",
    "new_cols = add_time_depended_rolling(data, agg_col, map(lambda x: x * 4, oneday_agg_periods), np.std, 'std')\n",
    "std_reg_const = 0.001\n",
    "\n",
    "for col in new_cols:\n",
    "    data[col] = data[col].fillna(0) + std_reg_const"
   ]
  },
  {
   "cell_type": "code",
   "execution_count": 104,
   "metadata": {},
   "outputs": [
    {
     "name": "stdout",
     "output_type": "stream",
     "text": [
      "added yx_relation_time_zscore_6: r2: 0.42819\n",
      "added yx_relation_time_zscore_360: r2: 0.43314\n",
      "added yx_relation_time_zscore_1410: r2: 0.4475\n",
      "added yx_relation_time_zscore_720: r2: 0.49077\n"
     ]
    },
    {
     "data": {
      "text/html": [
       "<div>\n",
       "<style scoped>\n",
       "    .dataframe tbody tr th:only-of-type {\n",
       "        vertical-align: middle;\n",
       "    }\n",
       "\n",
       "    .dataframe tbody tr th {\n",
       "        vertical-align: top;\n",
       "    }\n",
       "\n",
       "    .dataframe thead th {\n",
       "        text-align: right;\n",
       "    }\n",
       "</style>\n",
       "<table border=\"1\" class=\"dataframe\">\n",
       "  <thead>\n",
       "    <tr style=\"text-align: right;\">\n",
       "      <th></th>\n",
       "      <th>train_50_percent</th>\n",
       "      <th>train_60_percent</th>\n",
       "      <th>train_70_percent</th>\n",
       "      <th>train_80_percent</th>\n",
       "      <th>train_90_percent</th>\n",
       "      <th>min_stats</th>\n",
       "      <th>max_stats</th>\n",
       "      <th>avg</th>\n",
       "    </tr>\n",
       "  </thead>\n",
       "  <tbody>\n",
       "    <tr>\n",
       "      <td>mse</td>\n",
       "      <td>0.021660</td>\n",
       "      <td>0.020545</td>\n",
       "      <td>0.016258</td>\n",
       "      <td>0.021600</td>\n",
       "      <td>0.014990</td>\n",
       "      <td>0.014992</td>\n",
       "      <td>0.021667</td>\n",
       "      <td>0.018814</td>\n",
       "    </tr>\n",
       "    <tr>\n",
       "      <td>r2</td>\n",
       "      <td>0.157567</td>\n",
       "      <td>0.586214</td>\n",
       "      <td>-0.361222</td>\n",
       "      <td>1.814647</td>\n",
       "      <td>0.780375</td>\n",
       "      <td>-0.361328</td>\n",
       "      <td>1.814453</td>\n",
       "      <td>0.632812</td>\n",
       "    </tr>\n",
       "  </tbody>\n",
       "</table>\n",
       "</div>"
      ],
      "text/plain": [
       "     train_50_percent  train_60_percent  train_70_percent  train_80_percent  \\\n",
       "mse          0.021660          0.020545          0.016258          0.021600   \n",
       "r2           0.157567          0.586214         -0.361222          1.814647   \n",
       "\n",
       "     train_90_percent  min_stats  max_stats       avg  \n",
       "mse          0.014990   0.014992   0.021667  0.018814  \n",
       "r2           0.780375  -0.361328   1.814453  0.632812  "
      ]
     },
     "execution_count": 104,
     "metadata": {},
     "output_type": "execute_result"
    }
   ],
   "source": [
    "zscore_cols = []\n",
    "for lag in oneday_agg_periods:\n",
    "    current_mean = data['{}_time_mean_{}'.format(agg_col, lag)]\n",
    "    current_std = data['{}_time_std_{}'.format(agg_col, lag * 4)]\n",
    "    colname = '{}_time_zscore_{}'.format(agg_col, lag)\n",
    "    data[colname] = current_mean / current_std\n",
    "    zscore_cols.append(colname)\n",
    "\n",
    "added_cols = greedy_add_strategy(model, data, selected_cols.copy(), zscore_cols, \n",
    "                                 valid_ratio, test_ratio, droprows)\n",
    "validate_model_by_pentate(model, data, added_cols, droprows)"
   ]
  },
  {
   "cell_type": "code",
   "execution_count": 101,
   "metadata": {},
   "outputs": [
    {
     "data": {
      "text/html": [
       "<div>\n",
       "<style scoped>\n",
       "    .dataframe tbody tr th:only-of-type {\n",
       "        vertical-align: middle;\n",
       "    }\n",
       "\n",
       "    .dataframe tbody tr th {\n",
       "        vertical-align: top;\n",
       "    }\n",
       "\n",
       "    .dataframe thead th {\n",
       "        text-align: right;\n",
       "    }\n",
       "</style>\n",
       "<table border=\"1\" class=\"dataframe\">\n",
       "  <thead>\n",
       "    <tr style=\"text-align: right;\">\n",
       "      <th></th>\n",
       "      <th>train_50_percent</th>\n",
       "      <th>train_60_percent</th>\n",
       "      <th>train_70_percent</th>\n",
       "      <th>train_80_percent</th>\n",
       "      <th>train_90_percent</th>\n",
       "      <th>min_stats</th>\n",
       "      <th>max_stats</th>\n",
       "      <th>avg</th>\n",
       "    </tr>\n",
       "  </thead>\n",
       "  <tbody>\n",
       "    <tr>\n",
       "      <td>mse</td>\n",
       "      <td>0.021652</td>\n",
       "      <td>0.020573</td>\n",
       "      <td>0.016290</td>\n",
       "      <td>0.021606</td>\n",
       "      <td>0.014971</td>\n",
       "      <td>0.014969</td>\n",
       "      <td>0.021652</td>\n",
       "      <td>0.018814</td>\n",
       "    </tr>\n",
       "    <tr>\n",
       "      <td>r2</td>\n",
       "      <td>0.193919</td>\n",
       "      <td>0.450812</td>\n",
       "      <td>-0.562675</td>\n",
       "      <td>1.789125</td>\n",
       "      <td>0.903669</td>\n",
       "      <td>-0.562500</td>\n",
       "      <td>1.789062</td>\n",
       "      <td>0.571777</td>\n",
       "    </tr>\n",
       "  </tbody>\n",
       "</table>\n",
       "</div>"
      ],
      "text/plain": [
       "     train_50_percent  train_60_percent  train_70_percent  train_80_percent  \\\n",
       "mse          0.021652          0.020573          0.016290          0.021606   \n",
       "r2           0.193919          0.450812         -0.562675          1.789125   \n",
       "\n",
       "     train_90_percent  min_stats  max_stats       avg  \n",
       "mse          0.014971   0.014969   0.021652  0.018814  \n",
       "r2           0.903669  -0.562500   1.789062  0.571777  "
      ]
     },
     "execution_count": 101,
     "metadata": {},
     "output_type": "execute_result"
    }
   ],
   "source": [
    "added_cols = [\n",
    "#     'yx_relation_time_zscore_6',\n",
    "    'yx_relation_time_zscore_60',\n",
    "#     'yx_relation_time_zscore_360',\n",
    "#     'yx_relation_time_zscore_720',\n",
    "    'yx_relation_time_zscore_1410'\n",
    "#     'yx_relation_time_std_6',\n",
    "#     'yx_relation_time_std_60',\n",
    "#     'yx_relation_time_std_360', \n",
    "#     'yx_relation_time_std_720',\n",
    "#     'yx_relation_time_std_1410'\n",
    "]\n",
    "validate_model_by_pentate(model, data, selected_cols + added_cols, droprows)"
   ]
  },
  {
   "cell_type": "code",
   "execution_count": 85,
   "metadata": {},
   "outputs": [
    {
     "data": {
      "text/plain": [
       "yx_relation_time_zscore_6       0.588646\n",
       "yx_relation_time_zscore_60      1.005944\n",
       "yx_relation_time_zscore_360     1.147955\n",
       "yx_relation_time_zscore_720     1.154843\n",
       "yx_relation_time_zscore_1410    1.134246\n",
       "dtype: float64"
      ]
     },
     "execution_count": 85,
     "metadata": {},
     "output_type": "execute_result"
    }
   ],
   "source": [
    "data[added_cols].std()"
   ]
  },
  {
   "cell_type": "markdown",
   "metadata": {},
   "source": [
    "## ema for yprice"
   ]
  },
  {
   "cell_type": "markdown",
   "metadata": {},
   "source": [
    "## zscore for xprice"
   ]
  },
  {
   "cell_type": "code",
   "execution_count": 13,
   "metadata": {},
   "outputs": [
    {
     "name": "stdout",
     "output_type": "stream",
     "text": [
      "['xprice_time_std_6', 'xprice_time_std_60', 'xprice_time_std_360', 'xprice_time_std_720', 'xprice_time_std_1410']\n"
     ]
    }
   ],
   "source": [
    "# agg_col = 'xprice'\n",
    "# new_cols = add_time_depended_rolling(data, agg_col, oneday_agg_periods, np.std, 'std')\n",
    "# std_reg_const = 1\n",
    "\n",
    "# for col in new_cols:\n",
    "#     data[col] = data[col].fillna(0) + std_reg_const"
   ]
  },
  {
   "cell_type": "code",
   "execution_count": 12,
   "metadata": {},
   "outputs": [
    {
     "name": "stdout",
     "output_type": "stream",
     "text": [
      "added xprice_time_zscore_60: r2: 0.41918\n"
     ]
    },
    {
     "data": {
      "text/html": [
       "<div>\n",
       "<style scoped>\n",
       "    .dataframe tbody tr th:only-of-type {\n",
       "        vertical-align: middle;\n",
       "    }\n",
       "\n",
       "    .dataframe tbody tr th {\n",
       "        vertical-align: top;\n",
       "    }\n",
       "\n",
       "    .dataframe thead th {\n",
       "        text-align: right;\n",
       "    }\n",
       "</style>\n",
       "<table border=\"1\" class=\"dataframe\">\n",
       "  <thead>\n",
       "    <tr style=\"text-align: right;\">\n",
       "      <th></th>\n",
       "      <th>train_50_percent</th>\n",
       "      <th>train_60_percent</th>\n",
       "      <th>train_70_percent</th>\n",
       "      <th>train_80_percent</th>\n",
       "      <th>train_90_percent</th>\n",
       "      <th>min_stats</th>\n",
       "      <th>max_stats</th>\n",
       "      <th>avg</th>\n",
       "    </tr>\n",
       "  </thead>\n",
       "  <tbody>\n",
       "    <tr>\n",
       "      <td>mse</td>\n",
       "      <td>0.021537</td>\n",
       "      <td>0.020677</td>\n",
       "      <td>0.016300</td>\n",
       "      <td>0.021582</td>\n",
       "      <td>0.014994</td>\n",
       "      <td>0.014992</td>\n",
       "      <td>0.021576</td>\n",
       "      <td>0.018814</td>\n",
       "    </tr>\n",
       "    <tr>\n",
       "      <td>r2</td>\n",
       "      <td>0.728314</td>\n",
       "      <td>-0.049880</td>\n",
       "      <td>-0.623453</td>\n",
       "      <td>1.895470</td>\n",
       "      <td>0.749149</td>\n",
       "      <td>-0.623535</td>\n",
       "      <td>1.895508</td>\n",
       "      <td>0.567383</td>\n",
       "    </tr>\n",
       "  </tbody>\n",
       "</table>\n",
       "</div>"
      ],
      "text/plain": [
       "     train_50_percent  train_60_percent  train_70_percent  train_80_percent  \\\n",
       "mse          0.021537          0.020677          0.016300          0.021582   \n",
       "r2           0.728314         -0.049880         -0.623453          1.895470   \n",
       "\n",
       "     train_90_percent  min_stats  max_stats       avg  \n",
       "mse          0.014994   0.014992   0.021576  0.018814  \n",
       "r2           0.749149  -0.623535   1.895508  0.567383  "
      ]
     },
     "execution_count": 12,
     "metadata": {},
     "output_type": "execute_result"
    }
   ],
   "source": [
    "# zscore_cols = []\n",
    "# for lag in oneday_agg_periods:\n",
    "#     current_mean = data['{}_time_mean_{}'.format(agg_col, lag)]\n",
    "#     current_std = data['{}_time_std_{}'.format(agg_col, lag)]\n",
    "#     colname = '{}_time_zscore_{}'.format(agg_col, lag)\n",
    "#     data[colname] = current_mean / current_std\n",
    "#     zscore_cols.append(colname)\n",
    "\n",
    "# selected_cols = greedy_add_strategy(model, data, selected_cols, zscore_cols, \n",
    "#                                  valid_ratio, test_ratio, droprows)\n",
    "# validate_model_by_pentate(model, data, selected_cols, droprows)"
   ]
  },
  {
   "cell_type": "code",
   "execution_count": 18,
   "metadata": {},
   "outputs": [],
   "source": [
    "# from ts_features import add_rsi\n",
    "\n",
    "# rsi_spread_cols = add_rsi(data, 'yx_spread', twoweeks_agg_periods)\n",
    "# usecols.extend(rsi_spread_cols)\n",
    "\n",
    "# rsi_yxrel_cols = add_rsi(data, 'yx_relation', twoweeks_agg_periods)\n",
    "# usecols.extend(rsi_yxrel_cols)\n",
    "\n",
    "# rsi_xyrel_cols = add_rsi(data, 'xy_relation', twoweeks_agg_periods)\n",
    "# usecols.extend(rsi_xyrel_cols)\n",
    "\n",
    "# rsi_geom_cols = add_rsi(data, 'xy_geom', twoweeks_agg_periods)\n",
    "# usecols.extend(rsi_geom_cols)\n",
    "\n",
    "# rsi_garmonic_cols = add_rsi(data, 'xy_garmonic', twoweeks_agg_periods)\n",
    "# usecols.extend(rsi_garmonic_cols)"
   ]
  },
  {
   "cell_type": "code",
   "execution_count": 16,
   "metadata": {},
   "outputs": [],
   "source": [
    "# agg_col = 'yprice_time_mean_360'\n",
    "# new_cols = add_diffs(data, agg_col, [360, 720, 1080, 1410])\n",
    "# # usecols.extend(new_cols)\n",
    "\n",
    "# added_cols = [\n",
    "# #     'yprice_time_mean_360_diff_360',\n",
    "# #     'yprice_time_mean_360_diff_720',\n",
    "# #     'yprice_time_mean_360_diff_1080',\n",
    "# #     'yprice_time_mean_360_diff_1410'\n",
    "# ]\n",
    "\n",
    "# # selected_cols = greedy_add_strategy(model, data, usecols, new_cols,\n",
    "# #                                     valid_ratio, test_ratio, droprows)\n",
    "\n",
    "# validate_model_by_pentate(model, data, usecols + added_cols, droprows)"
   ]
  },
  {
   "cell_type": "code",
   "execution_count": null,
   "metadata": {},
   "outputs": [],
   "source": []
  },
  {
   "cell_type": "code",
   "execution_count": null,
   "metadata": {},
   "outputs": [],
   "source": []
  },
  {
   "cell_type": "code",
   "execution_count": null,
   "metadata": {},
   "outputs": [],
   "source": []
  },
  {
   "cell_type": "code",
   "execution_count": 68,
   "metadata": {},
   "outputs": [
    {
     "name": "stdout",
     "output_type": "stream",
     "text": [
      "['xprice_time_mean_360_diff_1410', 'xprice_time_mean_360_diff_2820', 'xprice_time_mean_360_diff_4230', 'xprice_time_mean_360_diff_5640', 'xprice_time_mean_360_diff_7050', 'xprice_time_mean_360_diff_14100', 'xprice_time_mean_360_diff_21150', 'xprice_time_mean_360_diff_28200']\n",
      "added xprice_time_mean_360_diff_1410: r2: -0.58474\n",
      "added xprice_time_mean_360_diff_7050: r2: -0.58439\n",
      "added xprice_time_mean_360_diff_28200: r2: -0.5632\n",
      "added xprice_time_mean_360_diff_14100: r2: -0.54401\n",
      "Data shapes:  (143116, 28) (85657, 28) (85657, 28)\n",
      "\n",
      "Valid MSE: \t\t 0.020145\n",
      "Valid R2 (x100): \t -0.54401\n",
      "\n",
      "Test MSE: \t\t 0.018163\n",
      "Test R2 (x100): \t 1.4395\n"
     ]
    }
   ],
   "source": [
    "agg_col = 'xprice_time_mean_360'\n",
    "new_cols = add_diffs(data, agg_col, month_agg_periods)\n",
    "usecols.extend(new_cols)\n",
    "\n",
    "selected_cols = greedy_add_strategy(model, data, selected_cols, new_cols,\n",
    "                                    valid_ratio, test_ratio, droprows)\n",
    "\n",
    "validate_sklearn_model(model, data, selected_cols, valid_ratio, test_ratio, droprows);"
   ]
  },
  {
   "cell_type": "code",
   "execution_count": 69,
   "metadata": {
    "scrolled": true
   },
   "outputs": [
    {
     "name": "stdout",
     "output_type": "stream",
     "text": [
      "['yx_relation_time_mean_6', 'yx_relation_time_mean_60', 'yx_relation_time_mean_360', 'yx_relation_time_mean_720', 'yx_relation_time_mean_1410']\n",
      "added yx_relation_time_mean_6: r2: -0.54401\n",
      "added yx_relation_time_mean_360: r2: -0.544\n",
      "added yx_relation_time_mean_60: r2: -0.544\n",
      "added yx_relation_time_mean_720: r2: -0.544\n",
      "Data shapes:  (143116, 32) (85657, 32) (85657, 32)\n",
      "\n",
      "Valid MSE: \t\t 0.020145\n",
      "Valid R2 (x100): \t -0.544\n",
      "\n",
      "Test MSE: \t\t 0.018163\n",
      "Test R2 (x100): \t 1.4394\n"
     ]
    }
   ],
   "source": [
    "agg_col = 'yx_relation'\n",
    "new_cols = add_time_depended_rolling(data, agg_col, oneday_agg_periods, np.mean, 'mean')\n",
    "for col in new_cols:\n",
    "    data[col] = data[col] / (data[agg_col] + 1e-3)\n",
    "usecols.extend(new_cols)\n",
    "\n",
    "selected_cols = greedy_add_strategy(model, data, selected_cols, new_cols,\n",
    "                                    valid_ratio, test_ratio, droprows)\n",
    "validate_sklearn_model(model, data, selected_cols, valid_ratio, test_ratio, droprows);"
   ]
  },
  {
   "cell_type": "code",
   "execution_count": 19,
   "metadata": {},
   "outputs": [],
   "source": [
    "selected_cols=[elem for elem in selected_cols if elem not in new_cols]"
   ]
  },
  {
   "cell_type": "code",
   "execution_count": 62,
   "metadata": {},
   "outputs": [
    {
     "name": "stdout",
     "output_type": "stream",
     "text": [
      "['yx_relation_diff_6', 'yx_relation_diff_60', 'yx_relation_diff_360', 'yx_relation_diff_720', 'yx_relation_diff_1410', 'yx_relation_diff_2820', 'yx_relation_diff_7050', 'yx_relation_diff_14100']\n",
      "added yx_relation_diff_60: r2: 1.0848\n",
      "added yx_relation_diff_360: r2: 1.0922\n",
      "Data shapes:  (194510, 32) (68526, 32) (51394, 32)\n",
      "\n",
      "Valid MSE: \t\t 0.019377\n",
      "Valid R2 (x100): \t 1.0922\n",
      "\n",
      "Test MSE: \t\t 0.015762\n",
      "Test R2 (x100): \t 0.97178\n"
     ]
    }
   ],
   "source": [
    "agg_col = 'yx_relation'\n",
    "new_cols = add_diffs(data, agg_col, twoweeks_agg_periods)\n",
    "\n",
    "usecols.extend(new_cols)\n",
    "\n",
    "selected_cols = greedy_add_strategy(model, data, selected_cols, new_cols,\n",
    "                                    valid_ratio, test_ratio, droprows)\n",
    "validate_sklearn_model(model, data, selected_cols, valid_ratio, test_ratio, droprows);"
   ]
  },
  {
   "cell_type": "code",
   "execution_count": null,
   "metadata": {},
   "outputs": [],
   "source": []
  },
  {
   "cell_type": "code",
   "execution_count": null,
   "metadata": {},
   "outputs": [],
   "source": []
  },
  {
   "cell_type": "code",
   "execution_count": null,
   "metadata": {},
   "outputs": [],
   "source": []
  },
  {
   "cell_type": "code",
   "execution_count": 13,
   "metadata": {},
   "outputs": [
    {
     "name": "stdout",
     "output_type": "stream",
     "text": [
      "['yx_relation_time_std_6', 'yx_relation_time_std_60', 'yx_relation_time_std_360', 'yx_relation_time_std_720', 'yx_relation_time_std_1410']\n",
      "Data shapes:  (143115, 35) (102789, 35) (68526, 35)\n",
      "\n",
      "Valid MSE: \t\t 0.022652\n",
      "Valid R2 (x100): \t -15.558\n",
      "\n",
      "Test MSE: \t\t 0.018436\n",
      "Test R2 (x100): \t 1.0791\n"
     ]
    }
   ],
   "source": [
    "agg_col = 'yx_relation'\n",
    "std_reg_const = 0.1\n",
    "new_cols = add_time_depended_rolling(data, agg_col, oneday_agg_periods, np.std, 'std')\n",
    "for col in new_cols:\n",
    "    data[col] = data[col].fillna(0) + std_reg_const\n",
    "usecols.extend(new_cols)\n",
    "\n",
    "selected_cols = greedy_add_strategy(model, data, selected_cols, new_cols,\n",
    "                                    valid_ratio, test_ratio, droprows)\n",
    "validate_sklearn_model(model, data, selected_cols, valid_ratio, test_ratio, droprows);"
   ]
  },
  {
   "cell_type": "code",
   "execution_count": 15,
   "metadata": {},
   "outputs": [
    {
     "name": "stdout",
     "output_type": "stream",
     "text": [
      "added yx_relation_time_zscore_6: r2: -15.558\n",
      "added yx_relation_time_zscore_360: r2: -15.556\n",
      "added yx_relation_time_zscore_720: r2: -15.556\n",
      "Data shapes:  (143115, 38) (102789, 38) (68526, 38)\n",
      "\n",
      "Valid MSE: \t\t 0.022651\n",
      "Valid R2 (x100): \t -15.556\n",
      "\n",
      "Test MSE: \t\t 0.018437\n",
      "Test R2 (x100): \t 1.0761\n"
     ]
    }
   ],
   "source": [
    "agg_col = 'yx_relation'\n",
    "zscore_cols = []\n",
    "for lag in oneday_agg_periods:\n",
    "    current_mean = data['{}_time_mean_{}'.format(agg_col, lag)]\n",
    "    current_std = data['{}_time_std_{}'.format(agg_col, lag)]\n",
    "    colname = '{}_time_zscore_{}'.format(agg_col, lag)\n",
    "    data[colname] = current_mean / current_std\n",
    "    zscore_cols.append(colname)\n",
    "\n",
    "added_cols = greedy_add_strategy(model, data, selected_cols, zscore_cols, \n",
    "                                 valid_ratio, test_ratio, droprows)\n",
    "validate_sklearn_model(model, data, added_cols, valid_ratio, test_ratio, droprows);"
   ]
  },
  {
   "cell_type": "code",
   "execution_count": 11,
   "metadata": {},
   "outputs": [],
   "source": [
    "# agg_col = 'xy_geom'\n",
    "# new_cols = add_time_depended_rolling(data, agg_col, oneday_agg_periods, np.mean, 'mean')\n",
    "# for col in new_cols:\n",
    "#     data[col] = data[col] - data[agg_col]\n",
    "# usecols.extend(new_cols)\n",
    "\n",
    "# selected_cols = greedy_add_strategy(model, data, selected_cols, new_cols,\n",
    "#                                     valid_ratio, test_ratio, droprows)\n",
    "# validate_sklearn_model(model, data, selected_cols, valid_ratio, test_ratio, droprows);"
   ]
  },
  {
   "cell_type": "code",
   "execution_count": 12,
   "metadata": {},
   "outputs": [],
   "source": [
    "# agg_col = 'yx_relation_time_mean_360'\n",
    "# new_cols = add_diffs(data, agg_col, month_agg_periods)\n",
    "# usecols.extend(new_cols)\n",
    "\n",
    "# selected_cols = greedy_add_strategy(model, data, selected_cols, new_cols,\n",
    "#                                     valid_ratio, test_ratio, droprows)\n",
    "# validate_sklearn_model(model, data, selected_cols, valid_ratio, test_ratio, droprows);"
   ]
  },
  {
   "cell_type": "code",
   "execution_count": 13,
   "metadata": {},
   "outputs": [],
   "source": [
    "# agg_col = 'xy_geom'\n",
    "# new_cols = add_time_depended_rolling(data, agg_col, [60, 360, 1410], np.std, 'std')\n",
    "# for col in new_cols:\n",
    "#     data[col] = data[col].fillna(0)\n",
    "# usecols.extend(new_cols)\n",
    "\n",
    "# selected_cols = greedy_add_strategy(model, data, selected_cols, new_cols,\n",
    "#                                     valid_ratio, test_ratio, droprows)\n",
    "# validate_sklearn_model(model, data, selected_cols, valid_ratio, test_ratio, droprows);"
   ]
  },
  {
   "cell_type": "code",
   "execution_count": 14,
   "metadata": {},
   "outputs": [],
   "source": [
    "# agg_col = 'xy_relation_time_mean_60'\n",
    "# new_cols = add_diffs(data, agg_col, month_agg_periods)\n",
    "\n",
    "# usecols.extend(new_cols)\n",
    "# validate_sklearn_model(model, data, usecols, valid_ratio, test_ratio, droprows);"
   ]
  },
  {
   "cell_type": "code",
   "execution_count": 15,
   "metadata": {},
   "outputs": [],
   "source": [
    "# agg_col = 'yprice'\n",
    "# # new_cols = add_time_depended_rolling(data, agg_col, [60, 360, 1410], np.std, 'std')\n",
    "# data['yprice_time_normbot_60'] = data.yprice_time_mean_60 - 2 * data.yprice_time_std_60.fillna(0)\n",
    "# data['yprice_time_normtop_60'] = data.yprice_time_mean_60 + 2 * data.yprice_time_std_60.fillna(0)\n",
    "# data['yprice_time_normbot_360'] = data.yprice_time_mean_360 - 2 * data.yprice_time_std_360.fillna(0)\n",
    "# data['yprice_time_normtop_360'] = data.yprice_time_mean_360 + 2 * data.yprice_time_std_360.fillna(0)\n",
    "# data['yprice_time_normbot_1410'] = data.yprice_time_mean_1410 - 2 * data.yprice_time_std_1410.fillna(0)\n",
    "# data['yprice_time_normtop_1410'] = data.yprice_time_mean_1410 + 2 * data.yprice_time_std_1410.fillna(0)\n",
    "# norm_cols = [\n",
    "#     'yprice_time_normbot_60', \n",
    "#     'yprice_time_normtop_60',\n",
    "#     'yprice_time_normbot_360', \n",
    "#     'yprice_time_normtop_360',\n",
    "#     'yprice_time_normbot_1410',\n",
    "#     'yprice_time_normtop_1410'\n",
    "# ]\n",
    "# for col in new_cols:\n",
    "#     data[col] = data[col].fillna(0)\n",
    "# validate_sklearn_model(model, data, selected_cols + norm_cols, valid_ratio, test_ratio, droprows);"
   ]
  },
  {
   "cell_type": "code",
   "execution_count": 16,
   "metadata": {},
   "outputs": [
    {
     "name": "stdout",
     "output_type": "stream",
     "text": [
      "['yprice_time_max_6', 'yprice_time_max_60', 'yprice_time_max_360', 'yprice_time_max_1410']\n",
      "added yprice_time_max_6: r2: 1.0393\n",
      "Data shapes:  (194510, 34) (68526, 34) (51394, 34)\n",
      "\n",
      "Valid MSE: \t\t 0.019387\n",
      "Valid R2 (x100): \t 1.0393\n",
      "\n",
      "Test MSE: \t\t 0.015695\n",
      "Test R2 (x100): \t 1.3925\n"
     ]
    }
   ],
   "source": [
    "agg_col = 'yprice'\n",
    "new_cols = add_time_depended_rolling(data, agg_col, [6, 60, 360, 1410], np.max, 'max')\n",
    "\n",
    "for col in new_cols:\n",
    "    data[col] = data[col] - data[agg_col\n",
    "                                ]\n",
    "# validate_sklearn_model(model, data, selected_cols + new_cols, valid_ratio, test_ratio, droprows);\n",
    "added_cols = greedy_add_strategy(model, data, selected_cols, new_cols, \n",
    "                                 valid_ratio, test_ratio, droprows)\n",
    "\n",
    "validate_sklearn_model(model, data, added_cols, valid_ratio, test_ratio, droprows);"
   ]
  },
  {
   "cell_type": "code",
   "execution_count": 18,
   "metadata": {},
   "outputs": [
    {
     "name": "stdout",
     "output_type": "stream",
     "text": [
      "['yprice_time_max_60_lag_60', 'yprice_time_max_60_lag_120', 'yprice_time_max_60_lag_180', 'yprice_time_max_60_lag_240']\n",
      "added yprice_time_max_60_lag_180: r2: 1.059\n",
      "Data shapes:  (194510, 35) (68526, 35) (51394, 35)\n",
      "\n",
      "Valid MSE: \t\t 0.019383\n",
      "Valid R2 (x100): \t 1.059\n",
      "\n",
      "Test MSE: \t\t 0.015691\n",
      "Test R2 (x100): \t 1.4162\n"
     ]
    }
   ],
   "source": [
    "agg_col = 'yprice_time_max_60'\n",
    "new_cols = add_shifts(data, agg_col, [60, 120, 180, 240])\n",
    "usecols.extend(new_cols)\n",
    "\n",
    "added_cols = greedy_add_strategy(model, data, added_cols, new_cols,\n",
    "                                valid_ratio, test_ratio, droprows)\n",
    "\n",
    "validate_sklearn_model(model, data, added_cols, valid_ratio, test_ratio, droprows);"
   ]
  },
  {
   "cell_type": "code",
   "execution_count": 19,
   "metadata": {},
   "outputs": [],
   "source": [
    "selected_cols = added_cols.copy()"
   ]
  },
  {
   "cell_type": "code",
   "execution_count": 20,
   "metadata": {},
   "outputs": [
    {
     "name": "stdout",
     "output_type": "stream",
     "text": [
      "['yprice_time_min_6', 'yprice_time_min_60', 'yprice_time_min_360', 'yprice_time_min_1410']\n",
      "Data shapes:  (194510, 35) (68526, 35) (51394, 35)\n",
      "\n",
      "Valid MSE: \t\t 0.019383\n",
      "Valid R2 (x100): \t 1.059\n",
      "\n",
      "Test MSE: \t\t 0.015691\n",
      "Test R2 (x100): \t 1.4162\n"
     ]
    }
   ],
   "source": [
    "# agg_col = 'yprice'\n",
    "# new_cols = add_time_depended_rolling(data, agg_col, [6, 60, 360, 1410], np.min, 'min')\n",
    "\n",
    "# for col in new_cols:\n",
    "#     data[col] = data[col] - data[agg_col\n",
    "#                                 ]\n",
    "# # validate_sklearn_model(model, data, selected_cols + new_cols, valid_ratio, test_ratio, droprows);\n",
    "# added_cols = greedy_add_strategy(model, data, selected_cols, new_cols,\n",
    "#                                     valid_ratio, test_ratio, droprows)\n",
    "\n",
    "# validate_sklearn_model(model, data, added_cols, valid_ratio, test_ratio, droprows);\n"
   ]
  },
  {
   "cell_type": "code",
   "execution_count": 78,
   "metadata": {},
   "outputs": [
    {
     "name": "stdout",
     "output_type": "stream",
     "text": [
      "added yprice_time_zscore_360: r2: 1.9878\n",
      "Data shapes:  (194510, 36) (68526, 36) (51394, 36)\n",
      "\n",
      "Valid MSE: \t\t 0.019201\n",
      "Valid R2 (x100): \t 1.9878\n",
      "\n",
      "Test MSE: \t\t 0.015652\n",
      "Test R2 (x100): \t 1.6602\n"
     ]
    }
   ],
   "source": [
    "agg_col = 'yprice'\n",
    "# new_cols = add_time_depended_rolling(data, agg_col, oneday_agg_periods, np.std, 'std')\n",
    "# data['yprice_time_zscore_60'] = data.yprice_time_mean_60 / (data.yprice_time_std_60.fillna(1) + 1e-5)\n",
    "data['yprice_time_zscore_360'] = data.yprice_time_mean_360 / (data.yprice_time_std_360.fillna(1) + 0.1)\n",
    "# data['yprice_time_zscore_1410'] = data.yprice_time_mean_1410 / (data.yprice_time_std_1410.fillna(1) + 1e-5)\n",
    "\n",
    "zscore_cols = [\n",
    "#     'yprice_time_zscore_60', \n",
    "    'yprice_time_zscore_360',\n",
    "#     'yprice_time_zscore_1410', \n",
    "]\n",
    "\n",
    "added_cols = greedy_add_strategy(model, data, selected_cols, zscore_cols, \n",
    "                                 valid_ratio, test_ratio, droprows)\n",
    "validate_sklearn_model(model, data, added_cols, valid_ratio, test_ratio, droprows);"
   ]
  },
  {
   "cell_type": "code",
   "execution_count": 80,
   "metadata": {},
   "outputs": [
    {
     "data": {
      "text/plain": [
       "(0.2, 0.15)"
      ]
     },
     "execution_count": 80,
     "metadata": {},
     "output_type": "execute_result"
    }
   ],
   "source": [
    "valid_ratio, test_ratio"
   ]
  },
  {
   "cell_type": "code",
   "execution_count": 24,
   "metadata": {},
   "outputs": [
    {
     "name": "stdout",
     "output_type": "stream",
     "text": [
      "Data shapes:  (194510, 36) (68526, 36) (51394, 36)\n",
      "\n",
      "Valid MSE: \t\t 0.019221\n",
      "Valid R2 (x100): \t 1.8884\n",
      "\n",
      "Test MSE: \t\t 0.01569\n",
      "Test R2 (x100): \t 1.4207\n"
     ]
    }
   ],
   "source": [
    "validate_sklearn_model(model, data, selected_cols + ['yprice_time_zscore_360'], valid_ratio, test_ratio, droprows);"
   ]
  },
  {
   "cell_type": "code",
   "execution_count": 28,
   "metadata": {},
   "outputs": [],
   "source": [
    "selected_cols = added_cols.copy()"
   ]
  },
  {
   "cell_type": "code",
   "execution_count": 30,
   "metadata": {},
   "outputs": [
    {
     "name": "stdout",
     "output_type": "stream",
     "text": [
      "['xprice_time_std_6', 'xprice_time_std_60', 'xprice_time_std_360', 'xprice_time_std_720', 'xprice_time_std_1410']\n",
      "Data shapes:  (194510, 37) (68526, 37) (51394, 37)\n",
      "\n",
      "Valid MSE: \t\t 0.019221\n",
      "Valid R2 (x100): \t 1.8884\n",
      "\n",
      "Test MSE: \t\t 0.01569\n",
      "Test R2 (x100): \t 1.4207\n"
     ]
    }
   ],
   "source": [
    "# agg_col = 'xprice'\n",
    "# new_cols = add_time_depended_rolling(data, agg_col, oneday_agg_periods, np.std, 'std')\n",
    "# data['xprice_time_zscore_60'] = data.yprice_time_mean_60 / (data.yprice_time_std_60.fillna(1) + 1e-5)\n",
    "# data['xprice_time_zscore_360'] = data.yprice_time_mean_360 / (data.yprice_time_std_360.fillna(1) + 1e-5)\n",
    "# data['xprice_time_zscore_1410'] = data.yprice_time_mean_1410 / (data.yprice_time_std_1410.fillna(1) + 1e-5)\n",
    "\n",
    "# zscore_cols = [\n",
    "#     'xprice_time_zscore_60', \n",
    "#     'xprice_time_zscore_360',\n",
    "#     'xprice_time_zscore_1410', \n",
    "# ]\n",
    "\n",
    "# added_cols = greedy_add_strategy(model, data, selected_cols, zscore_cols, \n",
    "#                                  valid_ratio, test_ratio, droprows)\n",
    "# validate_sklearn_model(model, data, selected_cols + ['xprice_time_zscore_360'], valid_ratio, test_ratio, droprows);"
   ]
  },
  {
   "cell_type": "code",
   "execution_count": 34,
   "metadata": {},
   "outputs": [
    {
     "name": "stdout",
     "output_type": "stream",
     "text": [
      "['yprice_time_zscore_360_lag_1410', 'yprice_time_zscore_360_lag_2820', 'yprice_time_zscore_360_lag_4230', 'yprice_time_zscore_360_lag_5640', 'yprice_time_zscore_360_lag_7050', 'yprice_time_zscore_360_lag_14100', 'yprice_time_zscore_360_lag_21150', 'yprice_time_zscore_360_lag_28200']\n",
      "added yprice_time_zscore_360_lag_28200: r2: 1.9145\n",
      "Data shapes:  (194510, 37) (68526, 37) (51394, 37)\n",
      "\n",
      "Valid MSE: \t\t 0.019216\n",
      "Valid R2 (x100): \t 1.9145\n",
      "\n",
      "Test MSE: \t\t 0.015709\n",
      "Test R2 (x100): \t 1.3032\n"
     ]
    }
   ],
   "source": [
    "# agg_col = 'yprice_time_zscore_360'\n",
    "# new_cols = add_shifts(data, agg_col, month_agg_periods)\n",
    "# usecols.extend(new_cols)\n",
    "\n",
    "# added_cols = greedy_add_strategy(model, data, selected_cols, new_cols,\n",
    "#                                 valid_ratio, test_ratio, droprows)\n",
    "\n",
    "# validate_sklearn_model(model, data, added_cols, valid_ratio, test_ratio, droprows);"
   ]
  },
  {
   "cell_type": "code",
   "execution_count": null,
   "metadata": {},
   "outputs": [],
   "source": []
  },
  {
   "cell_type": "code",
   "execution_count": null,
   "metadata": {},
   "outputs": [],
   "source": []
  },
  {
   "cell_type": "code",
   "execution_count": null,
   "metadata": {},
   "outputs": [],
   "source": []
  },
  {
   "cell_type": "code",
   "execution_count": 14,
   "metadata": {},
   "outputs": [
    {
     "name": "stdout",
     "output_type": "stream",
     "text": [
      "xy_geom_full_history_diff                13.39%           -0.28\n",
      "xprice_time_mean_6                       11.31%            0.24\n",
      "yprice_time_mean_360                     7.22%           -0.15\n",
      "xprice_full_history_diff                 7.10%            0.15\n",
      "xprice_time_mean_720                     7.09%           -0.15\n",
      "yprice_time_mean_720                     6.43%            0.14\n",
      "yprice_full_history_diff                 6.17%            0.13\n",
      "xprice_time_mean_1410                    6.07%            0.13\n",
      "xprice_time_mean_360                     5.08%            0.11\n",
      "yprice_time_mean_1410                    4.02%          -0.085\n",
      "yrel_from_opening                        3.89%           0.082\n",
      "xprice_time_mean_60                      3.13%           0.066\n",
      "yprice_time_mean_6                       2.64%          -0.056\n",
      "yprice_time_mean_360_diff_1410           1.32%          -0.028\n",
      "yprice_time_mean_60                      1.31%          -0.028\n",
      "xrel_from_opening                        1.25%           0.026\n",
      "xprice_time_mean_360_diff_14100          1.14%          -0.024\n",
      "xprice_time_mean_360_diff_1410           1.03%           0.022\n",
      "xprice_time_mean_360_diff_1410           1.03%           0.022\n",
      "yprice_time_mean_360_diff_2820           0.88%           0.018\n",
      "yprice_time_mean_360_diff_14100          0.77%           0.016\n",
      "yprice_time_mean_360_diff_14100          0.77%           0.016\n",
      "xprice_time_mean_360_diff_5640           0.72%          -0.015\n",
      "yprice_time_mean_360_diff_5640           0.69%           0.014\n",
      "yx_relation_full_history_diff            0.67%           0.014\n",
      "xprice_time_mean_360_diff_4230           0.65%           0.014\n",
      "xdiff_from_closing                       0.51%          -0.011\n",
      "xdiff_from_closing                       0.51%          -0.011\n",
      "yprice_time_mean_360_diff_28200          0.45%          0.0095\n",
      "xprice_time_mean_360_diff_28200          0.42%         -0.0088\n",
      "xprice_time_mean_360_diff_28200          0.42%         -0.0088\n",
      "xrel_from_closing                        0.36%          0.0076\n",
      "xprice_time_mean_360_diff_21150          0.36%          0.0076\n",
      "ydiff_from_closing                       0.23%          0.0048\n",
      "ydiff_from_closing                       0.23%          0.0048\n",
      "yprice_time_mean_360_diff_4230           0.17%         -0.0036\n",
      "xprice_time_mean_360_diff_7050           0.16%          0.0033\n",
      "xprice_time_mean_360_diff_7050           0.16%          0.0033\n",
      "yprice_time_mean_360_diff_21150          0.13%         -0.0028\n",
      "yrel_from_closing                        0.08%          0.0018\n",
      "yprice_time_mean_360_diff_7050           0.05%          -0.001\n",
      "xprice_time_mean_360_diff_2820           0.03%         0.00055\n"
     ]
    }
   ],
   "source": [
    "print_importances(model, selected_cols)"
   ]
  },
  {
   "cell_type": "code",
   "execution_count": 28,
   "metadata": {},
   "outputs": [
    {
     "name": "stdout",
     "output_type": "stream",
     "text": [
      "removed yprice_time_mean_360_diff_2820: r2: 0.95017\n",
      "removed xprice_time_mean_360_diff_4230: r2: 0.99257\n",
      "removed yprice_time_mean_60: r2: 1.0282\n",
      "removed xy_geom_time_mean_60: r2: 1.2378\n",
      "removed yprice_time_mean_6: r2: 1.2725\n",
      "removed xprice_time_mean_6: r2: 1.3136\n",
      "removed xprice_time_mean_360_diff_5640: r2: 1.3487\n",
      "removed xprice_time_mean_360_diff_14100: r2: 1.3803\n",
      "removed yprice_time_mean_360_diff_21150: r2: 1.4096\n",
      "removed yprice_time_mean_360_diff_4230: r2: 1.4122\n",
      "removed xy_relation_time_mean_60_diff_7050: r2: 1.4135\n",
      "removed xrel_from_opening: r2: 1.4145\n",
      "removed xy_relation_time_mean_60_diff_2820: r2: 1.4153\n",
      "removed xy_relation_time_mean_360_diff_2820: r2: 1.4155\n",
      "removed xy_relation_time_mean_60: r2: 1.416\n",
      "removed xy_relation_time_mean_60_diff_2820: r2: 1.4163\n",
      "removed xy_relation_time_mean_60_diff_21150: r2: 1.4167\n",
      "removed xy_relation_time_mean_60_diff_14100: r2: 1.417\n",
      "removed yx_relation_full_history_diff: r2: 1.4173\n",
      "removed xy_relation_time_mean_360_diff_4230: r2: 1.4175\n",
      "removed xy_relation_time_mean_360_diff_5640: r2: 1.4178\n",
      "removed xy_relation_time_mean_360_diff_21150: r2: 1.4181\n",
      "removed yprice_time_mean_360_diff_7050: r2: 1.4183\n",
      "removed xprice_time_mean_360_diff_7050: r2: 1.4203\n",
      "removed xy_relation_time_mean_60_diff_4230: r2: 1.4204\n",
      "removed xy_relation_time_mean_360_diff_14100: r2: 1.4206\n",
      "removed yrel_from_closing: r2: 1.4207\n",
      "removed yrel_from_opening: r2: 1.4208\n",
      "removed xy_relation_time_mean_60_diff_5640: r2: 1.4209\n",
      "removed xy_relation_time_mean_60_diff_1410: r2: 1.421\n"
     ]
    }
   ],
   "source": [
    "selected_cols = greedy_add_del_strategy(model, data, usecols, valid_ratio, test_ratio, droprows)"
   ]
  },
  {
   "cell_type": "code",
   "execution_count": 30,
   "metadata": {},
   "outputs": [
    {
     "data": {
      "text/plain": [
       "['ydiff_from_closing',\n",
       " 'xdiff_from_closing',\n",
       " 'xrel_from_closing',\n",
       " 'ydiff_from_closing',\n",
       " 'xdiff_from_closing',\n",
       " 'xprice_time_mean_60',\n",
       " 'xprice_time_mean_360',\n",
       " 'xprice_time_mean_720',\n",
       " 'xprice_time_mean_1410',\n",
       " 'yprice_time_mean_360',\n",
       " 'yprice_time_mean_720',\n",
       " 'yprice_time_mean_1410',\n",
       " 'xprice_full_history_diff',\n",
       " 'yprice_full_history_diff',\n",
       " 'xy_geom_full_history_diff',\n",
       " 'yprice_time_mean_360_diff_1410',\n",
       " 'yprice_time_mean_360_diff_5640',\n",
       " 'yprice_time_mean_360_diff_14100',\n",
       " 'yprice_time_mean_360_diff_28200',\n",
       " 'yprice_time_mean_360_diff_14100',\n",
       " 'xprice_time_mean_360_diff_1410',\n",
       " 'xprice_time_mean_360_diff_2820',\n",
       " 'xprice_time_mean_360_diff_21150',\n",
       " 'xprice_time_mean_360_diff_28200',\n",
       " 'xy_relation_time_mean_6',\n",
       " 'xy_relation_time_mean_360',\n",
       " 'xy_relation_time_mean_720',\n",
       " 'xy_relation_time_mean_1410',\n",
       " 'xy_geom_time_mean_6',\n",
       " 'xy_geom_time_mean_360',\n",
       " 'xy_geom_time_mean_720',\n",
       " 'xy_geom_time_mean_1410',\n",
       " 'xy_relation_time_mean_360_diff_1410',\n",
       " 'xy_relation_time_mean_360_diff_7050',\n",
       " 'xy_relation_time_mean_360_diff_28200',\n",
       " 'xy_relation_time_mean_60_diff_28200',\n",
       " 'xy_relation_time_mean_60_diff_1410']"
      ]
     },
     "execution_count": 30,
     "metadata": {},
     "output_type": "execute_result"
    }
   ],
   "source": [
    "selected_cols"
   ]
  },
  {
   "cell_type": "code",
   "execution_count": 29,
   "metadata": {},
   "outputs": [
    {
     "name": "stdout",
     "output_type": "stream",
     "text": [
      "Data shapes:  (194510, 36) (68526, 36) (51394, 36)\n",
      "\n",
      "Valid MSE: \t\t 0.019312\n",
      "Valid R2 (x100): \t 1.421\n",
      "\n",
      "Test MSE: \t\t 0.015751\n",
      "Test R2 (x100): \t 1.0392\n"
     ]
    }
   ],
   "source": [
    "validate_sklearn_model(model, data, selected_cols, valid_ratio, test_ratio, droprows);"
   ]
  }
 ],
 "metadata": {
  "kernelspec": {
   "display_name": "Python 3",
   "language": "python",
   "name": "python3"
  },
  "language_info": {
   "codemirror_mode": {
    "name": "ipython",
    "version": 3
   },
   "file_extension": ".py",
   "mimetype": "text/x-python",
   "name": "python",
   "nbconvert_exporter": "python",
   "pygments_lexer": "ipython3",
   "version": "3.6.8"
  }
 },
 "nbformat": 4,
 "nbformat_minor": 2
}
