{
 "cells": [
  {
   "cell_type": "code",
   "execution_count": 1,
   "metadata": {},
   "outputs": [],
   "source": [
    "import pandas as pd\n",
    "import numpy as np\n",
    "\n",
    "from tqdm import tqdm, tqdm_notebook\n",
    "import random\n",
    "pd.set_option(\"display.max_rows\", 100)\n",
    "pd.set_option('display.max_columns', 200)\n",
    "\n",
    "from sklearn.metrics import mean_squared_error, r2_score\n",
    "from sklearn.linear_model import LinearRegression, ElasticNet, Ridge\n",
    "\n",
    "from ts_validation import validate_sklearn_model, validate_model_by_pentate, validate_model_by_triplets\n",
    "from ts_validation import greedy_add_del_strategy, greedy_add_strategy\n",
    "from helper import print_importances"
   ]
  },
  {
   "cell_type": "code",
   "execution_count": 3,
   "metadata": {},
   "outputs": [
    {
     "data": {
      "text/plain": [
       "(342630, 564)"
      ]
     },
     "execution_count": 3,
     "metadata": {},
     "output_type": "execute_result"
    }
   ],
   "source": [
    "data = pd.read_pickle('final_heap.pkl')\n",
    "\n",
    "valid_ratio = 0.25\n",
    "test_ratio = 0.25\n",
    "triplets = [\n",
    "    (0.5, 0.25, 0.25), \n",
    "    (0.6, 0.2, 0.2), \n",
    "    (0.7,0.15,0.15),\n",
    "#     (0.65, 0.2, 0.15)\n",
    "]\n",
    "droprows = 7050\n",
    "data.shape"
   ]
  },
  {
   "cell_type": "code",
   "execution_count": 4,
   "metadata": {},
   "outputs": [],
   "source": [
    "selected_cols = [\n",
    "    'is_end_of_week',\n",
    "    'weekday',\n",
    "    'xdiff_from_closing',\n",
    "    'xdiff_from_opening',\n",
    "    'xlog',\n",
    "    'xlog_dayly_ewma_60',\n",
    "    'xprice_dayly_ewma_24',\n",
    "    'xprice_diff_1410',\n",
    "    'xprice_time_mean_1410',\n",
    "    'xprice_time_mean_360_lag_1410',\n",
    "    'xprice_time_mean_6',\n",
    "    'xprice_time_mean_60_dayly_ewma_60',\n",
    "    'xprice_time_mean_6_rsi_6',\n",
    "    'xy_garmonic_ewma_prodpair_720_360',\n",
    "    'xy_garmonic_time_std_1410',\n",
    "    'xy_geom_time_mean_360_lag_120',\n",
    "    'xy_geom_time_mean_6',\n",
    "    'xy_geom_time_mean_60_dayly_ewma_6',\n",
    "    'xy_geom_time_mean_720_dayly_ewma_120',\n",
    "    'xy_relation_time_std_360',\n",
    "    'xy_relation_time_std_720',\n",
    "    'xy_square_time_zscore_60',\n",
    "    'ydiff_from_closing',\n",
    "    'ylog_dayly_ewma_360',\n",
    "    'yprice_dayly_ewma_60',\n",
    "    'yprice_diff_1410',\n",
    "    'yprice_ewma_difpair_60_24',\n",
    "    'yprice_full_history_diff',\n",
    "    'yprice_time_mean_360',\n",
    "    'yprice_time_mean_360_lag_1410',\n",
    "    'yprice_time_mean_360_lag_2820',\n",
    "    'yprice_time_mean_60',\n",
    "    'yprice_time_mean_60_dayly_ewma_24',\n",
    "    'yprice_time_mean_60_lag_60',\n",
    "    'yprice_time_mean_720',\n",
    "    'yprice_time_zscore_360',\n",
    "    'yprice_time_zscore_720',\n",
    "    'yx_spread_ewma_prodpair_360_60',\n",
    "    'yx_spread_time_mean_60_lag_360',\n",
    "    'yx_spread_time_mean_720_lag_120',\n",
    "    'yx_spread_time_zscore_1410',\n",
    "    'yprice_time_mean_60_rsi_360'\n",
    "] "
   ]
  },
  {
   "cell_type": "code",
   "execution_count": 5,
   "metadata": {},
   "outputs": [
    {
     "data": {
      "text/html": [
       "<div>\n",
       "<style scoped>\n",
       "    .dataframe tbody tr th:only-of-type {\n",
       "        vertical-align: middle;\n",
       "    }\n",
       "\n",
       "    .dataframe tbody tr th {\n",
       "        vertical-align: top;\n",
       "    }\n",
       "\n",
       "    .dataframe thead th {\n",
       "        text-align: right;\n",
       "    }\n",
       "</style>\n",
       "<table border=\"1\" class=\"dataframe\">\n",
       "  <thead>\n",
       "    <tr style=\"text-align: right;\">\n",
       "      <th></th>\n",
       "      <th>train_50_percent</th>\n",
       "      <th>train_60_percent</th>\n",
       "      <th>train_70_percent</th>\n",
       "      <th>train_80_percent</th>\n",
       "      <th>train_90_percent</th>\n",
       "      <th>min_stats</th>\n",
       "      <th>max_stats</th>\n",
       "      <th>avg</th>\n",
       "    </tr>\n",
       "  </thead>\n",
       "  <tbody>\n",
       "    <tr>\n",
       "      <td>mse</td>\n",
       "      <td>0.021796</td>\n",
       "      <td>0.020175</td>\n",
       "      <td>0.016409</td>\n",
       "      <td>0.020972</td>\n",
       "      <td>0.014756</td>\n",
       "      <td>0.014756</td>\n",
       "      <td>0.021796</td>\n",
       "      <td>0.018666</td>\n",
       "    </tr>\n",
       "    <tr>\n",
       "      <td>r2</td>\n",
       "      <td>2.433431</td>\n",
       "      <td>2.385680</td>\n",
       "      <td>2.378185</td>\n",
       "      <td>5.985920</td>\n",
       "      <td>2.407721</td>\n",
       "      <td>2.378185</td>\n",
       "      <td>5.985919</td>\n",
       "      <td>3.422149</td>\n",
       "    </tr>\n",
       "  </tbody>\n",
       "</table>\n",
       "</div>"
      ],
      "text/plain": [
       "     train_50_percent  train_60_percent  train_70_percent  train_80_percent  \\\n",
       "mse          0.021796          0.020175          0.016409          0.020972   \n",
       "r2           2.433431          2.385680          2.378185          5.985920   \n",
       "\n",
       "     train_90_percent  min_stats  max_stats       avg  \n",
       "mse          0.014756   0.014756   0.021796  0.018666  \n",
       "r2           2.407721   2.378185   5.985919  3.422149  "
      ]
     },
     "execution_count": 5,
     "metadata": {},
     "output_type": "execute_result"
    }
   ],
   "source": [
    "model = Ridge(alpha=1)\n",
    "validate_model_by_pentate(model, data, selected_cols, droprows)"
   ]
  },
  {
   "cell_type": "code",
   "execution_count": 215,
   "metadata": {},
   "outputs": [
    {
     "name": "stdout",
     "output_type": "stream",
     "text": [
      "41\n",
      "xdiff_from_closing 1.3064246 2.975\n",
      "xprice_diff_1410 1.3541011 3.031\n",
      "xprice_time_mean_360_lag_1410 2.130821 3.256\n",
      "xprice_time_mean_6 2.3183453 3.389\n",
      "xprice_time_mean_1410 2.069077 3.184\n",
      "ydiff_from_closing 2.1009536 3.332\n",
      "yprice_time_mean_360 2.310204 3.408\n",
      "    train_50_percent  train_60_percent  train_70_percent  train_80_percent  \\\n",
      "r2          2.404391          2.475934          2.369868           5.99314   \n",
      "\n",
      "    train_90_percent  min_stats  max_stats       avg  \n",
      "r2          2.310204   2.310204    5.99314  3.408203  \n",
      "----------------------------------------------------------------------------------------------------\n",
      "yprice_time_mean_60 2.2552626 3.36\n",
      "yprice_time_mean_360_lag_2820 2.1056728 3.336\n",
      "yprice_time_mean_720 2.3064146 3.285\n",
      "yprice_time_zscore_720 1.9825295 3.236\n",
      "yprice_time_mean_360_lag_1410 2.1700382 3.406\n",
      "    train_50_percent  train_60_percent  train_70_percent  train_80_percent  \\\n",
      "r2          2.304564           2.35618          2.170038          6.204768   \n",
      "\n",
      "    train_90_percent  min_stats  max_stats      avg  \n",
      "r2          2.429452   2.170038   6.204768  3.40625  \n",
      "----------------------------------------------------------------------------------------------------\n",
      "yprice_time_zscore_360 2.351138 3.373\n",
      "    train_50_percent  train_60_percent  train_70_percent  train_80_percent  \\\n",
      "r2           2.38357          2.483403          2.384213          5.829764   \n",
      "\n",
      "    train_90_percent  min_stats  max_stats       avg  \n",
      "r2          2.351138   2.351138   5.829764  3.373047  \n",
      "----------------------------------------------------------------------------------------------------\n",
      "xy_geom_time_mean_6 2.3120708 3.373\n",
      "xy_square_time_zscore_60 2.2088158 3.148\n",
      "is_end_of_week 2.2073722 3.246\n",
      "xy_garmonic_ewma_prodpair_720_360 2.2748554 3.225\n",
      "xy_relation_time_std_720 2.3175802 3.363\n",
      "ylog_dayly_ewma_360 2.3418248 3.32\n",
      "    train_50_percent  train_60_percent  train_70_percent  train_80_percent  \\\n",
      "r2          2.382106          2.361401          2.341825          5.682441   \n",
      "\n",
      "    train_90_percent  min_stats  max_stats       avg  \n",
      "r2          2.456373   2.341825   5.682441  3.320312  \n",
      "----------------------------------------------------------------------------------------------------\n",
      "yprice_full_history_diff 2.032724 3.271\n",
      "yprice_diff_1410 1.8086675 3.275\n",
      "weekday 2.2960527 3.363\n",
      "yx_spread_time_mean_60_lag_360 2.2361271 3.357\n",
      "yx_spread_time_zscore_1410 2.234079 3.309\n",
      "yprice_time_mean_60_dayly_ewma_24 1.8809873 3.166\n",
      "yprice_dayly_ewma_60 2.1465366 3.328\n",
      "xdiff_from_opening 2.2419052 3.352\n",
      "xy_geom_time_mean_60_dayly_ewma_6 2.327947 3.344\n",
      "    train_50_percent  train_60_percent  train_70_percent  train_80_percent  \\\n",
      "r2           2.38508          2.446511          2.327947          5.783619   \n",
      "\n",
      "    train_90_percent  min_stats  max_stats      avg  \n",
      "r2          2.354667   2.327947   5.783619  3.34375  \n",
      "----------------------------------------------------------------------------------------------------\n",
      "xprice_time_mean_60_dayly_ewma_60 2.3110337 3.371\n",
      "yx_spread_ewma_prodpair_360_60 1.9959147 3.21\n"
     ]
    }
   ],
   "source": [
    "check_cols = selected_cols# + added_cols\n",
    "print(len(check_cols))\n",
    "best_score = validate_model_by_pentate(model, data, check_cols, droprows).avg['r2']\n",
    "for col in check_cols[:30]:\n",
    "    other = check_cols.copy()\n",
    "    other.remove(col)\n",
    "    dashboard = validate_model_by_pentate(model, data, other, droprows)\n",
    "    min_score = dashboard.min_stats['r2']\n",
    "    mean_score = dashboard.avg['r2']\n",
    "    print(col, min_score, mean_score)\n",
    "    if min_score > 2.32 or mean_score > 3.39:\n",
    "        print(dashboard.loc[['r2']])\n",
    "        print('--' * 50)"
   ]
  },
  {
   "cell_type": "code",
   "execution_count": 20,
   "metadata": {},
   "outputs": [
    {
     "name": "stdout",
     "output_type": "stream",
     "text": [
      "Current score:  3.4221487\n",
      "Bad threshold: 3.0\n"
     ]
    },
    {
     "data": {
      "application/vnd.jupyter.widget-view+json": {
       "model_id": "38603bfd7e5d4165b0c8836b230d8548",
       "version_major": 2,
       "version_minor": 0
      },
      "text/plain": [
       "HBox(children=(IntProgress(value=0, max=504), HTML(value='')))"
      ]
     },
     "metadata": {},
     "output_type": "display_data"
    },
    {
     "name": "stdout",
     "output_type": "stream",
     "text": [
      "useless:  xprice_time_zscore_720 3.3352077\n",
      "usefull:  yx_spread_time_mean_6_rsi_720 3.3352077\n",
      "     train_50_percent  train_60_percent  train_70_percent  train_80_percent  \\\n",
      "mse          0.021796          0.020174          0.016408          0.020973   \n",
      "r2           2.434384          2.389267          2.392501          6.020598   \n",
      "\n",
      "     train_90_percent  min_stats  max_stats       avg  \n",
      "mse          0.014757   0.014757   0.021796  0.018666  \n",
      "r2           2.396649   2.389267   6.020598  3.434752  \n"
     ]
    },
    {
     "data": {
      "application/vnd.jupyter.widget-view+json": {
       "model_id": "17f4743ce57c4ef5ba3581d2fdd44067",
       "version_major": 2,
       "version_minor": 0
      },
      "text/plain": [
       "HBox(children=(IntProgress(value=0, max=502), HTML(value='')))"
      ]
     },
     "metadata": {},
     "output_type": "display_data"
    },
    {
     "name": "stdout",
     "output_type": "stream",
     "text": [
      "useless:  xy_garmonic_time_zscore_720 3.3352077\n",
      "useless:  xprice_time_zscore_1410 3.3352077\n"
     ]
    },
    {
     "data": {
      "application/vnd.jupyter.widget-view+json": {
       "model_id": "e3eda86ee96e47c6961976cdcd10a0a9",
       "version_major": 2,
       "version_minor": 0
      },
      "text/plain": [
       "HBox(children=(IntProgress(value=0, max=500), HTML(value='')))"
      ]
     },
     "metadata": {},
     "output_type": "display_data"
    },
    {
     "ename": "KeyboardInterrupt",
     "evalue": "",
     "output_type": "error",
     "traceback": [
      "\u001b[0;31m---------------------------------------------------------------------------\u001b[0m",
      "\u001b[0;31mKeyboardInterrupt\u001b[0m                         Traceback (most recent call last)",
      "\u001b[0;32m<ipython-input-20-5533891b80e1>\u001b[0m in \u001b[0;36m<module>\u001b[0;34m\u001b[0m\n\u001b[1;32m     29\u001b[0m     \u001b[0mprogress_bar\u001b[0m \u001b[0;34m=\u001b[0m \u001b[0mtqdm_notebook\u001b[0m\u001b[0;34m(\u001b[0m\u001b[0mother_cols\u001b[0m\u001b[0;34m)\u001b[0m\u001b[0;34m\u001b[0m\u001b[0;34m\u001b[0m\u001b[0m\n\u001b[1;32m     30\u001b[0m     \u001b[0;32mfor\u001b[0m \u001b[0mcol\u001b[0m \u001b[0;32min\u001b[0m \u001b[0mprogress_bar\u001b[0m\u001b[0;34m:\u001b[0m\u001b[0;34m\u001b[0m\u001b[0;34m\u001b[0m\u001b[0m\n\u001b[0;32m---> 31\u001b[0;31m         \u001b[0mmetrics\u001b[0m \u001b[0;34m=\u001b[0m \u001b[0mvalidate_model_by_pentate\u001b[0m\u001b[0;34m(\u001b[0m\u001b[0mmodel\u001b[0m\u001b[0;34m,\u001b[0m \u001b[0mdata\u001b[0m\u001b[0;34m,\u001b[0m \u001b[0mselected_cols\u001b[0m \u001b[0;34m+\u001b[0m \u001b[0madded_cols\u001b[0m \u001b[0;34m+\u001b[0m \u001b[0;34m[\u001b[0m\u001b[0mcol\u001b[0m\u001b[0;34m]\u001b[0m\u001b[0;34m,\u001b[0m \u001b[0mdroprows\u001b[0m\u001b[0;34m)\u001b[0m\u001b[0;34m\u001b[0m\u001b[0;34m\u001b[0m\u001b[0m\n\u001b[0m\u001b[1;32m     32\u001b[0m         \u001b[0mmean_score\u001b[0m \u001b[0;34m=\u001b[0m \u001b[0mmetrics\u001b[0m\u001b[0;34m.\u001b[0m\u001b[0mavg\u001b[0m\u001b[0;34m[\u001b[0m\u001b[0;34m'r2'\u001b[0m\u001b[0;34m]\u001b[0m\u001b[0;34m\u001b[0m\u001b[0;34m\u001b[0m\u001b[0m\n\u001b[1;32m     33\u001b[0m         \u001b[0mmin_score\u001b[0m \u001b[0;34m=\u001b[0m \u001b[0mmetrics\u001b[0m\u001b[0;34m.\u001b[0m\u001b[0mmin_stats\u001b[0m\u001b[0;34m[\u001b[0m\u001b[0;34m'r2'\u001b[0m\u001b[0;34m]\u001b[0m\u001b[0;34m\u001b[0m\u001b[0;34m\u001b[0m\u001b[0m\n",
      "\u001b[0;32m~/TimeSeriesExample/ts_validation.py\u001b[0m in \u001b[0;36mvalidate_model_by_pentate\u001b[0;34m(model, source_data, base_cols, droprows)\u001b[0m\n\u001b[1;32m    113\u001b[0m         \u001b[0mtrain\u001b[0m\u001b[0;34m.\u001b[0m\u001b[0mdropna\u001b[0m\u001b[0;34m(\u001b[0m\u001b[0minplace\u001b[0m\u001b[0;34m=\u001b[0m\u001b[0;32mTrue\u001b[0m\u001b[0;34m)\u001b[0m\u001b[0;34m\u001b[0m\u001b[0;34m\u001b[0m\u001b[0m\n\u001b[1;32m    114\u001b[0m \u001b[0;34m\u001b[0m\u001b[0m\n\u001b[0;32m--> 115\u001b[0;31m         \u001b[0mmodel\u001b[0m\u001b[0;34m.\u001b[0m\u001b[0mfit\u001b[0m\u001b[0;34m(\u001b[0m\u001b[0mtrain\u001b[0m\u001b[0;34m[\u001b[0m\u001b[0mselected_cols\u001b[0m\u001b[0;34m]\u001b[0m\u001b[0;34m,\u001b[0m \u001b[0mtrain\u001b[0m\u001b[0;34m.\u001b[0m\u001b[0mreturns\u001b[0m\u001b[0;34m)\u001b[0m\u001b[0;34m\u001b[0m\u001b[0;34m\u001b[0m\u001b[0m\n\u001b[0m\u001b[1;32m    116\u001b[0m         \u001b[0mpredicted\u001b[0m \u001b[0;34m=\u001b[0m \u001b[0mmodel\u001b[0m\u001b[0;34m.\u001b[0m\u001b[0mpredict\u001b[0m\u001b[0;34m(\u001b[0m\u001b[0mtest\u001b[0m\u001b[0;34m[\u001b[0m\u001b[0mselected_cols\u001b[0m\u001b[0;34m]\u001b[0m\u001b[0;34m)\u001b[0m\u001b[0;34m\u001b[0m\u001b[0;34m\u001b[0m\u001b[0m\n\u001b[1;32m    117\u001b[0m         \u001b[0mpredicted\u001b[0m\u001b[0;34m[\u001b[0m\u001b[0mtest\u001b[0m\u001b[0;34m.\u001b[0m\u001b[0mperiods_before_closing\u001b[0m \u001b[0;34m==\u001b[0m \u001b[0;36m0\u001b[0m\u001b[0;34m]\u001b[0m \u001b[0;34m=\u001b[0m \u001b[0;36m0\u001b[0m\u001b[0;34m\u001b[0m\u001b[0;34m\u001b[0m\u001b[0m\n",
      "\u001b[0;32m~/anaconda3/lib/python3.7/site-packages/pandas/core/frame.py\u001b[0m in \u001b[0;36m__getitem__\u001b[0;34m(self, key)\u001b[0m\n\u001b[1;32m   2990\u001b[0m             \u001b[0mindexer\u001b[0m \u001b[0;34m=\u001b[0m \u001b[0mnp\u001b[0m\u001b[0;34m.\u001b[0m\u001b[0mwhere\u001b[0m\u001b[0;34m(\u001b[0m\u001b[0mindexer\u001b[0m\u001b[0;34m)\u001b[0m\u001b[0;34m[\u001b[0m\u001b[0;36m0\u001b[0m\u001b[0;34m]\u001b[0m\u001b[0;34m\u001b[0m\u001b[0;34m\u001b[0m\u001b[0m\n\u001b[1;32m   2991\u001b[0m \u001b[0;34m\u001b[0m\u001b[0m\n\u001b[0;32m-> 2992\u001b[0;31m         \u001b[0mdata\u001b[0m \u001b[0;34m=\u001b[0m \u001b[0mself\u001b[0m\u001b[0;34m.\u001b[0m\u001b[0mtake\u001b[0m\u001b[0;34m(\u001b[0m\u001b[0mindexer\u001b[0m\u001b[0;34m,\u001b[0m \u001b[0maxis\u001b[0m\u001b[0;34m=\u001b[0m\u001b[0;36m1\u001b[0m\u001b[0;34m)\u001b[0m\u001b[0;34m\u001b[0m\u001b[0;34m\u001b[0m\u001b[0m\n\u001b[0m\u001b[1;32m   2993\u001b[0m \u001b[0;34m\u001b[0m\u001b[0m\n\u001b[1;32m   2994\u001b[0m         \u001b[0;32mif\u001b[0m \u001b[0mis_single_key\u001b[0m\u001b[0;34m:\u001b[0m\u001b[0;34m\u001b[0m\u001b[0;34m\u001b[0m\u001b[0m\n",
      "\u001b[0;32m~/anaconda3/lib/python3.7/site-packages/pandas/core/generic.py\u001b[0m in \u001b[0;36mtake\u001b[0;34m(self, indices, axis, is_copy, **kwargs)\u001b[0m\n\u001b[1;32m   3602\u001b[0m \u001b[0;34m\u001b[0m\u001b[0m\n\u001b[1;32m   3603\u001b[0m         new_data = self._data.take(\n\u001b[0;32m-> 3604\u001b[0;31m             \u001b[0mindices\u001b[0m\u001b[0;34m,\u001b[0m \u001b[0maxis\u001b[0m\u001b[0;34m=\u001b[0m\u001b[0mself\u001b[0m\u001b[0;34m.\u001b[0m\u001b[0m_get_block_manager_axis\u001b[0m\u001b[0;34m(\u001b[0m\u001b[0maxis\u001b[0m\u001b[0;34m)\u001b[0m\u001b[0;34m,\u001b[0m \u001b[0mverify\u001b[0m\u001b[0;34m=\u001b[0m\u001b[0;32mTrue\u001b[0m\u001b[0;34m\u001b[0m\u001b[0;34m\u001b[0m\u001b[0m\n\u001b[0m\u001b[1;32m   3605\u001b[0m         )\n\u001b[1;32m   3606\u001b[0m         \u001b[0mresult\u001b[0m \u001b[0;34m=\u001b[0m \u001b[0mself\u001b[0m\u001b[0;34m.\u001b[0m\u001b[0m_constructor\u001b[0m\u001b[0;34m(\u001b[0m\u001b[0mnew_data\u001b[0m\u001b[0;34m)\u001b[0m\u001b[0;34m.\u001b[0m\u001b[0m__finalize__\u001b[0m\u001b[0;34m(\u001b[0m\u001b[0mself\u001b[0m\u001b[0;34m)\u001b[0m\u001b[0;34m\u001b[0m\u001b[0;34m\u001b[0m\u001b[0m\n",
      "\u001b[0;32m~/anaconda3/lib/python3.7/site-packages/pandas/core/internals/managers.py\u001b[0m in \u001b[0;36mtake\u001b[0;34m(self, indexer, axis, verify, convert)\u001b[0m\n\u001b[1;32m   1395\u001b[0m         \u001b[0mnew_labels\u001b[0m \u001b[0;34m=\u001b[0m \u001b[0mself\u001b[0m\u001b[0;34m.\u001b[0m\u001b[0maxes\u001b[0m\u001b[0;34m[\u001b[0m\u001b[0maxis\u001b[0m\u001b[0;34m]\u001b[0m\u001b[0;34m.\u001b[0m\u001b[0mtake\u001b[0m\u001b[0;34m(\u001b[0m\u001b[0mindexer\u001b[0m\u001b[0;34m)\u001b[0m\u001b[0;34m\u001b[0m\u001b[0;34m\u001b[0m\u001b[0m\n\u001b[1;32m   1396\u001b[0m         return self.reindex_indexer(\n\u001b[0;32m-> 1397\u001b[0;31m             \u001b[0mnew_axis\u001b[0m\u001b[0;34m=\u001b[0m\u001b[0mnew_labels\u001b[0m\u001b[0;34m,\u001b[0m \u001b[0mindexer\u001b[0m\u001b[0;34m=\u001b[0m\u001b[0mindexer\u001b[0m\u001b[0;34m,\u001b[0m \u001b[0maxis\u001b[0m\u001b[0;34m=\u001b[0m\u001b[0maxis\u001b[0m\u001b[0;34m,\u001b[0m \u001b[0mallow_dups\u001b[0m\u001b[0;34m=\u001b[0m\u001b[0;32mTrue\u001b[0m\u001b[0;34m\u001b[0m\u001b[0;34m\u001b[0m\u001b[0m\n\u001b[0m\u001b[1;32m   1398\u001b[0m         )\n\u001b[1;32m   1399\u001b[0m \u001b[0;34m\u001b[0m\u001b[0m\n",
      "\u001b[0;32m~/anaconda3/lib/python3.7/site-packages/pandas/core/internals/managers.py\u001b[0m in \u001b[0;36mreindex_indexer\u001b[0;34m(self, new_axis, indexer, axis, fill_value, allow_dups, copy)\u001b[0m\n\u001b[1;32m   1255\u001b[0m \u001b[0;34m\u001b[0m\u001b[0m\n\u001b[1;32m   1256\u001b[0m         \u001b[0;32mif\u001b[0m \u001b[0maxis\u001b[0m \u001b[0;34m==\u001b[0m \u001b[0;36m0\u001b[0m\u001b[0;34m:\u001b[0m\u001b[0;34m\u001b[0m\u001b[0;34m\u001b[0m\u001b[0m\n\u001b[0;32m-> 1257\u001b[0;31m             \u001b[0mnew_blocks\u001b[0m \u001b[0;34m=\u001b[0m \u001b[0mself\u001b[0m\u001b[0;34m.\u001b[0m\u001b[0m_slice_take_blocks_ax0\u001b[0m\u001b[0;34m(\u001b[0m\u001b[0mindexer\u001b[0m\u001b[0;34m,\u001b[0m \u001b[0mfill_tuple\u001b[0m\u001b[0;34m=\u001b[0m\u001b[0;34m(\u001b[0m\u001b[0mfill_value\u001b[0m\u001b[0;34m,\u001b[0m\u001b[0;34m)\u001b[0m\u001b[0;34m)\u001b[0m\u001b[0;34m\u001b[0m\u001b[0;34m\u001b[0m\u001b[0m\n\u001b[0m\u001b[1;32m   1258\u001b[0m         \u001b[0;32melse\u001b[0m\u001b[0;34m:\u001b[0m\u001b[0;34m\u001b[0m\u001b[0;34m\u001b[0m\u001b[0m\n\u001b[1;32m   1259\u001b[0m             new_blocks = [\n",
      "\u001b[0;32m~/anaconda3/lib/python3.7/site-packages/pandas/core/internals/managers.py\u001b[0m in \u001b[0;36m_slice_take_blocks_ax0\u001b[0;34m(self, slice_or_indexer, fill_tuple)\u001b[0m\n\u001b[1;32m   1355\u001b[0m                             \u001b[0maxis\u001b[0m\u001b[0;34m=\u001b[0m\u001b[0;36m0\u001b[0m\u001b[0;34m,\u001b[0m\u001b[0;34m\u001b[0m\u001b[0;34m\u001b[0m\u001b[0m\n\u001b[1;32m   1356\u001b[0m                             \u001b[0mnew_mgr_locs\u001b[0m\u001b[0;34m=\u001b[0m\u001b[0mmgr_locs\u001b[0m\u001b[0;34m,\u001b[0m\u001b[0;34m\u001b[0m\u001b[0;34m\u001b[0m\u001b[0m\n\u001b[0;32m-> 1357\u001b[0;31m                             \u001b[0mfill_tuple\u001b[0m\u001b[0;34m=\u001b[0m\u001b[0;32mNone\u001b[0m\u001b[0;34m,\u001b[0m\u001b[0;34m\u001b[0m\u001b[0;34m\u001b[0m\u001b[0m\n\u001b[0m\u001b[1;32m   1358\u001b[0m                         )\n\u001b[1;32m   1359\u001b[0m                     )\n",
      "\u001b[0;32m~/anaconda3/lib/python3.7/site-packages/pandas/core/internals/blocks.py\u001b[0m in \u001b[0;36mtake_nd\u001b[0;34m(self, indexer, axis, new_mgr_locs, fill_tuple)\u001b[0m\n\u001b[1;32m   1312\u001b[0m \u001b[0;34m\u001b[0m\u001b[0m\n\u001b[1;32m   1313\u001b[0m         new_values = algos.take_nd(\n\u001b[0;32m-> 1314\u001b[0;31m             \u001b[0mvalues\u001b[0m\u001b[0;34m,\u001b[0m \u001b[0mindexer\u001b[0m\u001b[0;34m,\u001b[0m \u001b[0maxis\u001b[0m\u001b[0;34m=\u001b[0m\u001b[0maxis\u001b[0m\u001b[0;34m,\u001b[0m \u001b[0mallow_fill\u001b[0m\u001b[0;34m=\u001b[0m\u001b[0mallow_fill\u001b[0m\u001b[0;34m,\u001b[0m \u001b[0mfill_value\u001b[0m\u001b[0;34m=\u001b[0m\u001b[0mfill_value\u001b[0m\u001b[0;34m\u001b[0m\u001b[0;34m\u001b[0m\u001b[0m\n\u001b[0m\u001b[1;32m   1315\u001b[0m         )\n\u001b[1;32m   1316\u001b[0m \u001b[0;34m\u001b[0m\u001b[0m\n",
      "\u001b[0;32m~/anaconda3/lib/python3.7/site-packages/pandas/core/algorithms.py\u001b[0m in \u001b[0;36mtake_nd\u001b[0;34m(arr, indexer, axis, out, fill_value, mask_info, allow_fill)\u001b[0m\n\u001b[1;32m   1719\u001b[0m         \u001b[0marr\u001b[0m\u001b[0;34m.\u001b[0m\u001b[0mndim\u001b[0m\u001b[0;34m,\u001b[0m \u001b[0marr\u001b[0m\u001b[0;34m.\u001b[0m\u001b[0mdtype\u001b[0m\u001b[0;34m,\u001b[0m \u001b[0mout\u001b[0m\u001b[0;34m.\u001b[0m\u001b[0mdtype\u001b[0m\u001b[0;34m,\u001b[0m \u001b[0maxis\u001b[0m\u001b[0;34m=\u001b[0m\u001b[0maxis\u001b[0m\u001b[0;34m,\u001b[0m \u001b[0mmask_info\u001b[0m\u001b[0;34m=\u001b[0m\u001b[0mmask_info\u001b[0m\u001b[0;34m\u001b[0m\u001b[0;34m\u001b[0m\u001b[0m\n\u001b[1;32m   1720\u001b[0m     )\n\u001b[0;32m-> 1721\u001b[0;31m     \u001b[0mfunc\u001b[0m\u001b[0;34m(\u001b[0m\u001b[0marr\u001b[0m\u001b[0;34m,\u001b[0m \u001b[0mindexer\u001b[0m\u001b[0;34m,\u001b[0m \u001b[0mout\u001b[0m\u001b[0;34m,\u001b[0m \u001b[0mfill_value\u001b[0m\u001b[0;34m)\u001b[0m\u001b[0;34m\u001b[0m\u001b[0;34m\u001b[0m\u001b[0m\n\u001b[0m\u001b[1;32m   1722\u001b[0m \u001b[0;34m\u001b[0m\u001b[0m\n\u001b[1;32m   1723\u001b[0m     \u001b[0;32mif\u001b[0m \u001b[0mflip_order\u001b[0m\u001b[0;34m:\u001b[0m\u001b[0;34m\u001b[0m\u001b[0;34m\u001b[0m\u001b[0m\n",
      "\u001b[0;31mKeyboardInterrupt\u001b[0m: "
     ]
    }
   ],
   "source": [
    "current_dashboard = validate_model_by_pentate(model, data, selected_cols, droprows)\n",
    "best_score = current_dashboard.avg['r2']\n",
    "best_min_score = current_dashboard.min_stats['r2']\n",
    "\n",
    "bad_threshold = 3. #best_score / 2\n",
    "useless_cols = []\n",
    "added_cols = []\n",
    "\n",
    "eps = 0.01\n",
    "\n",
    "structural_cols = [\n",
    "    'timestamp', 'returns', 'day', 'periods_before_closing', 'periods_after_opening',\n",
    "    'yprice', 'yx_spread', 'yx_relation', 'xy_relation', 'xy_square', 'xy_geom', 'xy_garmonic',\n",
    "    'is_monday', 'is_tuesday', 'is_wednesday', 'is_thursday', 'is_friday', 'is_end_of_week'\n",
    "]\n",
    "\n",
    "print('Current score: ', best_score)\n",
    "print('Bad threshold:', bad_threshold)\n",
    "\n",
    "while True:\n",
    "    other_cols = [\n",
    "        col for col in data.columns if col not in (selected_cols + \\\n",
    "            structural_cols + \\\n",
    "            useless_cols + \\\n",
    "            added_cols + ['closing_indicator'])\n",
    "    ]\n",
    "\n",
    "    random.shuffle(other_cols)\n",
    "    progress_bar = tqdm_notebook(other_cols)\n",
    "    for col in progress_bar:\n",
    "        metrics = validate_model_by_pentate(model, data, selected_cols + added_cols + [col], droprows)\n",
    "        mean_score = metrics.avg['r2']\n",
    "        min_score = metrics.min_stats['r2']\n",
    "        progress_bar.set_description('{}: {:.5}'.format(col, score))\n",
    "        if mean_score > best_score + eps and min_score > best_min_score:\n",
    "            added_cols.append(col)\n",
    "            best_score = mean_score\n",
    "            best_min_score = min_score\n",
    "            print('usefull: ', col, score)\n",
    "            print(metrics)\n",
    "            break\n",
    "        elif mean_score < bad_threshold:\n",
    "            print('useless: ', col, score)\n",
    "            useless_cols.append(col)"
   ]
  },
  {
   "cell_type": "code",
   "execution_count": null,
   "metadata": {},
   "outputs": [],
   "source": []
  }
 ],
 "metadata": {
  "kernelspec": {
   "display_name": "Python 3",
   "language": "python",
   "name": "python3"
  },
  "language_info": {
   "codemirror_mode": {
    "name": "ipython",
    "version": 3
   },
   "file_extension": ".py",
   "mimetype": "text/x-python",
   "name": "python",
   "nbconvert_exporter": "python",
   "pygments_lexer": "ipython3",
   "version": "3.7.1"
  }
 },
 "nbformat": 4,
 "nbformat_minor": 2
}
