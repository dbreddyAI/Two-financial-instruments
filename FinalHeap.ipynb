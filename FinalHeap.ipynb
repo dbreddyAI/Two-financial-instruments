{
 "cells": [
  {
   "cell_type": "code",
   "execution_count": 1,
   "metadata": {},
   "outputs": [],
   "source": [
    "import pandas as pd\n",
    "import numpy as np\n",
    "\n",
    "import matplotlib.pylab as plt\n",
    "%matplotlib inline\n",
    "\n",
    "from tqdm import tqdm, tqdm_notebook\n",
    "pd.set_option(\"display.max_rows\", 100)\n",
    "pd.set_option('display.max_columns', 200)\n",
    "\n",
    "from sklearn.metrics import mean_squared_error, r2_score\n",
    "from sklearn.linear_model import LinearRegression, ElasticNet, Ridge\n",
    "fname = 'data.csv'\n",
    "\n",
    "from ts_features import init_data, add_hand_feats, add_diffs, add_shifts\n",
    "from ts_features import add_ewma, add_intraday_ewma\n",
    "from ts_features import add_time_depended_rolling, add_full_history_diff\n",
    "from ts_validation import validate_sklearn_model, validate_model_by_pentate, validate_model_by_triplets\n",
    "from ts_validation import greedy_add_del_strategy, greedy_add_strategy\n",
    "from helper import print_importances"
   ]
  },
  {
   "cell_type": "markdown",
   "metadata": {},
   "source": [
    "- 6 - 1min\n",
    "- 60 - 10min\n",
    "- 360 - 1hour\n",
    "- 1410 - 1workday (~ 4 hours per day)\n",
    "- 7050 - 1workweek (5 days per week)\n",
    "- 28200 - 1 workmonth (~ 4 weeks per month)\n",
    "\n",
    "\n",
    "I used standardized functions and aggregation periods"
   ]
  },
  {
   "cell_type": "markdown",
   "metadata": {},
   "source": [
    "**7 basic features:**\n",
    "- x\n",
    "- y\n",
    "- yx_spread = yprice - xprice\n",
    "- xy_relation = xprice / yprice\n",
    "- xy_square = (xprice ** 2 + yprice ** 2) ** 0.5 / 2\n",
    "- xy_geom = (data.xprice * data.yprice) ** 0.5\n",
    "- xy_garmonic = 2 / (1 / xprice + 1 / yprice)\n",
    "\n",
    "**basic periods:**\n",
    "- intraday_agg_periods: [6, 12, 24, 60, 120, 360, 720]\n",
    "- oneday_agg_periods: [6, 60, 360, 720, 1410]\n",
    "- oneweek_agg_periods: [1410, 2820, 4230, 5640]\n",
    "- oneweek_agg_periods: [1410, 2820, 4230, 5640]"
   ]
  },
  {
   "cell_type": "code",
   "execution_count": 2,
   "metadata": {},
   "outputs": [
    {
     "name": "stdout",
     "output_type": "stream",
     "text": [
      "month_agg_periods: [1410, 2820, 4230, 5640, 7050, 14100, 21150]\n"
     ]
    }
   ],
   "source": [
    "short_agg_periods = [6, 60, 360]\n",
    "oneday_agg_periods = [6, 60, 360, 720, 1410]\n",
    "intraday_agg_periods = [6, 12, 24, 60, 120, 360, 720]\n",
    "oneweek_agg_periods = [1410, 2820, 4230, 5640]\n",
    "\n",
    "valid_ratio = 0.25\n",
    "test_ratio = 0.25\n",
    "triplets = [\n",
    "    (0.5, 0.25, 0.25), \n",
    "    (0.6, 0.2, 0.2), \n",
    "    (0.7,0.15,0.15),\n",
    "#     (0.65, 0.2, 0.15)\n",
    "]\n",
    "droprows = 7050\n"
   ]
  },
  {
   "cell_type": "code",
   "execution_count": 3,
   "metadata": {},
   "outputs": [
    {
     "name": "stdout",
     "output_type": "stream",
     "text": [
      "['ydiff_from_closing', 'xdiff_from_closing', 'yrel_from_closing', 'xrel_from_closing', 'ydiff_from_closing', 'xdiff_from_closing', 'yrel_from_opening', 'xrel_from_opening']\n"
     ]
    },
    {
     "data": {
      "text/html": [
       "<div>\n",
       "<style scoped>\n",
       "    .dataframe tbody tr th:only-of-type {\n",
       "        vertical-align: middle;\n",
       "    }\n",
       "\n",
       "    .dataframe tbody tr th {\n",
       "        vertical-align: top;\n",
       "    }\n",
       "\n",
       "    .dataframe thead th {\n",
       "        text-align: right;\n",
       "    }\n",
       "</style>\n",
       "<table border=\"1\" class=\"dataframe\">\n",
       "  <thead>\n",
       "    <tr style=\"text-align: right;\">\n",
       "      <th></th>\n",
       "      <th>timestamp</th>\n",
       "      <th>xprice</th>\n",
       "      <th>yprice</th>\n",
       "      <th>returns</th>\n",
       "      <th>yx_spread</th>\n",
       "      <th>yx_relation</th>\n",
       "      <th>xy_relation</th>\n",
       "      <th>xy_square</th>\n",
       "      <th>xy_geom</th>\n",
       "      <th>xy_garmonic</th>\n",
       "      <th>weekday</th>\n",
       "      <th>day</th>\n",
       "      <th>periods_before_closing</th>\n",
       "      <th>periods_after_opening</th>\n",
       "      <th>ydiff_from_closing</th>\n",
       "      <th>yrel_from_closing</th>\n",
       "      <th>xdiff_from_closing</th>\n",
       "      <th>xrel_from_closing</th>\n",
       "      <th>ydiff_from_opening</th>\n",
       "      <th>yrel_from_opening</th>\n",
       "      <th>xdiff_from_opening</th>\n",
       "      <th>xrel_from_opening</th>\n",
       "    </tr>\n",
       "    <tr>\n",
       "      <th>timestamp</th>\n",
       "      <th></th>\n",
       "      <th></th>\n",
       "      <th></th>\n",
       "      <th></th>\n",
       "      <th></th>\n",
       "      <th></th>\n",
       "      <th></th>\n",
       "      <th></th>\n",
       "      <th></th>\n",
       "      <th></th>\n",
       "      <th></th>\n",
       "      <th></th>\n",
       "      <th></th>\n",
       "      <th></th>\n",
       "      <th></th>\n",
       "      <th></th>\n",
       "      <th></th>\n",
       "      <th></th>\n",
       "      <th></th>\n",
       "      <th></th>\n",
       "      <th></th>\n",
       "      <th></th>\n",
       "    </tr>\n",
       "  </thead>\n",
       "  <tbody>\n",
       "    <tr>\n",
       "      <td>2013-01-03 20:05:00</td>\n",
       "      <td>2013-01-03 20:05:00</td>\n",
       "      <td>12.8375</td>\n",
       "      <td>23.2500</td>\n",
       "      <td>0.3125</td>\n",
       "      <td>10.4125</td>\n",
       "      <td>1.811100</td>\n",
       "      <td>0.552151</td>\n",
       "      <td>13.279344</td>\n",
       "      <td>17.276339</td>\n",
       "      <td>16.541566</td>\n",
       "      <td>3</td>\n",
       "      <td>0</td>\n",
       "      <td>1409</td>\n",
       "      <td>0</td>\n",
       "      <td>0.0</td>\n",
       "      <td>1.0</td>\n",
       "      <td>0.0</td>\n",
       "      <td>1.0</td>\n",
       "      <td>0.0000</td>\n",
       "      <td>1.000000</td>\n",
       "      <td>0.000</td>\n",
       "      <td>0.999999</td>\n",
       "    </tr>\n",
       "    <tr>\n",
       "      <td>2013-01-03 20:05:10</td>\n",
       "      <td>2013-01-03 20:05:10</td>\n",
       "      <td>12.8875</td>\n",
       "      <td>23.3000</td>\n",
       "      <td>0.2750</td>\n",
       "      <td>10.4125</td>\n",
       "      <td>1.807953</td>\n",
       "      <td>0.553112</td>\n",
       "      <td>13.313317</td>\n",
       "      <td>17.328553</td>\n",
       "      <td>16.595717</td>\n",
       "      <td>3</td>\n",
       "      <td>0</td>\n",
       "      <td>1408</td>\n",
       "      <td>1</td>\n",
       "      <td>0.0</td>\n",
       "      <td>1.0</td>\n",
       "      <td>0.0</td>\n",
       "      <td>1.0</td>\n",
       "      <td>0.0500</td>\n",
       "      <td>1.002150</td>\n",
       "      <td>0.050</td>\n",
       "      <td>1.003894</td>\n",
       "    </tr>\n",
       "    <tr>\n",
       "      <td>2013-01-03 20:05:20</td>\n",
       "      <td>2013-01-03 20:05:20</td>\n",
       "      <td>12.8625</td>\n",
       "      <td>23.3375</td>\n",
       "      <td>0.2500</td>\n",
       "      <td>10.4750</td>\n",
       "      <td>1.814383</td>\n",
       "      <td>0.551152</td>\n",
       "      <td>13.323690</td>\n",
       "      <td>17.325663</td>\n",
       "      <td>16.584453</td>\n",
       "      <td>3</td>\n",
       "      <td>0</td>\n",
       "      <td>1407</td>\n",
       "      <td>2</td>\n",
       "      <td>0.0</td>\n",
       "      <td>1.0</td>\n",
       "      <td>0.0</td>\n",
       "      <td>1.0</td>\n",
       "      <td>0.0875</td>\n",
       "      <td>1.003763</td>\n",
       "      <td>0.025</td>\n",
       "      <td>1.001947</td>\n",
       "    </tr>\n",
       "    <tr>\n",
       "      <td>2013-01-03 20:05:30</td>\n",
       "      <td>2013-01-03 20:05:30</td>\n",
       "      <td>12.8375</td>\n",
       "      <td>23.3625</td>\n",
       "      <td>0.2375</td>\n",
       "      <td>10.5250</td>\n",
       "      <td>1.819864</td>\n",
       "      <td>0.549492</td>\n",
       "      <td>13.328614</td>\n",
       "      <td>17.318086</td>\n",
       "      <td>16.569950</td>\n",
       "      <td>3</td>\n",
       "      <td>0</td>\n",
       "      <td>1406</td>\n",
       "      <td>3</td>\n",
       "      <td>0.0</td>\n",
       "      <td>1.0</td>\n",
       "      <td>0.0</td>\n",
       "      <td>1.0</td>\n",
       "      <td>0.1125</td>\n",
       "      <td>1.004838</td>\n",
       "      <td>0.000</td>\n",
       "      <td>0.999999</td>\n",
       "    </tr>\n",
       "    <tr>\n",
       "      <td>2013-01-03 20:05:40</td>\n",
       "      <td>2013-01-03 20:05:40</td>\n",
       "      <td>12.8375</td>\n",
       "      <td>23.3625</td>\n",
       "      <td>0.3250</td>\n",
       "      <td>10.5250</td>\n",
       "      <td>1.819864</td>\n",
       "      <td>0.549492</td>\n",
       "      <td>13.328614</td>\n",
       "      <td>17.318086</td>\n",
       "      <td>16.569950</td>\n",
       "      <td>3</td>\n",
       "      <td>0</td>\n",
       "      <td>1405</td>\n",
       "      <td>4</td>\n",
       "      <td>0.0</td>\n",
       "      <td>1.0</td>\n",
       "      <td>0.0</td>\n",
       "      <td>1.0</td>\n",
       "      <td>0.1125</td>\n",
       "      <td>1.004838</td>\n",
       "      <td>0.000</td>\n",
       "      <td>0.999999</td>\n",
       "    </tr>\n",
       "  </tbody>\n",
       "</table>\n",
       "</div>"
      ],
      "text/plain": [
       "                              timestamp   xprice   yprice  returns  yx_spread  \\\n",
       "timestamp                                                                       \n",
       "2013-01-03 20:05:00 2013-01-03 20:05:00  12.8375  23.2500   0.3125    10.4125   \n",
       "2013-01-03 20:05:10 2013-01-03 20:05:10  12.8875  23.3000   0.2750    10.4125   \n",
       "2013-01-03 20:05:20 2013-01-03 20:05:20  12.8625  23.3375   0.2500    10.4750   \n",
       "2013-01-03 20:05:30 2013-01-03 20:05:30  12.8375  23.3625   0.2375    10.5250   \n",
       "2013-01-03 20:05:40 2013-01-03 20:05:40  12.8375  23.3625   0.3250    10.5250   \n",
       "\n",
       "                     yx_relation  xy_relation  xy_square    xy_geom  \\\n",
       "timestamp                                                             \n",
       "2013-01-03 20:05:00     1.811100     0.552151  13.279344  17.276339   \n",
       "2013-01-03 20:05:10     1.807953     0.553112  13.313317  17.328553   \n",
       "2013-01-03 20:05:20     1.814383     0.551152  13.323690  17.325663   \n",
       "2013-01-03 20:05:30     1.819864     0.549492  13.328614  17.318086   \n",
       "2013-01-03 20:05:40     1.819864     0.549492  13.328614  17.318086   \n",
       "\n",
       "                     xy_garmonic  weekday  day  periods_before_closing  \\\n",
       "timestamp                                                                \n",
       "2013-01-03 20:05:00    16.541566        3    0                    1409   \n",
       "2013-01-03 20:05:10    16.595717        3    0                    1408   \n",
       "2013-01-03 20:05:20    16.584453        3    0                    1407   \n",
       "2013-01-03 20:05:30    16.569950        3    0                    1406   \n",
       "2013-01-03 20:05:40    16.569950        3    0                    1405   \n",
       "\n",
       "                     periods_after_opening  ydiff_from_closing  \\\n",
       "timestamp                                                        \n",
       "2013-01-03 20:05:00                      0                 0.0   \n",
       "2013-01-03 20:05:10                      1                 0.0   \n",
       "2013-01-03 20:05:20                      2                 0.0   \n",
       "2013-01-03 20:05:30                      3                 0.0   \n",
       "2013-01-03 20:05:40                      4                 0.0   \n",
       "\n",
       "                     yrel_from_closing  xdiff_from_closing  xrel_from_closing  \\\n",
       "timestamp                                                                       \n",
       "2013-01-03 20:05:00                1.0                 0.0                1.0   \n",
       "2013-01-03 20:05:10                1.0                 0.0                1.0   \n",
       "2013-01-03 20:05:20                1.0                 0.0                1.0   \n",
       "2013-01-03 20:05:30                1.0                 0.0                1.0   \n",
       "2013-01-03 20:05:40                1.0                 0.0                1.0   \n",
       "\n",
       "                     ydiff_from_opening  yrel_from_opening  \\\n",
       "timestamp                                                    \n",
       "2013-01-03 20:05:00              0.0000           1.000000   \n",
       "2013-01-03 20:05:10              0.0500           1.002150   \n",
       "2013-01-03 20:05:20              0.0875           1.003763   \n",
       "2013-01-03 20:05:30              0.1125           1.004838   \n",
       "2013-01-03 20:05:40              0.1125           1.004838   \n",
       "\n",
       "                     xdiff_from_opening  xrel_from_opening  \n",
       "timestamp                                                   \n",
       "2013-01-03 20:05:00               0.000           0.999999  \n",
       "2013-01-03 20:05:10               0.050           1.003894  \n",
       "2013-01-03 20:05:20               0.025           1.001947  \n",
       "2013-01-03 20:05:30               0.000           0.999999  \n",
       "2013-01-03 20:05:40               0.000           0.999999  "
      ]
     },
     "execution_count": 3,
     "metadata": {},
     "output_type": "execute_result"
    }
   ],
   "source": [
    "data = init_data(fname)\n",
    "hand_crafted_cols = add_hand_feats(data)\n",
    "data.head()"
   ]
  },
  {
   "cell_type": "code",
   "execution_count": 4,
   "metadata": {},
   "outputs": [
    {
     "name": "stdout",
     "output_type": "stream",
     "text": [
      "['xprice_time_mean_6', 'xprice_time_mean_60', 'xprice_time_mean_360', 'xprice_time_mean_720', 'xprice_time_mean_1410']\n",
      "['yprice_time_mean_6', 'yprice_time_mean_60', 'yprice_time_mean_360', 'yprice_time_mean_720', 'yprice_time_mean_1410']\n",
      "['xy_relation_time_mean_6', 'xy_relation_time_mean_60', 'xy_relation_time_mean_360', 'xy_relation_time_mean_720', 'xy_relation_time_mean_1410']\n",
      "['yx_spread_time_mean_6', 'yx_spread_time_mean_60', 'yx_spread_time_mean_360', 'yx_spread_time_mean_720', 'yx_spread_time_mean_1410']\n",
      "['xy_geom_time_mean_6', 'xy_geom_time_mean_60', 'xy_geom_time_mean_360', 'xy_geom_time_mean_720', 'xy_geom_time_mean_1410']\n",
      "['xy_square_time_mean_6', 'xy_square_time_mean_60', 'xy_square_time_mean_360', 'xy_square_time_mean_720', 'xy_square_time_mean_1410']\n",
      "['xy_garmonic_time_mean_6', 'xy_garmonic_time_mean_60', 'xy_garmonic_time_mean_360', 'xy_garmonic_time_mean_720', 'xy_garmonic_time_mean_1410']\n"
     ]
    }
   ],
   "source": [
    "agg_cols = ['xprice', 'yprice', 'xy_relation', 'yx_spread', 'xy_geom', 'xy_square', 'xy_garmonic']\n",
    "\n",
    "for agg_col in agg_cols:\n",
    "    mean_cols = add_time_depended_rolling(data, agg_col, oneday_agg_periods, np.mean, 'mean')\n",
    "    for col in mean_cols:\n",
    "        data[col] = data[agg_col] - data[col]"
   ]
  },
  {
   "cell_type": "code",
   "execution_count": 5,
   "metadata": {},
   "outputs": [
    {
     "name": "stdout",
     "output_type": "stream",
     "text": [
      "['xprice_time_std_6', 'xprice_time_std_60', 'xprice_time_std_360', 'xprice_time_std_720', 'xprice_time_std_1410']\n",
      "['yprice_time_std_6', 'yprice_time_std_60', 'yprice_time_std_360', 'yprice_time_std_720', 'yprice_time_std_1410']\n",
      "['xy_relation_time_std_6', 'xy_relation_time_std_60', 'xy_relation_time_std_360', 'xy_relation_time_std_720', 'xy_relation_time_std_1410']\n",
      "['yx_spread_time_std_6', 'yx_spread_time_std_60', 'yx_spread_time_std_360', 'yx_spread_time_std_720', 'yx_spread_time_std_1410']\n",
      "['xy_geom_time_std_6', 'xy_geom_time_std_60', 'xy_geom_time_std_360', 'xy_geom_time_std_720', 'xy_geom_time_std_1410']\n",
      "['xy_square_time_std_6', 'xy_square_time_std_60', 'xy_square_time_std_360', 'xy_square_time_std_720', 'xy_square_time_std_1410']\n",
      "['xy_garmonic_time_std_6', 'xy_garmonic_time_std_60', 'xy_garmonic_time_std_360', 'xy_garmonic_time_std_720', 'xy_garmonic_time_std_1410']\n"
     ]
    }
   ],
   "source": [
    "agg_cols = ['xprice', 'yprice', 'xy_relation', 'yx_spread', 'xy_geom', 'xy_square', 'xy_garmonic']\n",
    "std_reg_const = 0.1\n",
    "std_cols = []\n",
    "\n",
    "for agg_col in agg_cols:\n",
    "    std_cols = add_time_depended_rolling(data, agg_col, oneday_agg_periods, np.std, 'std')\n",
    "    for col in std_cols:\n",
    "        data[col] = data[col].fillna(0) + std_reg_const"
   ]
  },
  {
   "cell_type": "code",
   "execution_count": 6,
   "metadata": {},
   "outputs": [],
   "source": [
    "agg_cols = ['xprice', 'yprice', 'xy_relation', 'yx_spread', 'xy_geom', 'xy_square', 'xy_garmonic']\n",
    "zscore_cols = []\n",
    "for agg_col in agg_cols:\n",
    "    for lag in oneday_agg_periods:\n",
    "        current_mean = data['{}_time_mean_{}'.format(agg_col, lag)]\n",
    "        current_std = data['{}_time_std_{}'.format(agg_col, lag)]\n",
    "        colname = '{}_time_zscore_{}'.format(agg_col, lag)\n",
    "        data[colname] = current_mean / current_std\n",
    "        zscore_cols.append(colname)"
   ]
  },
  {
   "cell_type": "code",
   "execution_count": 7,
   "metadata": {},
   "outputs": [
    {
     "name": "stdout",
     "output_type": "stream",
     "text": [
      "xprice_full_history_diff\n",
      "yprice_full_history_diff\n",
      "xy_relation_full_history_diff\n",
      "yx_spread_full_history_diff\n",
      "xy_geom_full_history_diff\n",
      "xy_square_full_history_diff\n",
      "xy_garmonic_full_history_diff\n"
     ]
    }
   ],
   "source": [
    "agg_cols = ['xprice', 'yprice', 'xy_relation', 'yx_spread', 'xy_geom', 'xy_square', 'xy_garmonic']\n",
    "\n",
    "for agg_col in agg_cols:\n",
    "    history_cols = add_full_history_diff(data, agg_col)"
   ]
  },
  {
   "cell_type": "code",
   "execution_count": 8,
   "metadata": {},
   "outputs": [
    {
     "name": "stdout",
     "output_type": "stream",
     "text": [
      "['xprice_dayly_ewma_6', 'xprice_dayly_ewma_12', 'xprice_dayly_ewma_24', 'xprice_dayly_ewma_60', 'xprice_dayly_ewma_120', 'xprice_dayly_ewma_360', 'xprice_dayly_ewma_720']\n",
      "['yprice_dayly_ewma_6', 'yprice_dayly_ewma_12', 'yprice_dayly_ewma_24', 'yprice_dayly_ewma_60', 'yprice_dayly_ewma_120', 'yprice_dayly_ewma_360', 'yprice_dayly_ewma_720']\n",
      "['xy_relation_dayly_ewma_6', 'xy_relation_dayly_ewma_12', 'xy_relation_dayly_ewma_24', 'xy_relation_dayly_ewma_60', 'xy_relation_dayly_ewma_120', 'xy_relation_dayly_ewma_360', 'xy_relation_dayly_ewma_720']\n",
      "['yx_spread_dayly_ewma_6', 'yx_spread_dayly_ewma_12', 'yx_spread_dayly_ewma_24', 'yx_spread_dayly_ewma_60', 'yx_spread_dayly_ewma_120', 'yx_spread_dayly_ewma_360', 'yx_spread_dayly_ewma_720']\n",
      "['xy_geom_dayly_ewma_6', 'xy_geom_dayly_ewma_12', 'xy_geom_dayly_ewma_24', 'xy_geom_dayly_ewma_60', 'xy_geom_dayly_ewma_120', 'xy_geom_dayly_ewma_360', 'xy_geom_dayly_ewma_720']\n",
      "['xy_square_dayly_ewma_6', 'xy_square_dayly_ewma_12', 'xy_square_dayly_ewma_24', 'xy_square_dayly_ewma_60', 'xy_square_dayly_ewma_120', 'xy_square_dayly_ewma_360', 'xy_square_dayly_ewma_720']\n",
      "['xy_garmonic_dayly_ewma_6', 'xy_garmonic_dayly_ewma_12', 'xy_garmonic_dayly_ewma_24', 'xy_garmonic_dayly_ewma_60', 'xy_garmonic_dayly_ewma_120', 'xy_garmonic_dayly_ewma_360', 'xy_garmonic_dayly_ewma_720']\n"
     ]
    }
   ],
   "source": [
    "agg_cols = ['xprice', 'yprice', 'xy_relation', 'yx_spread', 'xy_geom', 'xy_square', 'xy_garmonic']\n",
    "\n",
    "for agg_col in agg_cols:\n",
    "    ewma_cols = add_intraday_ewma(data, agg_col, intraday_agg_periods)\n",
    "    for col in ewma_cols:\n",
    "        data[col] = data[agg_col] - data[col]"
   ]
  },
  {
   "cell_type": "code",
   "execution_count": 9,
   "metadata": {},
   "outputs": [
    {
     "name": "stdout",
     "output_type": "stream",
     "text": [
      "['xprice_ewma_difpair_12_6', 'xprice_ewma_prodpair_12_6', 'xprice_ewma_difpair_24_6', 'xprice_ewma_prodpair_24_6', 'xprice_ewma_difpair_60_6', 'xprice_ewma_prodpair_60_6', 'xprice_ewma_difpair_60_24', 'xprice_ewma_prodpair_60_24', 'xprice_ewma_difpair_120_60', 'xprice_ewma_prodpair_120_60', 'xprice_ewma_difpair_360_60', 'xprice_ewma_prodpair_360_60', 'xprice_ewma_difpair_720_360', 'xprice_ewma_prodpair_720_360', 'yprice_ewma_difpair_12_6', 'yprice_ewma_prodpair_12_6', 'yprice_ewma_difpair_24_6', 'yprice_ewma_prodpair_24_6', 'yprice_ewma_difpair_60_6', 'yprice_ewma_prodpair_60_6', 'yprice_ewma_difpair_60_24', 'yprice_ewma_prodpair_60_24', 'yprice_ewma_difpair_120_60', 'yprice_ewma_prodpair_120_60', 'yprice_ewma_difpair_360_60', 'yprice_ewma_prodpair_360_60', 'yprice_ewma_difpair_720_360', 'yprice_ewma_prodpair_720_360', 'xy_relation_ewma_difpair_12_6', 'xy_relation_ewma_prodpair_12_6', 'xy_relation_ewma_difpair_24_6', 'xy_relation_ewma_prodpair_24_6', 'xy_relation_ewma_difpair_60_6', 'xy_relation_ewma_prodpair_60_6', 'xy_relation_ewma_difpair_60_24', 'xy_relation_ewma_prodpair_60_24', 'xy_relation_ewma_difpair_120_60', 'xy_relation_ewma_prodpair_120_60', 'xy_relation_ewma_difpair_360_60', 'xy_relation_ewma_prodpair_360_60', 'xy_relation_ewma_difpair_720_360', 'xy_relation_ewma_prodpair_720_360', 'yx_spread_ewma_difpair_12_6', 'yx_spread_ewma_prodpair_12_6', 'yx_spread_ewma_difpair_24_6', 'yx_spread_ewma_prodpair_24_6', 'yx_spread_ewma_difpair_60_6', 'yx_spread_ewma_prodpair_60_6', 'yx_spread_ewma_difpair_60_24', 'yx_spread_ewma_prodpair_60_24', 'yx_spread_ewma_difpair_120_60', 'yx_spread_ewma_prodpair_120_60', 'yx_spread_ewma_difpair_360_60', 'yx_spread_ewma_prodpair_360_60', 'yx_spread_ewma_difpair_720_360', 'yx_spread_ewma_prodpair_720_360', 'xy_geom_ewma_difpair_12_6', 'xy_geom_ewma_prodpair_12_6', 'xy_geom_ewma_difpair_24_6', 'xy_geom_ewma_prodpair_24_6', 'xy_geom_ewma_difpair_60_6', 'xy_geom_ewma_prodpair_60_6', 'xy_geom_ewma_difpair_60_24', 'xy_geom_ewma_prodpair_60_24', 'xy_geom_ewma_difpair_120_60', 'xy_geom_ewma_prodpair_120_60', 'xy_geom_ewma_difpair_360_60', 'xy_geom_ewma_prodpair_360_60', 'xy_geom_ewma_difpair_720_360', 'xy_geom_ewma_prodpair_720_360', 'xy_square_ewma_difpair_12_6', 'xy_square_ewma_prodpair_12_6', 'xy_square_ewma_difpair_24_6', 'xy_square_ewma_prodpair_24_6', 'xy_square_ewma_difpair_60_6', 'xy_square_ewma_prodpair_60_6', 'xy_square_ewma_difpair_60_24', 'xy_square_ewma_prodpair_60_24', 'xy_square_ewma_difpair_120_60', 'xy_square_ewma_prodpair_120_60', 'xy_square_ewma_difpair_360_60', 'xy_square_ewma_prodpair_360_60', 'xy_square_ewma_difpair_720_360', 'xy_square_ewma_prodpair_720_360', 'xy_garmonic_ewma_difpair_12_6', 'xy_garmonic_ewma_prodpair_12_6', 'xy_garmonic_ewma_difpair_24_6', 'xy_garmonic_ewma_prodpair_24_6', 'xy_garmonic_ewma_difpair_60_6', 'xy_garmonic_ewma_prodpair_60_6', 'xy_garmonic_ewma_difpair_60_24', 'xy_garmonic_ewma_prodpair_60_24', 'xy_garmonic_ewma_difpair_120_60', 'xy_garmonic_ewma_prodpair_120_60', 'xy_garmonic_ewma_difpair_360_60', 'xy_garmonic_ewma_prodpair_360_60', 'xy_garmonic_ewma_difpair_720_360', 'xy_garmonic_ewma_prodpair_720_360']\n"
     ]
    }
   ],
   "source": [
    "agg_cols = ['xprice', 'yprice', 'xy_relation', 'yx_spread', 'xy_geom', 'xy_square', 'xy_garmonic']\n",
    "lags_pair = [(12, 6), (24, 6), (60,6), (60, 24), (120,60),(360,60),(720,360)]\n",
    "lagpair_cols = []\n",
    "\n",
    "for agg_col in agg_cols:\n",
    "    for lag_from, lag_to in lags_pair:\n",
    "        lag_from_col = '{}_dayly_ewma_{}'.format(agg_col, lag_from)\n",
    "        lag_to_col = '{}_dayly_ewma_{}'.format(agg_col, lag_to)\n",
    "        \n",
    "        dif_col = '{}_ewma_difpair_{}_{}'.format(agg_col, lag_from, lag_to)\n",
    "        data[dif_col] = data[lag_from_col] - data[lag_to_col]\n",
    "        \n",
    "        prod_col = '{}_ewma_prodpair_{}_{}'.format(agg_col, lag_from, lag_to)\n",
    "        data[prod_col] = data[lag_from_col] * data[lag_to_col]\n",
    "        \n",
    "        lagpair_cols.extend([dif_col, prod_col])\n",
    "\n",
    "print(lagpair_cols)"
   ]
  },
  {
   "cell_type": "code",
   "execution_count": 10,
   "metadata": {},
   "outputs": [
    {
     "name": "stdout",
     "output_type": "stream",
     "text": [
      "['xprice_diff_1410', 'xprice_diff_2820', 'xprice_diff_4230', 'xprice_diff_5640']\n",
      "['yprice_diff_1410', 'yprice_diff_2820', 'yprice_diff_4230', 'yprice_diff_5640']\n",
      "['xy_relation_diff_1410', 'xy_relation_diff_2820', 'xy_relation_diff_4230', 'xy_relation_diff_5640']\n",
      "['yx_spread_diff_1410', 'yx_spread_diff_2820', 'yx_spread_diff_4230', 'yx_spread_diff_5640']\n",
      "['xy_geom_diff_1410', 'xy_geom_diff_2820', 'xy_geom_diff_4230', 'xy_geom_diff_5640']\n",
      "['xy_square_diff_1410', 'xy_square_diff_2820', 'xy_square_diff_4230', 'xy_square_diff_5640']\n",
      "['xy_garmonic_diff_1410', 'xy_garmonic_diff_2820', 'xy_garmonic_diff_4230', 'xy_garmonic_diff_5640']\n"
     ]
    }
   ],
   "source": [
    "agg_cols = ['xprice', 'yprice', 'xy_relation', 'yx_spread', 'xy_geom', 'xy_square', 'xy_garmonic']\n",
    "\n",
    "for agg_col in agg_cols:\n",
    "    overnight_dif_cols = add_diffs(data, agg_col, oneweek_agg_periods)\n",
    "    for col in overnight_dif_cols:\n",
    "        data[col] = data[agg_col] - data[col]"
   ]
  },
  {
   "cell_type": "code",
   "execution_count": 11,
   "metadata": {},
   "outputs": [],
   "source": [
    "data['is_monday'] = (data.timestamp.dt.weekday == 0).astype(int)\n",
    "data['is_tuesday'] = (data.timestamp.dt.weekday == 1).astype(int)\n",
    "data['is_wednesday'] = (data.timestamp.dt.weekday == 2).astype(int)\n",
    "data['is_thursday'] = (data.timestamp.dt.weekday == 3).astype(int)\n",
    "data['is_friday'] = (data.timestamp.dt.weekday == 4).astype(int)\n",
    "data['is_end_of_week'] = (data.timestamp.dt.weekday >= 2).astype(int)"
   ]
  },
  {
   "cell_type": "code",
   "execution_count": 12,
   "metadata": {},
   "outputs": [
    {
     "name": "stdout",
     "output_type": "stream",
     "text": [
      "['yprice_time_mean_360_lag_1410', 'yprice_time_mean_360_lag_2820', 'yprice_time_mean_360_lag_4230', 'yprice_time_mean_360_lag_5640']\n",
      "['xprice_time_mean_360_lag_1410', 'xprice_time_mean_360_lag_2820', 'xprice_time_mean_360_lag_4230', 'xprice_time_mean_360_lag_5640']\n"
     ]
    }
   ],
   "source": [
    "agg_cols = ['yprice_time_mean_360', 'xprice_time_mean_360']\n",
    "for agg_col in agg_cols:\n",
    "    new_cols = add_shifts(data,agg_col,oneweek_agg_periods)"
   ]
  },
  {
   "cell_type": "code",
   "execution_count": 13,
   "metadata": {},
   "outputs": [],
   "source": [
    "data['closing_indicator'] =  np.log1p(data.periods_before_closing) / 7\n",
    "data.loc[data['closing_indicator'] > 0.6, 'closing_indicator'] = 0.6\n",
    "data['closing_indicator'] = data['closing_indicator'] * 10"
   ]
  },
  {
   "cell_type": "code",
   "execution_count": 14,
   "metadata": {},
   "outputs": [
    {
     "name": "stdout",
     "output_type": "stream",
     "text": [
      "19\n"
     ]
    },
    {
     "data": {
      "text/html": [
       "<div>\n",
       "<style scoped>\n",
       "    .dataframe tbody tr th:only-of-type {\n",
       "        vertical-align: middle;\n",
       "    }\n",
       "\n",
       "    .dataframe tbody tr th {\n",
       "        vertical-align: top;\n",
       "    }\n",
       "\n",
       "    .dataframe thead th {\n",
       "        text-align: right;\n",
       "    }\n",
       "</style>\n",
       "<table border=\"1\" class=\"dataframe\">\n",
       "  <thead>\n",
       "    <tr style=\"text-align: right;\">\n",
       "      <th></th>\n",
       "      <th>train_50_percent</th>\n",
       "      <th>train_60_percent</th>\n",
       "      <th>train_70_percent</th>\n",
       "      <th>train_80_percent</th>\n",
       "      <th>train_90_percent</th>\n",
       "      <th>min_stats</th>\n",
       "      <th>max_stats</th>\n",
       "      <th>avg</th>\n",
       "    </tr>\n",
       "  </thead>\n",
       "  <tbody>\n",
       "    <tr>\n",
       "      <td>mse</td>\n",
       "      <td>0.021624</td>\n",
       "      <td>0.020502</td>\n",
       "      <td>0.016182</td>\n",
       "      <td>0.021429</td>\n",
       "      <td>0.014772</td>\n",
       "      <td>0.014771</td>\n",
       "      <td>0.021622</td>\n",
       "      <td>0.018707</td>\n",
       "    </tr>\n",
       "    <tr>\n",
       "      <td>r2</td>\n",
       "      <td>0.322848</td>\n",
       "      <td>0.795997</td>\n",
       "      <td>0.105496</td>\n",
       "      <td>2.593555</td>\n",
       "      <td>2.218181</td>\n",
       "      <td>0.105469</td>\n",
       "      <td>2.593750</td>\n",
       "      <td>1.248047</td>\n",
       "    </tr>\n",
       "  </tbody>\n",
       "</table>\n",
       "</div>"
      ],
      "text/plain": [
       "     train_50_percent  train_60_percent  train_70_percent  train_80_percent  \\\n",
       "mse          0.021624          0.020502          0.016182          0.021429   \n",
       "r2           0.322848          0.795997          0.105496          2.593555   \n",
       "\n",
       "     train_90_percent  min_stats  max_stats       avg  \n",
       "mse          0.014772   0.014771   0.021622  0.018707  \n",
       "r2           2.218181   0.105469   2.593750  1.248047  "
      ]
     },
     "execution_count": 14,
     "metadata": {},
     "output_type": "execute_result"
    }
   ],
   "source": [
    "selected_cols = [\n",
    "    'closing_indicator',\n",
    "    'xdiff_from_closing', \n",
    "    'xprice_diff_1410',\n",
    "    'xprice_time_mean_1410',\n",
    "    'xprice_time_mean_360', \n",
    "    'xprice_time_mean_360_lag_1410',\n",
    "    'xprice_time_mean_6', 'xprice_time_mean_60', 'xprice_time_mean_720', \n",
    "    'ydiff_from_closing',\n",
    "    'yprice_time_mean_1410', 'yprice_time_mean_360',  \n",
    "    'yprice_time_mean_60',\n",
    "    'yprice_time_mean_360_lag_2820', \n",
    "    'yprice_time_mean_720',\n",
    "    'yprice_time_zscore_720',\n",
    "    'yprice_time_mean_360_lag_1410',\n",
    "    'yprice_time_zscore_360',\n",
    "    'xprice'\n",
    "] \n",
    "print(len(selected_cols))\n",
    "model = Ridge(alpha=1)\n",
    "validate_model_by_pentate(model, data, selected_cols, droprows)"
   ]
  },
  {
   "cell_type": "code",
   "execution_count": 32,
   "metadata": {},
   "outputs": [],
   "source": []
  },
  {
   "cell_type": "code",
   "execution_count": null,
   "metadata": {},
   "outputs": [],
   "source": [
    "data['ylog'] = data.yprice.apply(np.log1p)\n",
    "data['xlog'] = data.xprice.apply(np.log1p)\n",
    "intraday_agg_periods = [6, 12, 24, 60, 120, 360, 720]\n",
    "from ts_features import add_intraday_ewma\n",
    "\n",
    "agg_cols = ['ylog', 'xlog']\n",
    "\n",
    "for agg_col in agg_cols:\n",
    "    ewma_cols = add_intraday_ewma(data, agg_col, intraday_agg_periods)\n",
    "    for col in ewma_cols:\n",
    "        data[col] = data[agg_col] - data[col]"
   ]
  },
  {
   "cell_type": "code",
   "execution_count": null,
   "metadata": {},
   "outputs": [],
   "source": [
    "from ts_features import add_shifts\n",
    "oneweek_agg_periods = [1410, 2820, 4230, 5640]\n",
    "intraday_agg_periods = [6, 12, 24, 60, 120, 360, 720]\n",
    "\n",
    "agg_cols = [\n",
    "    'yprice_time_mean_6', 'yprice_time_mean_60',\n",
    "    'xprice_time_mean_6', 'xprice_time_mean_60',\n",
    "    'xy_geom_time_mean_6', 'xy_geom_time_mean_60',\n",
    "    'yx_spread_time_mean_6', 'yx_spread_time_mean_60',\n",
    "]\n",
    "for agg_col in agg_cols:\n",
    "    add_shifts(data,agg_col,intraday_agg_periods)\n",
    "    add_intraday_ewma(data, agg_col, intraday_agg_periods)"
   ]
  },
  {
   "cell_type": "code",
   "execution_count": null,
   "metadata": {},
   "outputs": [],
   "source": [
    "from ts_features import add_rsi\n",
    "oneweek_agg_periods = [1410, 2820, 4230, 5640]\n",
    "intraday_agg_periods = [6, 12, 24, 60, 120, 360, 720]\n",
    "\n",
    "agg_cols = [\n",
    "    'yprice_time_mean_6', 'yprice_time_mean_60',\n",
    "    'xprice_time_mean_6', 'xprice_time_mean_60',\n",
    "    'xy_geom_time_mean_6', 'xy_geom_time_mean_60',\n",
    "    'yx_spread_time_mean_6', 'yx_spread_time_mean_60',\n",
    "]\n",
    "for agg_col in agg_cols:\n",
    "    add_rsi(data,agg_col,intraday_agg_periods)"
   ]
  },
  {
   "cell_type": "code",
   "execution_count": null,
   "metadata": {},
   "outputs": [],
   "source": [
    "from ts_features import add_shifts\n",
    "oneweek_agg_periods = [1410, 2820, 4230, 5640]\n",
    "intraday_agg_periods = [6, 12, 24, 60, 120, 360, 720]\n",
    "\n",
    "agg_cols = [\n",
    "    'yprice_time_mean_360', 'yprice_time_mean_720',\n",
    "    'xprice_time_mean_360', 'xprice_time_mean_720',\n",
    "    'xy_geom_time_mean_360','xy_geom_time_mean_720',\n",
    "    'yx_spread_time_mean_360','yx_spread_time_mean_720',\n",
    "]\n",
    "for agg_col in agg_cols:\n",
    "    add_shifts(data,agg_col,[120,360,720])\n",
    "    add_intraday_ewma(data, agg_col, [120,360, 720])"
   ]
  },
  {
   "cell_type": "code",
   "execution_count": null,
   "metadata": {},
   "outputs": [],
   "source": [
    "from ts_features import add_shifts\n",
    "\n",
    "agg_cols = [\n",
    "    'xdiff_from_closing', 'ydiff_from_closing',\n",
    "]\n",
    "for agg_col in agg_cols:\n",
    "    add_shifts(data,agg_col, oneweek_agg_periods)"
   ]
  },
  {
   "cell_type": "code",
   "execution_count": null,
   "metadata": {},
   "outputs": [],
   "source": [
    "data.to_pickle('final_heap.pkl')"
   ]
  }
 ],
 "metadata": {
  "kernelspec": {
   "display_name": "Python 3",
   "language": "python",
   "name": "python3"
  },
  "language_info": {
   "codemirror_mode": {
    "name": "ipython",
    "version": 3
   },
   "file_extension": ".py",
   "mimetype": "text/x-python",
   "name": "python",
   "nbconvert_exporter": "python",
   "pygments_lexer": "ipython3",
   "version": "3.7.1"
  }
 },
 "nbformat": 4,
 "nbformat_minor": 2
}
